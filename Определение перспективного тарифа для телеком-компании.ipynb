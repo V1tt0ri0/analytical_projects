{
 "cells": [
  {
   "cell_type": "markdown",
   "id": "dae5cc6a",
   "metadata": {},
   "source": [
    "# Определение перспективного тарифа для телеком-компании"
   ]
  },
  {
   "cell_type": "markdown",
   "id": "0d1e79ef",
   "metadata": {},
   "source": [
    "* Цель исследования-определить наиболее прибыльный тариф\n",
    "* Задача: сделать предварительный анализ тарифов на небольшой выборке клиентов\n",
    "* Описание данных: В  распоряжении данные 500 пользователей : кто они, откуда, каким тарифом пользуются, сколько звонков и сообщений каждый отправил за 2018 год\n",
    "* Оператор всегда округляет секунды до минут, а мегабайты — до гигабайт. Каждый звонок округляется отдельно: даже если он длился всего 1 секунду, будет засчитан как 1 минута.\n",
    " Для веб-трафика отдельные сессии не считаются. Вместо этого общая сумма за месяц округляется в бо́льшую сторону. Если абонент использует 1025 мегабайт в этом месяце, с него возьмут плату за 2 гигабайта. "
   ]
  },
  {
   "cell_type": "code",
   "execution_count": 1,
   "id": "2fb9a932",
   "metadata": {},
   "outputs": [],
   "source": [
    "import pandas as pd\n",
    "from scipy import stats as st\n",
    "import numpy as np\n",
    "import seaborn as sns"
   ]
  },
  {
   "cell_type": "markdown",
   "id": "881d106f",
   "metadata": {},
   "source": [
    "## 1.Ознакомление с данными"
   ]
  },
  {
   "cell_type": "code",
   "execution_count": 2,
   "id": "7cf0450b",
   "metadata": {},
   "outputs": [],
   "source": [
    "calls = pd.read_csv('https://code.s3.yandex.net/datasets/calls.csv') \n",
    "internet = pd.read_csv('https://code.s3.yandex.net/datasets/internet.csv', index_col=0) # Данные были сохранены с указанием индекса pd.DataFrame().to_csv(..., index=column)\n",
    "messages =  pd.read_csv('https://code.s3.yandex.net/datasets/messages.csv')             # Для того чтобы данные  прочитались корректно был добавлен index_col=0\n",
    "tariffs = pd.read_csv('https://code.s3.yandex.net/datasets/tariffs.csv')\n",
    "users =  pd.read_csv('https://code.s3.yandex.net/datasets/users.csv')"
   ]
  },
  {
   "cell_type": "code",
   "execution_count": 3,
   "id": "acf273e6",
   "metadata": {},
   "outputs": [
    {
     "data": {
      "text/plain": [
       "(       id   call_date  duration  user_id\n",
       " 0  1000_0  2018-07-25      0.00     1000\n",
       " 1  1000_1  2018-08-17      0.00     1000\n",
       " 2  1000_2  2018-06-11      2.85     1000\n",
       " 3  1000_3  2018-09-21     13.80     1000\n",
       " 4  1000_4  2018-12-15      5.18     1000,\n",
       "        id  mb_used session_date  user_id\n",
       " 0  1000_0   112.95   2018-11-25     1000\n",
       " 1  1000_1  1052.81   2018-09-07     1000\n",
       " 2  1000_2  1197.26   2018-06-25     1000\n",
       " 3  1000_3   550.27   2018-08-22     1000\n",
       " 4  1000_4   302.56   2018-09-24     1000,\n",
       "        id message_date  user_id\n",
       " 0  1000_0   2018-06-27     1000\n",
       " 1  1000_1   2018-10-08     1000\n",
       " 2  1000_2   2018-08-04     1000\n",
       " 3  1000_3   2018-06-16     1000\n",
       " 4  1000_4   2018-12-05     1000,\n",
       "    messages_included  mb_per_month_included  minutes_included  \\\n",
       " 0                 50                  15360               500   \n",
       " 1               1000                  30720              3000   \n",
       " \n",
       "    rub_monthly_fee  rub_per_gb  rub_per_message  rub_per_minute tariff_name  \n",
       " 0              550         200                3               3       smart  \n",
       " 1             1950         150                1               1       ultra  ,\n",
       "    user_id  age churn_date         city first_name  last_name    reg_date  \\\n",
       " 0     1000   52        NaN    Краснодар     Рафаил  Верещагин  2018-05-25   \n",
       " 1     1001   41        NaN       Москва       Иван       Ежов  2018-11-01   \n",
       " 2     1002   59        NaN  Стерлитамак    Евгений  Абрамович  2018-06-17   \n",
       " 3     1003   23        NaN       Москва      Белла   Белякова  2018-08-17   \n",
       " 4     1004   68        NaN  Новокузнецк    Татьяна   Авдеенко  2018-05-14   \n",
       " \n",
       "   tariff  \n",
       " 0  ultra  \n",
       " 1  smart  \n",
       " 2  smart  \n",
       " 3  ultra  \n",
       " 4  ultra  )"
      ]
     },
     "execution_count": 3,
     "metadata": {},
     "output_type": "execute_result"
    }
   ],
   "source": [
    "calls.head(),internet.head(), messages.head(), tariffs.head(), users.head()"
   ]
  },
  {
   "cell_type": "code",
   "execution_count": 4,
   "id": "31d28f04",
   "metadata": {},
   "outputs": [
    {
     "data": {
      "text/plain": [
       "(id            object\n",
       " call_date     object\n",
       " duration     float64\n",
       " user_id        int64\n",
       " dtype: object,\n",
       " id               object\n",
       " mb_used         float64\n",
       " session_date     object\n",
       " user_id           int64\n",
       " dtype: object,\n",
       " id              object\n",
       " message_date    object\n",
       " user_id          int64\n",
       " dtype: object,\n",
       " messages_included         int64\n",
       " mb_per_month_included     int64\n",
       " minutes_included          int64\n",
       " rub_monthly_fee           int64\n",
       " rub_per_gb                int64\n",
       " rub_per_message           int64\n",
       " rub_per_minute            int64\n",
       " tariff_name              object\n",
       " dtype: object,\n",
       " user_id        int64\n",
       " age            int64\n",
       " churn_date    object\n",
       " city          object\n",
       " first_name    object\n",
       " last_name     object\n",
       " reg_date      object\n",
       " tariff        object\n",
       " dtype: object)"
      ]
     },
     "execution_count": 4,
     "metadata": {},
     "output_type": "execute_result"
    }
   ],
   "source": [
    "calls.dtypes, internet.dtypes, messages.dtypes, tariffs.dtypes, users.dtypes"
   ]
  },
  {
   "cell_type": "code",
   "execution_count": 5,
   "id": "8389772b",
   "metadata": {},
   "outputs": [
    {
     "data": {
      "text/plain": [
       "user_id         0\n",
       "age             0\n",
       "churn_date    462\n",
       "city            0\n",
       "first_name      0\n",
       "last_name       0\n",
       "reg_date        0\n",
       "tariff          0\n",
       "dtype: int64"
      ]
     },
     "execution_count": 5,
     "metadata": {},
     "output_type": "execute_result"
    }
   ],
   "source": [
    "users.isna().sum()"
   ]
  },
  {
   "cell_type": "markdown",
   "id": "3a234f3a",
   "metadata": {},
   "source": [
    "<b> Вывод</b></p>\n",
    "При ознакомлении с данными были выявлены некоторые моменты которые нужно исправить, а именно:</p>\n",
    "1) Округлить данные и привести к нужным типам <p>\n",
    "2) Заменить пропуски<p>\n",
    "3) Добавить столбцы с необходимыми расчетами<p>\n",
    "4) Объединить таблицы для последующего анализа<p>"
   ]
  },
  {
   "cell_type": "markdown",
   "id": "69b7b6d2",
   "metadata": {},
   "source": [
    "## 2.Подготовка данных"
   ]
  },
  {
   "cell_type": "markdown",
   "id": "3e44bdf1",
   "metadata": {},
   "source": [
    "Приведем данные к нужному формату"
   ]
  },
  {
   "cell_type": "code",
   "execution_count": 6,
   "id": "cc64240e",
   "metadata": {},
   "outputs": [],
   "source": [
    "calls['call_date'] = pd.to_datetime(calls['call_date'], format='%Y-%m-%d')\n",
    "calls['month'] = calls['call_date'].dt.month"
   ]
  },
  {
   "cell_type": "markdown",
   "id": "6a95a393",
   "metadata": {},
   "source": [
    "Сгруппируем данные для последующего объединения и дальнейшего преобразования"
   ]
  },
  {
   "cell_type": "code",
   "execution_count": 9,
   "id": "14b316cc",
   "metadata": {},
   "outputs": [
    {
     "data": {
      "text/html": [
       "<div>\n",
       "<style scoped>\n",
       "    .dataframe tbody tr th:only-of-type {\n",
       "        vertical-align: middle;\n",
       "    }\n",
       "\n",
       "    .dataframe tbody tr th {\n",
       "        vertical-align: top;\n",
       "    }\n",
       "\n",
       "    .dataframe thead th {\n",
       "        text-align: right;\n",
       "    }\n",
       "</style>\n",
       "<table border=\"1\" class=\"dataframe\">\n",
       "  <thead>\n",
       "    <tr style=\"text-align: right;\">\n",
       "      <th></th>\n",
       "      <th>user_id</th>\n",
       "      <th>month</th>\n",
       "      <th>duration</th>\n",
       "    </tr>\n",
       "  </thead>\n",
       "  <tbody>\n",
       "    <tr>\n",
       "      <th>0</th>\n",
       "      <td>1000</td>\n",
       "      <td>5</td>\n",
       "      <td>150.06</td>\n",
       "    </tr>\n",
       "    <tr>\n",
       "      <th>1</th>\n",
       "      <td>1000</td>\n",
       "      <td>6</td>\n",
       "      <td>158.90</td>\n",
       "    </tr>\n",
       "    <tr>\n",
       "      <th>2</th>\n",
       "      <td>1000</td>\n",
       "      <td>7</td>\n",
       "      <td>318.80</td>\n",
       "    </tr>\n",
       "    <tr>\n",
       "      <th>3</th>\n",
       "      <td>1000</td>\n",
       "      <td>8</td>\n",
       "      <td>389.87</td>\n",
       "    </tr>\n",
       "    <tr>\n",
       "      <th>4</th>\n",
       "      <td>1000</td>\n",
       "      <td>9</td>\n",
       "      <td>440.14</td>\n",
       "    </tr>\n",
       "  </tbody>\n",
       "</table>\n",
       "</div>"
      ],
      "text/plain": [
       "   user_id  month  duration\n",
       "0     1000      5    150.06\n",
       "1     1000      6    158.90\n",
       "2     1000      7    318.80\n",
       "3     1000      8    389.87\n",
       "4     1000      9    440.14"
      ]
     },
     "execution_count": 9,
     "metadata": {},
     "output_type": "execute_result"
    }
   ],
   "source": [
    "calls = calls.groupby(['user_id','month'])['duration'].sum().reset_index()\n",
    "calls.head()"
   ]
  },
  {
   "cell_type": "markdown",
   "id": "97ba7394",
   "metadata": {},
   "source": [
    "Округлим значения по условию оператора в большую сторону и приведем к целочисленному формату"
   ]
  },
  {
   "cell_type": "code",
   "execution_count": 12,
   "id": "36172bb8",
   "metadata": {},
   "outputs": [
    {
     "data": {
      "text/html": [
       "<div>\n",
       "<style scoped>\n",
       "    .dataframe tbody tr th:only-of-type {\n",
       "        vertical-align: middle;\n",
       "    }\n",
       "\n",
       "    .dataframe tbody tr th {\n",
       "        vertical-align: top;\n",
       "    }\n",
       "\n",
       "    .dataframe thead th {\n",
       "        text-align: right;\n",
       "    }\n",
       "</style>\n",
       "<table border=\"1\" class=\"dataframe\">\n",
       "  <thead>\n",
       "    <tr style=\"text-align: right;\">\n",
       "      <th></th>\n",
       "      <th>user_id</th>\n",
       "      <th>month</th>\n",
       "      <th>duration</th>\n",
       "    </tr>\n",
       "  </thead>\n",
       "  <tbody>\n",
       "    <tr>\n",
       "      <th>0</th>\n",
       "      <td>1000</td>\n",
       "      <td>5</td>\n",
       "      <td>151</td>\n",
       "    </tr>\n",
       "    <tr>\n",
       "      <th>1</th>\n",
       "      <td>1000</td>\n",
       "      <td>6</td>\n",
       "      <td>159</td>\n",
       "    </tr>\n",
       "    <tr>\n",
       "      <th>2</th>\n",
       "      <td>1000</td>\n",
       "      <td>7</td>\n",
       "      <td>319</td>\n",
       "    </tr>\n",
       "    <tr>\n",
       "      <th>3</th>\n",
       "      <td>1000</td>\n",
       "      <td>8</td>\n",
       "      <td>390</td>\n",
       "    </tr>\n",
       "    <tr>\n",
       "      <th>4</th>\n",
       "      <td>1000</td>\n",
       "      <td>9</td>\n",
       "      <td>441</td>\n",
       "    </tr>\n",
       "  </tbody>\n",
       "</table>\n",
       "</div>"
      ],
      "text/plain": [
       "   user_id  month  duration\n",
       "0     1000      5       151\n",
       "1     1000      6       159\n",
       "2     1000      7       319\n",
       "3     1000      8       390\n",
       "4     1000      9       441"
      ]
     },
     "execution_count": 12,
     "metadata": {},
     "output_type": "execute_result"
    }
   ],
   "source": [
    "calls['duration'] = np.ceil(calls['duration'])\n",
    "calls['duration'] = calls['duration'].astype(int)\n",
    "calls.head()"
   ]
  },
  {
   "cell_type": "markdown",
   "id": "edf9d2c0",
   "metadata": {},
   "source": [
    "Приведем данные к формату времени и выведем в отдельный столбец месяц для дальнейших расчетов и объединения таблиц"
   ]
  },
  {
   "cell_type": "code",
   "execution_count": 13,
   "id": "e9532754",
   "metadata": {},
   "outputs": [
    {
     "data": {
      "text/html": [
       "<div>\n",
       "<style scoped>\n",
       "    .dataframe tbody tr th:only-of-type {\n",
       "        vertical-align: middle;\n",
       "    }\n",
       "\n",
       "    .dataframe tbody tr th {\n",
       "        vertical-align: top;\n",
       "    }\n",
       "\n",
       "    .dataframe thead th {\n",
       "        text-align: right;\n",
       "    }\n",
       "</style>\n",
       "<table border=\"1\" class=\"dataframe\">\n",
       "  <thead>\n",
       "    <tr style=\"text-align: right;\">\n",
       "      <th></th>\n",
       "      <th>user_id</th>\n",
       "      <th>month</th>\n",
       "      <th>mb_used</th>\n",
       "    </tr>\n",
       "  </thead>\n",
       "  <tbody>\n",
       "    <tr>\n",
       "      <th>0</th>\n",
       "      <td>1000</td>\n",
       "      <td>5</td>\n",
       "      <td>2253.49</td>\n",
       "    </tr>\n",
       "    <tr>\n",
       "      <th>1</th>\n",
       "      <td>1000</td>\n",
       "      <td>6</td>\n",
       "      <td>23233.77</td>\n",
       "    </tr>\n",
       "    <tr>\n",
       "      <th>2</th>\n",
       "      <td>1000</td>\n",
       "      <td>7</td>\n",
       "      <td>14003.64</td>\n",
       "    </tr>\n",
       "    <tr>\n",
       "      <th>3</th>\n",
       "      <td>1000</td>\n",
       "      <td>8</td>\n",
       "      <td>14055.93</td>\n",
       "    </tr>\n",
       "    <tr>\n",
       "      <th>4</th>\n",
       "      <td>1000</td>\n",
       "      <td>9</td>\n",
       "      <td>14568.91</td>\n",
       "    </tr>\n",
       "  </tbody>\n",
       "</table>\n",
       "</div>"
      ],
      "text/plain": [
       "   user_id  month   mb_used\n",
       "0     1000      5   2253.49\n",
       "1     1000      6  23233.77\n",
       "2     1000      7  14003.64\n",
       "3     1000      8  14055.93\n",
       "4     1000      9  14568.91"
      ]
     },
     "execution_count": 13,
     "metadata": {},
     "output_type": "execute_result"
    }
   ],
   "source": [
    "internet['session_date'] = pd.to_datetime(internet['session_date'], format='%Y-%m-%d')\n",
    "internet['month'] = internet['session_date'].dt.month\n",
    "internet = internet.groupby(['user_id','month'])['mb_used'].sum().reset_index()\n",
    "internet.head()"
   ]
  },
  {
   "cell_type": "markdown",
   "id": "43068105",
   "metadata": {},
   "source": [
    "Мегабайты необходимо округлить и привести даннеы к целочисленному формату "
   ]
  },
  {
   "cell_type": "code",
   "execution_count": 14,
   "id": "8fee947e",
   "metadata": {},
   "outputs": [
    {
     "data": {
      "text/html": [
       "<div>\n",
       "<style scoped>\n",
       "    .dataframe tbody tr th:only-of-type {\n",
       "        vertical-align: middle;\n",
       "    }\n",
       "\n",
       "    .dataframe tbody tr th {\n",
       "        vertical-align: top;\n",
       "    }\n",
       "\n",
       "    .dataframe thead th {\n",
       "        text-align: right;\n",
       "    }\n",
       "</style>\n",
       "<table border=\"1\" class=\"dataframe\">\n",
       "  <thead>\n",
       "    <tr style=\"text-align: right;\">\n",
       "      <th></th>\n",
       "      <th>user_id</th>\n",
       "      <th>month</th>\n",
       "      <th>mb_used</th>\n",
       "    </tr>\n",
       "  </thead>\n",
       "  <tbody>\n",
       "    <tr>\n",
       "      <th>0</th>\n",
       "      <td>1000</td>\n",
       "      <td>5</td>\n",
       "      <td>3072</td>\n",
       "    </tr>\n",
       "    <tr>\n",
       "      <th>1</th>\n",
       "      <td>1000</td>\n",
       "      <td>6</td>\n",
       "      <td>23552</td>\n",
       "    </tr>\n",
       "    <tr>\n",
       "      <th>2</th>\n",
       "      <td>1000</td>\n",
       "      <td>7</td>\n",
       "      <td>14336</td>\n",
       "    </tr>\n",
       "    <tr>\n",
       "      <th>3</th>\n",
       "      <td>1000</td>\n",
       "      <td>8</td>\n",
       "      <td>14336</td>\n",
       "    </tr>\n",
       "    <tr>\n",
       "      <th>4</th>\n",
       "      <td>1000</td>\n",
       "      <td>9</td>\n",
       "      <td>15360</td>\n",
       "    </tr>\n",
       "  </tbody>\n",
       "</table>\n",
       "</div>"
      ],
      "text/plain": [
       "   user_id  month  mb_used\n",
       "0     1000      5     3072\n",
       "1     1000      6    23552\n",
       "2     1000      7    14336\n",
       "3     1000      8    14336\n",
       "4     1000      9    15360"
      ]
     },
     "execution_count": 14,
     "metadata": {},
     "output_type": "execute_result"
    }
   ],
   "source": [
    "internet['mb_used'] = internet['mb_used'] / 1024\n",
    "internet['mb_used'] = np.ceil(internet['mb_used']) * 1024\n",
    "internet['mb_used'] = internet['mb_used'].astype(int)\n",
    "internet.head()"
   ]
  },
  {
   "cell_type": "markdown",
   "id": "97f2255f",
   "metadata": {},
   "source": [
    "Тип данных нужно изменить на datetime и вывести месяц "
   ]
  },
  {
   "cell_type": "code",
   "execution_count": 16,
   "id": "2b84e7ef",
   "metadata": {},
   "outputs": [
    {
     "data": {
      "text/html": [
       "<div>\n",
       "<style scoped>\n",
       "    .dataframe tbody tr th:only-of-type {\n",
       "        vertical-align: middle;\n",
       "    }\n",
       "\n",
       "    .dataframe tbody tr th {\n",
       "        vertical-align: top;\n",
       "    }\n",
       "\n",
       "    .dataframe thead th {\n",
       "        text-align: right;\n",
       "    }\n",
       "</style>\n",
       "<table border=\"1\" class=\"dataframe\">\n",
       "  <thead>\n",
       "    <tr style=\"text-align: right;\">\n",
       "      <th></th>\n",
       "      <th>id</th>\n",
       "      <th>message_date</th>\n",
       "      <th>user_id</th>\n",
       "      <th>month</th>\n",
       "    </tr>\n",
       "  </thead>\n",
       "  <tbody>\n",
       "    <tr>\n",
       "      <th>0</th>\n",
       "      <td>1000_0</td>\n",
       "      <td>2018-06-27</td>\n",
       "      <td>1000</td>\n",
       "      <td>6</td>\n",
       "    </tr>\n",
       "    <tr>\n",
       "      <th>1</th>\n",
       "      <td>1000_1</td>\n",
       "      <td>2018-10-08</td>\n",
       "      <td>1000</td>\n",
       "      <td>10</td>\n",
       "    </tr>\n",
       "    <tr>\n",
       "      <th>2</th>\n",
       "      <td>1000_2</td>\n",
       "      <td>2018-08-04</td>\n",
       "      <td>1000</td>\n",
       "      <td>8</td>\n",
       "    </tr>\n",
       "    <tr>\n",
       "      <th>3</th>\n",
       "      <td>1000_3</td>\n",
       "      <td>2018-06-16</td>\n",
       "      <td>1000</td>\n",
       "      <td>6</td>\n",
       "    </tr>\n",
       "    <tr>\n",
       "      <th>4</th>\n",
       "      <td>1000_4</td>\n",
       "      <td>2018-12-05</td>\n",
       "      <td>1000</td>\n",
       "      <td>12</td>\n",
       "    </tr>\n",
       "  </tbody>\n",
       "</table>\n",
       "</div>"
      ],
      "text/plain": [
       "       id message_date  user_id  month\n",
       "0  1000_0   2018-06-27     1000      6\n",
       "1  1000_1   2018-10-08     1000     10\n",
       "2  1000_2   2018-08-04     1000      8\n",
       "3  1000_3   2018-06-16     1000      6\n",
       "4  1000_4   2018-12-05     1000     12"
      ]
     },
     "execution_count": 16,
     "metadata": {},
     "output_type": "execute_result"
    }
   ],
   "source": [
    "messages['message_date'] = pd.to_datetime(messages['message_date'], format='%Y-%m-%d')\n",
    "messages['month'] = messages['message_date'].dt.month\n",
    "messages.head()"
   ]
  },
  {
   "cell_type": "markdown",
   "id": "db5036f4",
   "metadata": {},
   "source": [
    "Данные необходимо сгруппировать по user_id, month"
   ]
  },
  {
   "cell_type": "code",
   "execution_count": 17,
   "id": "fbec0878",
   "metadata": {},
   "outputs": [
    {
     "data": {
      "text/html": [
       "<div>\n",
       "<style scoped>\n",
       "    .dataframe tbody tr th:only-of-type {\n",
       "        vertical-align: middle;\n",
       "    }\n",
       "\n",
       "    .dataframe tbody tr th {\n",
       "        vertical-align: top;\n",
       "    }\n",
       "\n",
       "    .dataframe thead th {\n",
       "        text-align: right;\n",
       "    }\n",
       "</style>\n",
       "<table border=\"1\" class=\"dataframe\">\n",
       "  <thead>\n",
       "    <tr style=\"text-align: right;\">\n",
       "      <th></th>\n",
       "      <th>user_id</th>\n",
       "      <th>month</th>\n",
       "      <th>messages_count</th>\n",
       "    </tr>\n",
       "  </thead>\n",
       "  <tbody>\n",
       "    <tr>\n",
       "      <th>0</th>\n",
       "      <td>1000</td>\n",
       "      <td>5</td>\n",
       "      <td>22</td>\n",
       "    </tr>\n",
       "    <tr>\n",
       "      <th>1</th>\n",
       "      <td>1000</td>\n",
       "      <td>6</td>\n",
       "      <td>60</td>\n",
       "    </tr>\n",
       "    <tr>\n",
       "      <th>2</th>\n",
       "      <td>1000</td>\n",
       "      <td>7</td>\n",
       "      <td>75</td>\n",
       "    </tr>\n",
       "    <tr>\n",
       "      <th>3</th>\n",
       "      <td>1000</td>\n",
       "      <td>8</td>\n",
       "      <td>81</td>\n",
       "    </tr>\n",
       "    <tr>\n",
       "      <th>4</th>\n",
       "      <td>1000</td>\n",
       "      <td>9</td>\n",
       "      <td>57</td>\n",
       "    </tr>\n",
       "  </tbody>\n",
       "</table>\n",
       "</div>"
      ],
      "text/plain": [
       "   user_id  month  messages_count\n",
       "0     1000      5              22\n",
       "1     1000      6              60\n",
       "2     1000      7              75\n",
       "3     1000      8              81\n",
       "4     1000      9              57"
      ]
     },
     "execution_count": 17,
     "metadata": {},
     "output_type": "execute_result"
    }
   ],
   "source": [
    "messages = messages.groupby(['user_id', 'month'])['id'].count().reset_index()\n",
    "messages = messages.rename(columns={'id':'messages_count'}) \n",
    "messages.head()"
   ]
  },
  {
   "cell_type": "markdown",
   "id": "ebeb8848",
   "metadata": {},
   "source": [
    "Изменим тип данных на datetime"
   ]
  },
  {
   "cell_type": "code",
   "execution_count": 18,
   "id": "600611f3",
   "metadata": {},
   "outputs": [],
   "source": [
    "users['reg_date'] = pd.to_datetime(users['reg_date'], format='%Y-%m-%d')\n",
    "users['churn_date'] = pd.to_datetime(users['churn_date'], format='%Y-%m-%d')"
   ]
  },
  {
   "cell_type": "markdown",
   "id": "e28ee85d",
   "metadata": {},
   "source": [
    "Заполним пропуски"
   ]
  },
  {
   "cell_type": "code",
   "execution_count": 20,
   "id": "813b35bb",
   "metadata": {},
   "outputs": [
    {
     "data": {
      "text/plain": [
       "user_id         0\n",
       "age             0\n",
       "churn_date    462\n",
       "city            0\n",
       "first_name      0\n",
       "last_name       0\n",
       "reg_date        0\n",
       "tariff          0\n",
       "dtype: int64"
      ]
     },
     "execution_count": 20,
     "metadata": {},
     "output_type": "execute_result"
    }
   ],
   "source": [
    "users.isna().sum()"
   ]
  },
  {
   "cell_type": "markdown",
   "id": "e661eb10",
   "metadata": {},
   "source": [
    "Поскольку многие тарифы на момент выгрузки данных еще действовали, то как вариант можно заменить пропуски на последний день 2018 года\n"
   ]
  },
  {
   "cell_type": "code",
   "execution_count": 23,
   "id": "5d78a999",
   "metadata": {},
   "outputs": [
    {
     "data": {
      "text/html": [
       "<div>\n",
       "<style scoped>\n",
       "    .dataframe tbody tr th:only-of-type {\n",
       "        vertical-align: middle;\n",
       "    }\n",
       "\n",
       "    .dataframe tbody tr th {\n",
       "        vertical-align: top;\n",
       "    }\n",
       "\n",
       "    .dataframe thead th {\n",
       "        text-align: right;\n",
       "    }\n",
       "</style>\n",
       "<table border=\"1\" class=\"dataframe\">\n",
       "  <thead>\n",
       "    <tr style=\"text-align: right;\">\n",
       "      <th></th>\n",
       "      <th>user_id</th>\n",
       "      <th>age</th>\n",
       "      <th>churn_date</th>\n",
       "      <th>city</th>\n",
       "      <th>first_name</th>\n",
       "      <th>last_name</th>\n",
       "      <th>reg_date</th>\n",
       "      <th>tariff</th>\n",
       "    </tr>\n",
       "  </thead>\n",
       "  <tbody>\n",
       "    <tr>\n",
       "      <th>0</th>\n",
       "      <td>1000</td>\n",
       "      <td>52</td>\n",
       "      <td>2018-12-31</td>\n",
       "      <td>Краснодар</td>\n",
       "      <td>Рафаил</td>\n",
       "      <td>Верещагин</td>\n",
       "      <td>2018-05-25</td>\n",
       "      <td>ultra</td>\n",
       "    </tr>\n",
       "    <tr>\n",
       "      <th>1</th>\n",
       "      <td>1001</td>\n",
       "      <td>41</td>\n",
       "      <td>2018-12-31</td>\n",
       "      <td>Москва</td>\n",
       "      <td>Иван</td>\n",
       "      <td>Ежов</td>\n",
       "      <td>2018-11-01</td>\n",
       "      <td>smart</td>\n",
       "    </tr>\n",
       "    <tr>\n",
       "      <th>2</th>\n",
       "      <td>1002</td>\n",
       "      <td>59</td>\n",
       "      <td>2018-12-31</td>\n",
       "      <td>Стерлитамак</td>\n",
       "      <td>Евгений</td>\n",
       "      <td>Абрамович</td>\n",
       "      <td>2018-06-17</td>\n",
       "      <td>smart</td>\n",
       "    </tr>\n",
       "    <tr>\n",
       "      <th>3</th>\n",
       "      <td>1003</td>\n",
       "      <td>23</td>\n",
       "      <td>2018-12-31</td>\n",
       "      <td>Москва</td>\n",
       "      <td>Белла</td>\n",
       "      <td>Белякова</td>\n",
       "      <td>2018-08-17</td>\n",
       "      <td>ultra</td>\n",
       "    </tr>\n",
       "    <tr>\n",
       "      <th>4</th>\n",
       "      <td>1004</td>\n",
       "      <td>68</td>\n",
       "      <td>2018-12-31</td>\n",
       "      <td>Новокузнецк</td>\n",
       "      <td>Татьяна</td>\n",
       "      <td>Авдеенко</td>\n",
       "      <td>2018-05-14</td>\n",
       "      <td>ultra</td>\n",
       "    </tr>\n",
       "  </tbody>\n",
       "</table>\n",
       "</div>"
      ],
      "text/plain": [
       "   user_id  age churn_date         city first_name  last_name   reg_date  \\\n",
       "0     1000   52 2018-12-31    Краснодар     Рафаил  Верещагин 2018-05-25   \n",
       "1     1001   41 2018-12-31       Москва       Иван       Ежов 2018-11-01   \n",
       "2     1002   59 2018-12-31  Стерлитамак    Евгений  Абрамович 2018-06-17   \n",
       "3     1003   23 2018-12-31       Москва      Белла   Белякова 2018-08-17   \n",
       "4     1004   68 2018-12-31  Новокузнецк    Татьяна   Авдеенко 2018-05-14   \n",
       "\n",
       "  tariff  \n",
       "0  ultra  \n",
       "1  smart  \n",
       "2  smart  \n",
       "3  ultra  \n",
       "4  ultra  "
      ]
     },
     "execution_count": 23,
     "metadata": {},
     "output_type": "execute_result"
    }
   ],
   "source": [
    "import datetime\n",
    "users = users.fillna(datetime.datetime(2018,12,31))\n",
    "users.head()"
   ]
  },
  {
   "cell_type": "code",
   "execution_count": 24,
   "id": "c0e473ec",
   "metadata": {},
   "outputs": [
    {
     "data": {
      "text/plain": [
       "user_id                int64\n",
       "age                    int64\n",
       "churn_date    datetime64[ns]\n",
       "city                  object\n",
       "first_name            object\n",
       "last_name             object\n",
       "reg_date      datetime64[ns]\n",
       "tariff                object\n",
       "dtype: object"
      ]
     },
     "execution_count": 24,
     "metadata": {},
     "output_type": "execute_result"
    }
   ],
   "source": [
    "users.dtypes"
   ]
  },
  {
   "cell_type": "markdown",
   "id": "d12a044c",
   "metadata": {},
   "source": [
    "Объединим таблицы "
   ]
  },
  {
   "cell_type": "code",
   "execution_count": 26,
   "id": "9b7622a7",
   "metadata": {},
   "outputs": [
    {
     "data": {
      "text/html": [
       "<div>\n",
       "<style scoped>\n",
       "    .dataframe tbody tr th:only-of-type {\n",
       "        vertical-align: middle;\n",
       "    }\n",
       "\n",
       "    .dataframe tbody tr th {\n",
       "        vertical-align: top;\n",
       "    }\n",
       "\n",
       "    .dataframe thead th {\n",
       "        text-align: right;\n",
       "    }\n",
       "</style>\n",
       "<table border=\"1\" class=\"dataframe\">\n",
       "  <thead>\n",
       "    <tr style=\"text-align: right;\">\n",
       "      <th></th>\n",
       "      <th>user_id</th>\n",
       "      <th>month</th>\n",
       "      <th>duration</th>\n",
       "      <th>messages_count</th>\n",
       "      <th>mb_used</th>\n",
       "      <th>age</th>\n",
       "      <th>churn_date</th>\n",
       "      <th>city</th>\n",
       "      <th>first_name</th>\n",
       "      <th>last_name</th>\n",
       "      <th>reg_date</th>\n",
       "      <th>tariff</th>\n",
       "    </tr>\n",
       "  </thead>\n",
       "  <tbody>\n",
       "    <tr>\n",
       "      <th>0</th>\n",
       "      <td>1000</td>\n",
       "      <td>5</td>\n",
       "      <td>151.0</td>\n",
       "      <td>22.0</td>\n",
       "      <td>3072.0</td>\n",
       "      <td>52</td>\n",
       "      <td>2018-12-31</td>\n",
       "      <td>Краснодар</td>\n",
       "      <td>Рафаил</td>\n",
       "      <td>Верещагин</td>\n",
       "      <td>2018-05-25</td>\n",
       "      <td>ultra</td>\n",
       "    </tr>\n",
       "    <tr>\n",
       "      <th>1</th>\n",
       "      <td>1000</td>\n",
       "      <td>6</td>\n",
       "      <td>159.0</td>\n",
       "      <td>60.0</td>\n",
       "      <td>23552.0</td>\n",
       "      <td>52</td>\n",
       "      <td>2018-12-31</td>\n",
       "      <td>Краснодар</td>\n",
       "      <td>Рафаил</td>\n",
       "      <td>Верещагин</td>\n",
       "      <td>2018-05-25</td>\n",
       "      <td>ultra</td>\n",
       "    </tr>\n",
       "    <tr>\n",
       "      <th>2</th>\n",
       "      <td>1000</td>\n",
       "      <td>7</td>\n",
       "      <td>319.0</td>\n",
       "      <td>75.0</td>\n",
       "      <td>14336.0</td>\n",
       "      <td>52</td>\n",
       "      <td>2018-12-31</td>\n",
       "      <td>Краснодар</td>\n",
       "      <td>Рафаил</td>\n",
       "      <td>Верещагин</td>\n",
       "      <td>2018-05-25</td>\n",
       "      <td>ultra</td>\n",
       "    </tr>\n",
       "    <tr>\n",
       "      <th>3</th>\n",
       "      <td>1000</td>\n",
       "      <td>8</td>\n",
       "      <td>390.0</td>\n",
       "      <td>81.0</td>\n",
       "      <td>14336.0</td>\n",
       "      <td>52</td>\n",
       "      <td>2018-12-31</td>\n",
       "      <td>Краснодар</td>\n",
       "      <td>Рафаил</td>\n",
       "      <td>Верещагин</td>\n",
       "      <td>2018-05-25</td>\n",
       "      <td>ultra</td>\n",
       "    </tr>\n",
       "    <tr>\n",
       "      <th>4</th>\n",
       "      <td>1000</td>\n",
       "      <td>9</td>\n",
       "      <td>441.0</td>\n",
       "      <td>57.0</td>\n",
       "      <td>15360.0</td>\n",
       "      <td>52</td>\n",
       "      <td>2018-12-31</td>\n",
       "      <td>Краснодар</td>\n",
       "      <td>Рафаил</td>\n",
       "      <td>Верещагин</td>\n",
       "      <td>2018-05-25</td>\n",
       "      <td>ultra</td>\n",
       "    </tr>\n",
       "  </tbody>\n",
       "</table>\n",
       "</div>"
      ],
      "text/plain": [
       "   user_id  month  duration  messages_count  mb_used  age churn_date  \\\n",
       "0     1000      5     151.0            22.0   3072.0   52 2018-12-31   \n",
       "1     1000      6     159.0            60.0  23552.0   52 2018-12-31   \n",
       "2     1000      7     319.0            75.0  14336.0   52 2018-12-31   \n",
       "3     1000      8     390.0            81.0  14336.0   52 2018-12-31   \n",
       "4     1000      9     441.0            57.0  15360.0   52 2018-12-31   \n",
       "\n",
       "        city first_name  last_name   reg_date tariff  \n",
       "0  Краснодар     Рафаил  Верещагин 2018-05-25  ultra  \n",
       "1  Краснодар     Рафаил  Верещагин 2018-05-25  ultra  \n",
       "2  Краснодар     Рафаил  Верещагин 2018-05-25  ultra  \n",
       "3  Краснодар     Рафаил  Верещагин 2018-05-25  ultra  \n",
       "4  Краснодар     Рафаил  Верещагин 2018-05-25  ultra  "
      ]
     },
     "execution_count": 26,
     "metadata": {},
     "output_type": "execute_result"
    }
   ],
   "source": [
    "df1 = calls.merge(messages, on=['user_id', 'month'], how='outer')\n",
    "df2 = df1.merge(internet, on=['user_id', 'month'], how='outer')\n",
    "df = df2.merge(users, on='user_id', how='left')\n",
    "df.head()"
   ]
  },
  {
   "cell_type": "code",
   "execution_count": 27,
   "id": "e7fd303a",
   "metadata": {},
   "outputs": [
    {
     "data": {
      "text/plain": [
       "498"
      ]
     },
     "execution_count": 27,
     "metadata": {},
     "output_type": "execute_result"
    }
   ],
   "source": [
    "len(df['user_id'].unique()) # Было потеряно два пользователя при объединении данных"
   ]
  },
  {
   "cell_type": "code",
   "execution_count": 43,
   "id": "9118336d",
   "metadata": {},
   "outputs": [
    {
     "name": "stdout",
     "output_type": "stream",
     "text": [
      "1128\n",
      "1371\n"
     ]
    }
   ],
   "source": [
    "for i in users['user_id'].unique(): # id пользователей, которые были потеряны при объединении данных\n",
    "    if i not in df['user_id'].unique():\n",
    "        print(i)"
   ]
  },
  {
   "cell_type": "code",
   "execution_count": 50,
   "id": "9b7ae2bb",
   "metadata": {},
   "outputs": [
    {
     "data": {
      "text/html": [
       "<div>\n",
       "<style scoped>\n",
       "    .dataframe tbody tr th:only-of-type {\n",
       "        vertical-align: middle;\n",
       "    }\n",
       "\n",
       "    .dataframe tbody tr th {\n",
       "        vertical-align: top;\n",
       "    }\n",
       "\n",
       "    .dataframe thead th {\n",
       "        text-align: right;\n",
       "    }\n",
       "</style>\n",
       "<table border=\"1\" class=\"dataframe\">\n",
       "  <thead>\n",
       "    <tr style=\"text-align: right;\">\n",
       "      <th></th>\n",
       "      <th>user_id</th>\n",
       "      <th>age</th>\n",
       "      <th>churn_date</th>\n",
       "      <th>city</th>\n",
       "      <th>first_name</th>\n",
       "      <th>last_name</th>\n",
       "      <th>reg_date</th>\n",
       "      <th>tariff</th>\n",
       "    </tr>\n",
       "  </thead>\n",
       "  <tbody>\n",
       "    <tr>\n",
       "      <th>128</th>\n",
       "      <td>1128</td>\n",
       "      <td>51</td>\n",
       "      <td>2018-12-23</td>\n",
       "      <td>Волжский</td>\n",
       "      <td>Ксения</td>\n",
       "      <td>Агаева</td>\n",
       "      <td>2018-12-15</td>\n",
       "      <td>ultra</td>\n",
       "    </tr>\n",
       "    <tr>\n",
       "      <th>371</th>\n",
       "      <td>1371</td>\n",
       "      <td>50</td>\n",
       "      <td>2018-12-30</td>\n",
       "      <td>Омск</td>\n",
       "      <td>Ириней</td>\n",
       "      <td>Трофимов</td>\n",
       "      <td>2018-12-25</td>\n",
       "      <td>smart</td>\n",
       "    </tr>\n",
       "  </tbody>\n",
       "</table>\n",
       "</div>"
      ],
      "text/plain": [
       "     user_id  age churn_date      city first_name last_name   reg_date tariff\n",
       "128     1128   51 2018-12-23  Волжский     Ксения    Агаева 2018-12-15  ultra\n",
       "371     1371   50 2018-12-30      Омск     Ириней  Трофимов 2018-12-25  smart"
      ]
     },
     "execution_count": 50,
     "metadata": {},
     "output_type": "execute_result"
    }
   ],
   "source": [
    "users.query('user_id == 1128 or user_id == 1371') "
   ]
  },
  {
   "cell_type": "code",
   "execution_count": 73,
   "id": "d6f9dfd8",
   "metadata": {},
   "outputs": [
    {
     "data": {
      "text/plain": [
       "user_id             0\n",
       "month               0\n",
       "duration           40\n",
       "messages_count    497\n",
       "mb_used            11\n",
       "age                 0\n",
       "churn_date          0\n",
       "city                0\n",
       "first_name          0\n",
       "last_name           0\n",
       "reg_date            0\n",
       "tariff              0\n",
       "dtype: int64"
      ]
     },
     "execution_count": 73,
     "metadata": {},
     "output_type": "execute_result"
    }
   ],
   "source": [
    "df.isna().sum() # Есть пропуски в объединенной таблице"
   ]
  },
  {
   "cell_type": "code",
   "execution_count": 74,
   "id": "4c10e505",
   "metadata": {},
   "outputs": [],
   "source": [
    "df.fillna(0, inplace=True) # Заменим пропуски на нули. В дальнейшем их можно отфильтровать "
   ]
  },
  {
   "cell_type": "code",
   "execution_count": 75,
   "id": "dd7547e2",
   "metadata": {},
   "outputs": [
    {
     "data": {
      "text/html": [
       "<div>\n",
       "<style scoped>\n",
       "    .dataframe tbody tr th:only-of-type {\n",
       "        vertical-align: middle;\n",
       "    }\n",
       "\n",
       "    .dataframe tbody tr th {\n",
       "        vertical-align: top;\n",
       "    }\n",
       "\n",
       "    .dataframe thead th {\n",
       "        text-align: right;\n",
       "    }\n",
       "</style>\n",
       "<table border=\"1\" class=\"dataframe\">\n",
       "  <thead>\n",
       "    <tr style=\"text-align: right;\">\n",
       "      <th></th>\n",
       "      <th>user_id</th>\n",
       "      <th>month</th>\n",
       "      <th>duration</th>\n",
       "      <th>messages_count</th>\n",
       "      <th>mb_used</th>\n",
       "      <th>age</th>\n",
       "      <th>churn_date</th>\n",
       "      <th>city</th>\n",
       "      <th>first_name</th>\n",
       "      <th>last_name</th>\n",
       "      <th>reg_date</th>\n",
       "      <th>tariff</th>\n",
       "    </tr>\n",
       "  </thead>\n",
       "  <tbody>\n",
       "    <tr>\n",
       "      <th>0</th>\n",
       "      <td>1000</td>\n",
       "      <td>5</td>\n",
       "      <td>151.0</td>\n",
       "      <td>22.0</td>\n",
       "      <td>3072.0</td>\n",
       "      <td>52</td>\n",
       "      <td>2018-12-31</td>\n",
       "      <td>Краснодар</td>\n",
       "      <td>Рафаил</td>\n",
       "      <td>Верещагин</td>\n",
       "      <td>2018-05-25</td>\n",
       "      <td>ultra</td>\n",
       "    </tr>\n",
       "    <tr>\n",
       "      <th>1</th>\n",
       "      <td>1000</td>\n",
       "      <td>6</td>\n",
       "      <td>159.0</td>\n",
       "      <td>60.0</td>\n",
       "      <td>23552.0</td>\n",
       "      <td>52</td>\n",
       "      <td>2018-12-31</td>\n",
       "      <td>Краснодар</td>\n",
       "      <td>Рафаил</td>\n",
       "      <td>Верещагин</td>\n",
       "      <td>2018-05-25</td>\n",
       "      <td>ultra</td>\n",
       "    </tr>\n",
       "    <tr>\n",
       "      <th>2</th>\n",
       "      <td>1000</td>\n",
       "      <td>7</td>\n",
       "      <td>319.0</td>\n",
       "      <td>75.0</td>\n",
       "      <td>14336.0</td>\n",
       "      <td>52</td>\n",
       "      <td>2018-12-31</td>\n",
       "      <td>Краснодар</td>\n",
       "      <td>Рафаил</td>\n",
       "      <td>Верещагин</td>\n",
       "      <td>2018-05-25</td>\n",
       "      <td>ultra</td>\n",
       "    </tr>\n",
       "    <tr>\n",
       "      <th>3</th>\n",
       "      <td>1000</td>\n",
       "      <td>8</td>\n",
       "      <td>390.0</td>\n",
       "      <td>81.0</td>\n",
       "      <td>14336.0</td>\n",
       "      <td>52</td>\n",
       "      <td>2018-12-31</td>\n",
       "      <td>Краснодар</td>\n",
       "      <td>Рафаил</td>\n",
       "      <td>Верещагин</td>\n",
       "      <td>2018-05-25</td>\n",
       "      <td>ultra</td>\n",
       "    </tr>\n",
       "    <tr>\n",
       "      <th>4</th>\n",
       "      <td>1000</td>\n",
       "      <td>9</td>\n",
       "      <td>441.0</td>\n",
       "      <td>57.0</td>\n",
       "      <td>15360.0</td>\n",
       "      <td>52</td>\n",
       "      <td>2018-12-31</td>\n",
       "      <td>Краснодар</td>\n",
       "      <td>Рафаил</td>\n",
       "      <td>Верещагин</td>\n",
       "      <td>2018-05-25</td>\n",
       "      <td>ultra</td>\n",
       "    </tr>\n",
       "  </tbody>\n",
       "</table>\n",
       "</div>"
      ],
      "text/plain": [
       "   user_id  month  duration  messages_count  mb_used  age churn_date  \\\n",
       "0     1000      5     151.0            22.0   3072.0   52 2018-12-31   \n",
       "1     1000      6     159.0            60.0  23552.0   52 2018-12-31   \n",
       "2     1000      7     319.0            75.0  14336.0   52 2018-12-31   \n",
       "3     1000      8     390.0            81.0  14336.0   52 2018-12-31   \n",
       "4     1000      9     441.0            57.0  15360.0   52 2018-12-31   \n",
       "\n",
       "        city first_name  last_name   reg_date tariff  \n",
       "0  Краснодар     Рафаил  Верещагин 2018-05-25  ultra  \n",
       "1  Краснодар     Рафаил  Верещагин 2018-05-25  ultra  \n",
       "2  Краснодар     Рафаил  Верещагин 2018-05-25  ultra  \n",
       "3  Краснодар     Рафаил  Верещагин 2018-05-25  ultra  \n",
       "4  Краснодар     Рафаил  Верещагин 2018-05-25  ultra  "
      ]
     },
     "execution_count": 75,
     "metadata": {},
     "output_type": "execute_result"
    }
   ],
   "source": [
    "df.head()"
   ]
  },
  {
   "cell_type": "code",
   "execution_count": 77,
   "id": "debbee58",
   "metadata": {},
   "outputs": [
    {
     "data": {
      "text/plain": [
       "user_id                    int64\n",
       "month                      int64\n",
       "duration                 float64\n",
       "messages_count           float64\n",
       "mb_used                  float64\n",
       "age                        int64\n",
       "churn_date        datetime64[ns]\n",
       "city                      object\n",
       "first_name                object\n",
       "last_name                 object\n",
       "reg_date          datetime64[ns]\n",
       "tariff                    object\n",
       "dtype: object"
      ]
     },
     "execution_count": 77,
     "metadata": {},
     "output_type": "execute_result"
    }
   ],
   "source": [
    "df.dtypes # Некторые типы данных неподходящие "
   ]
  },
  {
   "cell_type": "code",
   "execution_count": 78,
   "id": "648287c3",
   "metadata": {},
   "outputs": [],
   "source": [
    "df['messages_count'] = df['messages_count'].astype(int)\n",
    "df['mb_used'] = df['mb_used'].astype(int)\n",
    "df['duration'] = df['duration'].astype(int) "
   ]
  },
  {
   "cell_type": "markdown",
   "id": "2b184d79",
   "metadata": {},
   "source": [
    "Чтобы добавить столбец с расчетом прибыли в зависимости от тарифа нужно создать функцию для строки "
   ]
  },
  {
   "cell_type": "code",
   "execution_count": 79,
   "id": "9e3b4b1e",
   "metadata": {},
   "outputs": [],
   "source": [
    "def calc(df):\n",
    "    \n",
    "    tariff = df['tariff']\n",
    "    \n",
    "    if tariff == 'smart':\n",
    "        \n",
    "        if df['messages_count'] > 50 and df['duration'] <= 500 and df['mb_used'] <= 15360:\n",
    "            revenue = (df['messages_count'] - 50) * 3 + 550\n",
    "        if df['messages_count'] <= 50 and df['duration'] > 500 and df['mb_used'] <= 15360:\n",
    "            revenue = (df['duration'] - 500) * 3 + 550\n",
    "        if df['messages_count'] <= 50 and df['duration'] <= 500 and df['mb_used'] > 15360:  \n",
    "            revenue = (df['mb_used'] - 15360) / 1024 * 200 + 550\n",
    "        if df['messages_count'] <= 50 and df['duration'] <= 500 and df['mb_used'] <= 15360: \n",
    "            revenue = 550\n",
    "        if df['messages_count'] <= 50 and df['duration'] > 500 and df['mb_used'] > 15360:\n",
    "            revenue = (df['duration'] - 500) * 3 + (df['mb_used'] - 15360) / 1024 * 200 + 550\n",
    "        if df['messages_count'] > 50 and df['duration'] <= 500 and df['mb_used'] > 15360: \n",
    "            revenue = (df['messages_count'] - 50) * 3 + (df['mb_used'] - 15360) / 1024 * 200 + 550\n",
    "        if df['messages_count'] > 50 and df['duration'] > 500 and df['mb_used'] <= 15360: \n",
    "            revenue = (df['messages_count'] - 50) * 3 + (df['duration'] - 500) * 3 + 550\n",
    "        if df['messages_count'] > 50 and df['duration'] > 500 and df['mb_used'] > 15360:\n",
    "            revenue = (df['duration'] - 500) * 3 + (df['messages_count'] - 50) * 3 + (df['mb_used'] - 15360) / 1024 * 200 + 550\n",
    "            \n",
    "    if tariff == 'ultra':\n",
    "        \n",
    "        if df['messages_count'] > 1000 and df['duration'] <= 3000 and df['mb_used'] <= 30720:\n",
    "            revenue = (df['messages_count'] - 1000) * 1 + 1950\n",
    "        if df['messages_count'] <= 1000 and df['duration'] > 3000 and df['mb_used'] <= 30720:\n",
    "            revenue = (df['duration'] - 3000) * 1 + 1950\n",
    "        if df['messages_count'] <= 1000 and df['duration'] <= 3000 and df['mb_used'] > 30720:  \n",
    "            revenue = (df['mb_used'] - 30720) / 1024 * 150 + 1950\n",
    "        if df['messages_count'] <= 1000 and df['duration'] <= 3000 and df['mb_used'] <= 30720: \n",
    "            revenue = 1950\n",
    "        if df['messages_count'] <= 1000 and df['duration'] > 3000 and df['mb_used'] > 30720:\n",
    "            revenue = (df['duration'] - 3000) * 1 + (df['mb_used'] - 30720) / 1024 * 150 + 1950\n",
    "        if df['messages_count'] > 1000 and df['duration'] <= 3000 and df['mb_used'] > 30720: \n",
    "            revenue = (df['messages_count'] - 1000) * 1 + (df['mb_used'] - 30720) / 1024 * 150 + 1950\n",
    "        if df['messages_count'] > 1000 and df['duration'] > 3000 and df['mb_used'] <= 30720: \n",
    "            revenue = (df['messages_count'] - 1000) * 1 + (df['duration'] - 3000) * 1 + 1950\n",
    "        if df['messages_count'] > 1000 and df['duration'] > 3000 and df['mb_used'] > 30720:\n",
    "            revenue = (df['duration'] - 3000) * 1 + (df['messages_count'] - 1000) * 1 + (df['mb_used'] - 30720) / 1024 * 150 + 1950\n",
    "   \n",
    "    return revenue\n",
    "        "
   ]
  },
  {
   "cell_type": "code",
   "execution_count": 81,
   "id": "8f9e9236",
   "metadata": {},
   "outputs": [],
   "source": [
    "df['revenue'] = df.apply(calc, axis=1) # Применяем функцию построчно"
   ]
  },
  {
   "cell_type": "code",
   "execution_count": 82,
   "id": "7552a1c2",
   "metadata": {},
   "outputs": [
    {
     "data": {
      "text/plain": [
       "user_id                    int64\n",
       "month                      int64\n",
       "duration                   int32\n",
       "messages_count             int32\n",
       "mb_used                    int32\n",
       "age                        int64\n",
       "churn_date        datetime64[ns]\n",
       "city                      object\n",
       "first_name                object\n",
       "last_name                 object\n",
       "reg_date          datetime64[ns]\n",
       "tariff                    object\n",
       "revenue                  float64\n",
       "dtype: object"
      ]
     },
     "execution_count": 82,
     "metadata": {},
     "output_type": "execute_result"
    }
   ],
   "source": [
    "df.dtypes"
   ]
  },
  {
   "cell_type": "code",
   "execution_count": 83,
   "id": "7446297f",
   "metadata": {},
   "outputs": [],
   "source": [
    "df['revenue'] =  df['revenue'].astype(int)"
   ]
  },
  {
   "cell_type": "code",
   "execution_count": 84,
   "id": "47935b9b",
   "metadata": {},
   "outputs": [
    {
     "data": {
      "text/html": [
       "<div>\n",
       "<style scoped>\n",
       "    .dataframe tbody tr th:only-of-type {\n",
       "        vertical-align: middle;\n",
       "    }\n",
       "\n",
       "    .dataframe tbody tr th {\n",
       "        vertical-align: top;\n",
       "    }\n",
       "\n",
       "    .dataframe thead th {\n",
       "        text-align: right;\n",
       "    }\n",
       "</style>\n",
       "<table border=\"1\" class=\"dataframe\">\n",
       "  <thead>\n",
       "    <tr style=\"text-align: right;\">\n",
       "      <th></th>\n",
       "      <th>user_id</th>\n",
       "      <th>month</th>\n",
       "      <th>duration</th>\n",
       "      <th>messages_count</th>\n",
       "      <th>mb_used</th>\n",
       "      <th>age</th>\n",
       "      <th>churn_date</th>\n",
       "      <th>city</th>\n",
       "      <th>first_name</th>\n",
       "      <th>last_name</th>\n",
       "      <th>reg_date</th>\n",
       "      <th>tariff</th>\n",
       "      <th>revenue</th>\n",
       "    </tr>\n",
       "  </thead>\n",
       "  <tbody>\n",
       "    <tr>\n",
       "      <th>0</th>\n",
       "      <td>1000</td>\n",
       "      <td>5</td>\n",
       "      <td>151</td>\n",
       "      <td>22</td>\n",
       "      <td>3072</td>\n",
       "      <td>52</td>\n",
       "      <td>2018-12-31</td>\n",
       "      <td>Краснодар</td>\n",
       "      <td>Рафаил</td>\n",
       "      <td>Верещагин</td>\n",
       "      <td>2018-05-25</td>\n",
       "      <td>ultra</td>\n",
       "      <td>1950</td>\n",
       "    </tr>\n",
       "    <tr>\n",
       "      <th>1</th>\n",
       "      <td>1000</td>\n",
       "      <td>6</td>\n",
       "      <td>159</td>\n",
       "      <td>60</td>\n",
       "      <td>23552</td>\n",
       "      <td>52</td>\n",
       "      <td>2018-12-31</td>\n",
       "      <td>Краснодар</td>\n",
       "      <td>Рафаил</td>\n",
       "      <td>Верещагин</td>\n",
       "      <td>2018-05-25</td>\n",
       "      <td>ultra</td>\n",
       "      <td>1950</td>\n",
       "    </tr>\n",
       "    <tr>\n",
       "      <th>2</th>\n",
       "      <td>1000</td>\n",
       "      <td>7</td>\n",
       "      <td>319</td>\n",
       "      <td>75</td>\n",
       "      <td>14336</td>\n",
       "      <td>52</td>\n",
       "      <td>2018-12-31</td>\n",
       "      <td>Краснодар</td>\n",
       "      <td>Рафаил</td>\n",
       "      <td>Верещагин</td>\n",
       "      <td>2018-05-25</td>\n",
       "      <td>ultra</td>\n",
       "      <td>1950</td>\n",
       "    </tr>\n",
       "    <tr>\n",
       "      <th>3</th>\n",
       "      <td>1000</td>\n",
       "      <td>8</td>\n",
       "      <td>390</td>\n",
       "      <td>81</td>\n",
       "      <td>14336</td>\n",
       "      <td>52</td>\n",
       "      <td>2018-12-31</td>\n",
       "      <td>Краснодар</td>\n",
       "      <td>Рафаил</td>\n",
       "      <td>Верещагин</td>\n",
       "      <td>2018-05-25</td>\n",
       "      <td>ultra</td>\n",
       "      <td>1950</td>\n",
       "    </tr>\n",
       "    <tr>\n",
       "      <th>4</th>\n",
       "      <td>1000</td>\n",
       "      <td>9</td>\n",
       "      <td>441</td>\n",
       "      <td>57</td>\n",
       "      <td>15360</td>\n",
       "      <td>52</td>\n",
       "      <td>2018-12-31</td>\n",
       "      <td>Краснодар</td>\n",
       "      <td>Рафаил</td>\n",
       "      <td>Верещагин</td>\n",
       "      <td>2018-05-25</td>\n",
       "      <td>ultra</td>\n",
       "      <td>1950</td>\n",
       "    </tr>\n",
       "  </tbody>\n",
       "</table>\n",
       "</div>"
      ],
      "text/plain": [
       "   user_id  month  duration  messages_count  mb_used  age churn_date  \\\n",
       "0     1000      5       151              22     3072   52 2018-12-31   \n",
       "1     1000      6       159              60    23552   52 2018-12-31   \n",
       "2     1000      7       319              75    14336   52 2018-12-31   \n",
       "3     1000      8       390              81    14336   52 2018-12-31   \n",
       "4     1000      9       441              57    15360   52 2018-12-31   \n",
       "\n",
       "        city first_name  last_name   reg_date tariff  revenue  \n",
       "0  Краснодар     Рафаил  Верещагин 2018-05-25  ultra     1950  \n",
       "1  Краснодар     Рафаил  Верещагин 2018-05-25  ultra     1950  \n",
       "2  Краснодар     Рафаил  Верещагин 2018-05-25  ultra     1950  \n",
       "3  Краснодар     Рафаил  Верещагин 2018-05-25  ultra     1950  \n",
       "4  Краснодар     Рафаил  Верещагин 2018-05-25  ultra     1950  "
      ]
     },
     "execution_count": 84,
     "metadata": {},
     "output_type": "execute_result"
    }
   ],
   "source": [
    "df.head()"
   ]
  },
  {
   "cell_type": "markdown",
   "id": "0c751b53",
   "metadata": {},
   "source": [
    "<b> Вывод</b></p>\n",
    "На этапе подготовки данных были окргулены необходимые значения согласно условию оператора и приведены в нужный формат. Также были приведены к временному формату данные дат. Для последующего объединения данных и анализа в таблицах были выведены месяца. Кроме того, были добавлены данные с расчетами прибыли. Для этоого была создана функция и применена построчно. Данные были объединены и подготовлены для анализа."
   ]
  },
  {
   "cell_type": "markdown",
   "id": "3f68e646",
   "metadata": {},
   "source": [
    "## 3. EDA"
   ]
  },
  {
   "cell_type": "markdown",
   "id": "7335c2da",
   "metadata": {},
   "source": [
    "Следует рассмотреть статистики данных, сгруппированных по тарифному признаку. На данном этапе будут сравниваться  распределения средних значений, продолжительности звонка, мегабайт и сообщений, а также значения их дисперсий и стандартных отклонений."
   ]
  },
  {
   "cell_type": "code",
   "execution_count": 86,
   "id": "4cd1b04e",
   "metadata": {},
   "outputs": [],
   "source": [
    "smart_users = df.query('tariff == \"smart\"')\n",
    "ultra_users = df.query('tariff == \"ultra\"')\n",
    "smart_pivot = smart_users.pivot_table(index='month', values = ['duration','messages_count', 'mb_used'], aggfunc=['mean', 'var', 'std'])\n",
    "smart_pivot = smart_pivot.round()\n",
    "ultra_pivot = ultra_users.pivot_table(index='month', values = ['duration','messages_count', 'mb_used'], aggfunc=['mean', 'var', 'std'])\n",
    "ultra_pivot = ultra_pivot.round()"
   ]
  },
  {
   "cell_type": "code",
   "execution_count": 87,
   "id": "bf415542",
   "metadata": {},
   "outputs": [
    {
     "name": "stdout",
     "output_type": "stream",
     "text": [
      "\n"
     ]
    },
    {
     "data": {
      "image/png": "[encoded data removed]",
      "text/plain": [
       "<Figure size 432x288 with 1 Axes>"
      ]
     },
     "metadata": {
      "needs_background": "light"
     },
     "output_type": "display_data"
    },
    {
     "data": {
      "image/png": "[encoded data removed]",
      "text/plain": [
       "<Figure size 432x288 with 1 Axes>"
      ]
     },
     "metadata": {
      "needs_background": "light"
     },
     "output_type": "display_data"
    },
    {
     "data": {
      "image/png": "[encoded data removed]",
      "text/plain": [
       "<Figure size 432x288 with 1 Axes>"
      ]
     },
     "metadata": {
      "needs_background": "light"
     },
     "output_type": "display_data"
    },
    {
     "data": {
      "image/png": "[encoded data removed]",
      "text/plain": [
       "<Figure size 432x288 with 1 Axes>"
      ]
     },
     "metadata": {
      "needs_background": "light"
     },
     "output_type": "display_data"
    },
    {
     "data": {
      "image/png": "[encoded data removed]",
      "text/plain": [
       "<Figure size 432x288 with 1 Axes>"
      ]
     },
     "metadata": {
      "needs_background": "light"
     },
     "output_type": "display_data"
    },
    {
     "data": {
      "image/png": "[encoded data removed]",
      "text/plain": [
       "<Figure size 432x288 with 1 Axes>"
      ]
     },
     "metadata": {
      "needs_background": "light"
     },
     "output_type": "display_data"
    },
    {
     "data": {
      "image/png": "[encoded data removed]",
      "text/plain": [
       "<Figure size 432x288 with 1 Axes>"
      ]
     },
     "metadata": {
      "needs_background": "light"
     },
     "output_type": "display_data"
    },
    {
     "data": {
      "image/png": "[encoded data removed]",
      "text/plain": [
       "<Figure size 432x288 with 1 Axes>"
      ]
     },
     "metadata": {
      "needs_background": "light"
     },
     "output_type": "display_data"
    },
    {
     "data": {
      "image/png": "[encoded data removed]",
      "text/plain": [
       "<Figure size 432x288 with 1 Axes>"
      ]
     },
     "metadata": {
      "needs_background": "light"
     },
     "output_type": "display_data"
    }
   ],
   "source": [
    "smart_duration = smart_pivot['mean','duration']\n",
    "ultra_duration = ultra_pivot['mean','duration']\n",
    "\n",
    "duration_plot = pd.DataFrame({'smart':smart_duration, 'ultra':ultra_duration})\n",
    "duration_plot.plot(kind='hist', bins=12, alpha=0.7, title='Распределение средних значений продолжительности звонков')\n",
    "\n",
    "mb_used_plot = pd.DataFrame({'smart':smart_pivot['mean','mb_used'], 'ultra':ultra_pivot['mean','mb_used']})\n",
    "mb_used_plot.plot(kind='hist', bins=12, alpha=0.7, title='Распределение средних значений мегабайт')\n",
    "\n",
    "messages_plot = pd.DataFrame({'smart':smart_pivot['mean','messages_count'], 'ultra':ultra_pivot['mean','messages_count']})\n",
    "messages_plot.plot(kind='hist', bins=12, alpha=0.7, title='Распределение средних значений сообщений')\n",
    "\n",
    "duration_plot_var = pd.DataFrame({'smart':smart_pivot['var','duration'], 'ultra':ultra_pivot['var','duration']})\n",
    "duration_plot_var.plot(kind='hist', bins=12, alpha=0.7, title='Распределение дисперсий продолжительности звонков')\n",
    "\n",
    "messages_plot_var = pd.DataFrame({'smart':smart_pivot['var','messages_count'], 'ultra':ultra_pivot['var','messages_count']})\n",
    "duration_plot_var.plot(kind='hist', bins=12, alpha=0.7, title='Распределение дисперсий сообщений')\n",
    "\n",
    "mb_plot_var = pd.DataFrame({'smart':smart_pivot['var','mb_used'], 'ultra':ultra_pivot['var','mb_used']})\n",
    "mb_plot_var.plot(kind='hist', bins=12, alpha=0.7, title='Распределение дисперсий мегабайт')\n",
    "\n",
    "duration_std = pd.DataFrame({'smart':smart_pivot['std','duration'], 'ultra':ultra_pivot['std','duration']})\n",
    "duration_std.plot(kind='hist', bins=12, alpha=0.7, title='Распределение отклонений продолжительности звонков')\n",
    "\n",
    "messages_std = pd.DataFrame({'smart':smart_pivot['std','messages_count'], 'ultra':ultra_pivot['std','messages_count']})\n",
    "messages_std.plot(kind='hist', bins=12, alpha=0.7, title='Распределение отклонений сообщений')\n",
    "\n",
    "mb_std = pd.DataFrame({'smart':smart_pivot['std','mb_used'], 'ultra':ultra_pivot['std','mb_used']})\n",
    "mb_std.plot(kind='hist', bins=12, alpha=0.7, title='Распределение отклонений мегабайт')\n",
    "print()"
   ]
  },
  {
   "cell_type": "markdown",
   "id": "d699857c",
   "metadata": {},
   "source": [
    "Распределения демонстрируют существенные отличия в данных. Средние значения двух тарифов распределений достаточно удалены друг от друга. В целом массивы значений также показывают значительные различия. В каждом распределении тариф \"Ультра\" смещен относительно тарифа \"Смарт\" в большую сторону. Существуют некоторые пересечения, но можно сделать предположение, что данные по тарифам имеют существенные различия. Поэтому можно проверить гипотезу о равенстве средних прибылей для тарифов."
   ]
  },
  {
   "cell_type": "markdown",
   "id": "7d2ef534",
   "metadata": {},
   "source": [
    "Далее можно сравнить средние значения показателей по месяцам при помощи столбчатой диаграммы."
   ]
  },
  {
   "cell_type": "code",
   "execution_count": 89,
   "id": "c165865f",
   "metadata": {},
   "outputs": [
    {
     "name": "stdout",
     "output_type": "stream",
     "text": [
      "\n"
     ]
    },
    {
     "data": {
      "image/png": "[encoded data removed]",
      "text/plain": [
       "<Figure size 432x288 with 1 Axes>"
      ]
     },
     "metadata": {
      "needs_background": "light"
     },
     "output_type": "display_data"
    },
    {
     "data": {
      "image/png": "[encoded data removed]",
      "text/plain": [
       "<Figure size 432x288 with 1 Axes>"
      ]
     },
     "metadata": {
      "needs_background": "light"
     },
     "output_type": "display_data"
    },
    {
     "data": {
      "image/png": "[encoded data removed]",
      "text/plain": [
       "<Figure size 432x288 with 1 Axes>"
      ]
     },
     "metadata": {
      "needs_background": "light"
     },
     "output_type": "display_data"
    },
    {
     "data": {
      "image/png": "[encoded data removed]",
      "text/plain": [
       "<Figure size 432x288 with 1 Axes>"
      ]
     },
     "metadata": {
      "needs_background": "light"
     },
     "output_type": "display_data"
    },
    {
     "data": {
      "image/png": "[encoded data removed]",
      "text/plain": [
       "<Figure size 432x288 with 1 Axes>"
      ]
     },
     "metadata": {
      "needs_background": "light"
     },
     "output_type": "display_data"
    },
    {
     "data": {
      "image/png": "[encoded data removed]",
      "text/plain": [
       "<Figure size 432x288 with 1 Axes>"
      ]
     },
     "metadata": {
      "needs_background": "light"
     },
     "output_type": "display_data"
    },
    {
     "data": {
      "image/png": "[encoded data removed]",
      "text/plain": [
       "<Figure size 432x288 with 1 Axes>"
      ]
     },
     "metadata": {
      "needs_background": "light"
     },
     "output_type": "display_data"
    },
    {
     "data": {
      "image/png": "[encoded data removed]",
      "text/plain": [
       "<Figure size 432x288 with 1 Axes>"
      ]
     },
     "metadata": {
      "needs_background": "light"
     },
     "output_type": "display_data"
    },
    {
     "data": {
      "image/png": "[encoded data removed]",
      "text/plain": [
       "<Figure size 432x288 with 1 Axes>"
      ]
     },
     "metadata": {
      "needs_background": "light"
     },
     "output_type": "display_data"
    }
   ],
   "source": [
    "duration_plot.plot.bar(rot=0, title='Средняя продолжительность звонка для тарифов smart/ultra по месяцам')\n",
    "\n",
    "mb_used_plot.plot.bar(rot=0, title='Средний расход мб для тарифов smart/ultra по месяцам')\n",
    "\n",
    "messages_plot.plot.bar(rot=0, title='Средний расход смс для тарифов smart/ultra по месяцам')\n",
    "\n",
    "duration_plot_var.plot.bar(rot=0, title='Значения дисперсий продолжительности звонка для тарифов smart/ultra по месяцам')\n",
    "\n",
    "messages_plot_var.plot.bar(rot=0, title='Значения дисперсий сообщений для тарифов smart/ultra по месяцам')\n",
    "\n",
    "mb_plot_var.plot.bar(rot=0, title='Значения дисперсий мб для тарифов smart/ultra по месяцам')\n",
    "\n",
    "duration_std.plot.bar(rot=0, title='Значения отклонений продолжительности звонка для тарифов smart/ultra по месяцам')\n",
    "\n",
    "messages_std.plot.bar(rot=0, title='Значения отклонений сообщений для тарифов smart/ultra по месяцам')\n",
    "\n",
    "mb_std.plot.bar(rot=0, title='Значение отклонений мб для тарифов smart/ultra по месяцам')\n",
    "print()"
   ]
  },
  {
   "cell_type": "markdown",
   "id": "922d50bd",
   "metadata": {},
   "source": [
    "Графики показывают, что значения  тарифов по месяцам также значительно отличаются. Значения тарифа \"Ультра\" почти для каждого месяца и для каждого параметра больше чем для тарифа \"Смарт\""
   ]
  },
  {
   "cell_type": "markdown",
   "id": "6509af66",
   "metadata": {},
   "source": [
    "<b> Вывод</b></p>\n",
    "На этапе анализа данных было выявлено, что распределения демонстрируют существенные отличия в данных. Средние значения двух тарифов распределений достаточно удалены друг от друга. В целом массивы значений также показывают значительные различия. В каждом распределении тариф \"Ультра\" смещен относительно тарифа \"Смарт\" в большую сторону. Существуют некоторые пересечения, но можно сделать предположение, что данные по тарифам имеют существенные различия. Поэтому можно проверить гипотезу о равенстве средних прибылей для тарифов.Сравнение значений по месяцам показало, что значения  тарифов по месяцам также значительно отличаются. Значения тарифа \"Ультра\" почти для каждого месяца и для каждого параметра больше чем для тарифа \"Смарт\"."
   ]
  },
  {
   "cell_type": "markdown",
   "id": "ac56c3b9",
   "metadata": {},
   "source": [
    "## 4. Проверка гипотез на статистические различия"
   ]
  },
  {
   "cell_type": "markdown",
   "id": "aaec5418",
   "metadata": {},
   "source": [
    "1)Средняя выручка пользователей тарифов «Ультра» и «Смарт» различаются;</p>\n",
    "2)Средняя выручка пользователей из Москвы отличается от выручки пользователей из других регионов."
   ]
  },
  {
   "cell_type": "code",
   "execution_count": 90,
   "id": "03f97123",
   "metadata": {},
   "outputs": [
    {
     "name": "stdout",
     "output_type": "stream",
     "text": [
      "\n"
     ]
    },
    {
     "data": {
      "image/png": "[encoded data removed]",
      "text/plain": [
       "<Figure size 432x288 with 1 Axes>"
      ]
     },
     "metadata": {
      "needs_background": "light"
     },
     "output_type": "display_data"
    }
   ],
   "source": [
    "ultra_users['revenue'].hist(alpha=1)\n",
    "smart_users['revenue'].hist(alpha=0.5)\n",
    "print()"
   ]
  },
  {
   "cell_type": "code",
   "execution_count": 91,
   "id": "53b6aee9",
   "metadata": {},
   "outputs": [
    {
     "name": "stdout",
     "output_type": "stream",
     "text": [
      "\n"
     ]
    },
    {
     "data": {
      "image/png": "[encoded data removed]",
      "text/plain": [
       "<Figure size 432x288 with 1 Axes>"
      ]
     },
     "metadata": {
      "needs_background": "light"
     },
     "output_type": "display_data"
    }
   ],
   "source": [
    "df.query('city == \"Москва\"')['revenue'].hist(alpha=0.7)\n",
    "df.query('city != \"Москва\"')['revenue'].hist(alpha=0.5)\n",
    "print()"
   ]
  },
  {
   "cell_type": "markdown",
   "id": "c05f39b8",
   "metadata": {},
   "source": [
    "Проверим гипотезу о равенстве средних двух выборок. <p>\n",
    "H0: Средняя выручка \"Ультра\" = Средней выручке \"Смарт\"<p>\n",
    "Н1: Средняя выручка \"Ультра\"!= Средней выручке \"Смарт\"<p>\n"
   ]
  },
  {
   "cell_type": "code",
   "execution_count": 92,
   "id": "856fed0d",
   "metadata": {},
   "outputs": [
    {
     "name": "stdout",
     "output_type": "stream",
     "text": [
      "p-значение:  1.513773301175091e-178\n",
      "Отвергаем нулевую гипотезу\n"
     ]
    }
   ],
   "source": [
    "alpha = 0.05 \n",
    "\n",
    "sample_1 = ultra_users['revenue']\n",
    "sample_2 = smart_users['revenue']\n",
    "results_1 = st.ttest_ind( sample_1, sample_2)\n",
    "\n",
    "print('p-значение: ', results_1.pvalue)\n",
    "\n",
    "if results_1.pvalue < alpha:\n",
    "    print(\"Отвергаем нулевую гипотезу\")\n",
    "else:\n",
    "    print(\"Не получилось отвергнуть нулевую гипотезу\")"
   ]
  },
  {
   "cell_type": "code",
   "execution_count": 93,
   "id": "dcc8da11",
   "metadata": {},
   "outputs": [
    {
     "data": {
      "text/plain": [
       "2070.1522842639592"
      ]
     },
     "execution_count": 93,
     "metadata": {},
     "output_type": "execute_result"
    }
   ],
   "source": [
    "sample_1.mean() # Ultra"
   ]
  },
  {
   "cell_type": "code",
   "execution_count": 94,
   "id": "786e0c50",
   "metadata": {},
   "outputs": [
    {
     "data": {
      "text/plain": [
       "1257.5886047554957"
      ]
     },
     "execution_count": 94,
     "metadata": {},
     "output_type": "execute_result"
    }
   ],
   "source": [
    "sample_2.mean() # Smart"
   ]
  },
  {
   "cell_type": "markdown",
   "id": "1ddf9aee",
   "metadata": {},
   "source": [
    " Тест показал, что гипотезу о равенстве выборок можно отвергнуть. Таким образом, можно сделать вывод о том, что скорее всего средняя выручка с тарифа \"Ультра\" больше чем средняя выручка с тарифа \"Смарт\", основываясь на средних выборок. Значит тариф \"Ультра\" выгоднее для оператора."
   ]
  },
  {
   "cell_type": "markdown",
   "id": "621a093a",
   "metadata": {},
   "source": [
    "Полученное p-value говорит о том, что вероятно получить такие или большие различия в данных  случайно крайне малы. Это дает основание отвергнуть нулевую гипотезу о равенстве средних выручки двух тарифов. "
   ]
  },
  {
   "cell_type": "markdown",
   "id": "e3720a77",
   "metadata": {},
   "source": [
    "Проверим гипотезу о равенстве средних выручки двух тарифов для абонентов из Москвы и из других регионов.<p>\n",
    "Н0: Средняя выручка абонентов из Москвы = Средней выручке абонентов из других регионов<p>\n",
    "Н1: Средняя выручка абонентов из Москвы != Средней выручке абонентов из других регионов<p>"
   ]
  },
  {
   "cell_type": "code",
   "execution_count": 95,
   "id": "15448257",
   "metadata": {},
   "outputs": [
    {
     "name": "stdout",
     "output_type": "stream",
     "text": [
      "p-значение:  0.4836504757759247\n",
      "Не получилось отвергнуть нулевую гипотезу\n"
     ]
    }
   ],
   "source": [
    "alpha = 0.05 \n",
    "\n",
    "sample_3 = df.query('city == \"Москва\"')['revenue']\n",
    "sample_4 = df.query('city != \"Москва\"')['revenue']\n",
    "results_2 = st.ttest_ind( sample_3, sample_4)\n",
    "\n",
    "print('p-значение: ', results_2.pvalue)\n",
    "\n",
    "if results_2.pvalue < alpha:\n",
    "    print(\"Отвергаем нулевую гипотезу\")\n",
    "else:\n",
    "    print(\"Не получилось отвергнуть нулевую гипотезу\")"
   ]
  },
  {
   "cell_type": "markdown",
   "id": "af87960a",
   "metadata": {},
   "source": [
    "Полученное p-value говорит о том, что  вероятность получить такие либо большие различия случайно в данных выше порогового значения. Поэтому нет оснований отвергнуть нулевую гипотезу о равенстве средних выручки для абонентов из Москвы и других регионов."
   ]
  },
  {
   "cell_type": "markdown",
   "id": "7d990622",
   "metadata": {},
   "source": [
    "Этап проверки гипотез выявил, что гипотезу о равенстве средних значений  выручки для  тарифов \"Смарт\" и \"Ультра\" можно отвергнуть. Что может говорить об их различии."
   ]
  },
  {
   "cell_type": "markdown",
   "id": "d3e9c79d",
   "metadata": {},
   "source": [
    "## 5. Общий вывод"
   ]
  },
  {
   "cell_type": "markdown",
   "id": "e4439c22",
   "metadata": {},
   "source": [
    "В процессе выполнения проекта была поэтапно проведена работа над данными для выполнения поставленных задач заказчика. На этапе ознакомления с данными были выявлены некоторые недостатки в данных и намечен алгоритм их подготовки для дальнейшего анализа. На этапе подготовки данных данные были приведены к нужным типам,объединены, были заполнены пропуски, проведены необходимые расчеты и добавлены в общую таблицу. На этапе анализа данных было выявлено, что распределения демонстрируют существенные отличия в данных. \n",
    "* Средние значения двух тарифов распределений достаточно удалены друг от друга. В целом массивы значений также показывают значительные различия. \n",
    "* В каждом распределении тариф \"Ультра\" смещен относительно тарифа \"Смарт\" в большую сторону. Существуют некоторые пересечения, но можно сделать предположение, что данные по тарифам имеют существенные различия. Поэтому можно проверить гипотезу о равенстве средних прибылей для тарифов.\n",
    "* Сравнение значений по месяцам показало, что значения  тарифов по месяцам также значительно отличаются. Значения тарифа \"Ультра\" почти для каждого месяца и для каждого параметра больше чем для тарифа \"Смарт\". \n",
    "* Проверка гипотез показала, что гипотезу о равенстве средних выручки тарифов \"Смарт\" и \"Ультра\" можно отвергнуть. Что говорит о существенных различиях этих совокупностей.Кроме того, тест показал, что гипотезу о равенстве выборок можно отвергнуть. \n",
    "* Таким образом, можно сделать вывод о том, что скорее всего средняя выручка с тарифа \"Ультра\" больше чем средняя выручка с тарифа \"Смарт\", основываясь на средних выборок. \n",
    "* Значит тариф \"Ультра\" выгоднее для опрератора. Гипотезу о равенстве средних выручки для абонентов из Москвы и других регионов нет оснований отвергнуть. Что говорит о вероятностном сходстве этих совокупностей. "
   ]
  },
  {
   "cell_type": "code",
   "execution_count": null,
   "id": "a39f6893",
   "metadata": {},
   "outputs": [],
   "source": []
  }
 ],
 "metadata": {
  "kernelspec": {
   "display_name": "Python 3 (ipykernel)",
   "language": "python",
   "name": "python3"
  },
  "language_info": {
   "codemirror_mode": {
    "name": "ipython",
    "version": 3
   },
   "file_extension": ".py",
   "mimetype": "text/x-python",
   "name": "python",
   "nbconvert_exporter": "python",
   "pygments_lexer": "ipython3",
   "version": "3.9.7"
  }
 },
 "nbformat": 4,
 "nbformat_minor": 5
}
