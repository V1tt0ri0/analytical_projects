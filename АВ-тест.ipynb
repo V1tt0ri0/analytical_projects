{
 "cells": [
  {
   "cell_type": "markdown",
   "id": "443f41ec",
   "metadata": {},
   "source": [
    "# A/B-тест для интернет-магазина"
   ]
  },
  {
   "cell_type": "markdown",
   "id": "6fbebb4c",
   "metadata": {},
   "source": [
    "<p><b>Описание</b>\n",
    "<p>Нужно проверить гипотезы для увеличения прибыли.Есть датасеты с данными по гипотезам и датасет результатов A/B теста\n",
    "<p><b>Задачи</b>\n",
    "<p>Часть I.Провести приоритезацию гипотез при помощи фреймворка ICE и RICE\n",
    "<p>Часть II.Проанализировать результаты A/B теста(построить нужные графики, провести статистические тесты)\n",
    "<p> 1.Построить график кумулятивной выручки по группам. Сделайте выводы и предположения.\n",
    "<p>    2.Построить  график кумулятивного среднего чека по группам. Сделать выводы и предположения.\n",
    "   <p> 3.Построить  график относительного изменения кумулятивного среднего чека группы B к группе A. Сделать выводы и предположения.\n",
    "    <p>4.Построить  график кумулятивной конверсии по группам. Сделать выводы и предположения.\n",
    "    <p>5.Построить  график относительного изменения кумулятивной конверсии группы B к группе A. Сделать выводы и предположения.\n",
    "    <p>6.Построить  точечный график количества заказов по пользователям. Сделать выводы и предположения.\n",
    "    <p>7.Посчитать 95-й и 99-й перцентили количества заказов на пользователя. Выбрать границу для определения аномальных пользователей.\n",
    "    <p>8.Построить точечный график стоимостей заказов. Сделать выводы и предположения.\n",
    "    <p>9.Посчитать 95-й и 99-й перцентили стоимости заказов. Выбрать границу для определения аномальных заказов.\n",
    "    <p>10.Посчитать статистическую значимость различий в конверсии между группами по «сырым» данным. Сделать выводы и предположения.\n",
    "    <p>11.Посчитать статистическую значимость различий в среднем чеке заказа между группами по «сырым» данным. Сделать выводы и предположения.\n",
    "    <p>12.Посчитать статистическую значимость различий в конверсии между группами по «очищенным» данным. Сделать выводы и предположения.\n",
    "    <p>13.Посчитать статистическую значимость различий в среднем чеке заказа между группами по «очищенным» данным. Сделать выводы и предположения.\n",
    "    <p>14.Принять решение по результатам теста. Варианты решений: 1. Остановить тест, зафиксировать победу одной из групп. 2. Остановить тест, зафиксировать отсутствие различий между группами. 3. Продолжить тест."
   ]
  },
  {
   "cell_type": "code",
   "execution_count": 1,
   "id": "6977dc46",
   "metadata": {},
   "outputs": [],
   "source": [
    "import pandas as pd\n",
    "import scipy.stats as stats\n",
    "import datetime as dt\n",
    "import numpy as np\n",
    "import matplotlib.pyplot as plt"
   ]
  },
  {
   "cell_type": "code",
   "execution_count": 2,
   "id": "4ad88931",
   "metadata": {},
   "outputs": [],
   "source": [
    "hypothesis = pd.read_csv('https://code.s3.yandex.net/datasets/hypothesis.csv')\n",
    "orders = pd.read_csv('https://code.s3.yandex.net/datasets/orders.csv')\n",
    "visitors = pd.read_csv('https://code.s3.yandex.net/datasets/visitors.csv')"
   ]
  },
  {
   "cell_type": "markdown",
   "id": "3bd1b305",
   "metadata": {},
   "source": [
    "# Часть I<p> Провести приоритезацию гипотез при помощи фреймворка ICE и RICE "
   ]
  },
  {
   "cell_type": "code",
   "execution_count": 3,
   "id": "8530bc5c",
   "metadata": {},
   "outputs": [],
   "source": [
    "pd.options.display.max_colwidth = 100"
   ]
  },
  {
   "cell_type": "code",
   "execution_count": 4,
   "id": "27978d0a",
   "metadata": {},
   "outputs": [
    {
     "data": {
      "text/html": [
       "<div>\n",
       "<style scoped>\n",
       "    .dataframe tbody tr th:only-of-type {\n",
       "        vertical-align: middle;\n",
       "    }\n",
       "\n",
       "    .dataframe tbody tr th {\n",
       "        vertical-align: top;\n",
       "    }\n",
       "\n",
       "    .dataframe thead th {\n",
       "        text-align: right;\n",
       "    }\n",
       "</style>\n",
       "<table border=\"1\" class=\"dataframe\">\n",
       "  <thead>\n",
       "    <tr style=\"text-align: right;\">\n",
       "      <th></th>\n",
       "      <th>Hypothesis</th>\n",
       "      <th>Reach</th>\n",
       "      <th>Impact</th>\n",
       "      <th>Confidence</th>\n",
       "      <th>Efforts</th>\n",
       "    </tr>\n",
       "  </thead>\n",
       "  <tbody>\n",
       "    <tr>\n",
       "      <th>0</th>\n",
       "      <td>Добавить два новых канала привлечения трафика, что позволит привлекать на 30% больше пользователей</td>\n",
       "      <td>3</td>\n",
       "      <td>10</td>\n",
       "      <td>8</td>\n",
       "      <td>6</td>\n",
       "    </tr>\n",
       "    <tr>\n",
       "      <th>1</th>\n",
       "      <td>Запустить собственную службу доставки, что сократит срок доставки заказов</td>\n",
       "      <td>2</td>\n",
       "      <td>5</td>\n",
       "      <td>4</td>\n",
       "      <td>10</td>\n",
       "    </tr>\n",
       "    <tr>\n",
       "      <th>2</th>\n",
       "      <td>Добавить блоки рекомендаций товаров на сайт интернет магазина, чтобы повысить конверсию и средни...</td>\n",
       "      <td>8</td>\n",
       "      <td>3</td>\n",
       "      <td>7</td>\n",
       "      <td>3</td>\n",
       "    </tr>\n",
       "    <tr>\n",
       "      <th>3</th>\n",
       "      <td>Изменить структура категорий, что увеличит конверсию, т.к. пользователи быстрее найдут нужный товар</td>\n",
       "      <td>8</td>\n",
       "      <td>3</td>\n",
       "      <td>3</td>\n",
       "      <td>8</td>\n",
       "    </tr>\n",
       "    <tr>\n",
       "      <th>4</th>\n",
       "      <td>Изменить цвет фона главной страницы, чтобы увеличить вовлеченность пользователей</td>\n",
       "      <td>3</td>\n",
       "      <td>1</td>\n",
       "      <td>1</td>\n",
       "      <td>1</td>\n",
       "    </tr>\n",
       "    <tr>\n",
       "      <th>5</th>\n",
       "      <td>Добавить страницу отзывов клиентов о магазине, что позволит увеличить количество заказов</td>\n",
       "      <td>3</td>\n",
       "      <td>2</td>\n",
       "      <td>2</td>\n",
       "      <td>3</td>\n",
       "    </tr>\n",
       "    <tr>\n",
       "      <th>6</th>\n",
       "      <td>Показать на главной странице баннеры с актуальными акциями и распродажами, чтобы увеличить конве...</td>\n",
       "      <td>5</td>\n",
       "      <td>3</td>\n",
       "      <td>8</td>\n",
       "      <td>3</td>\n",
       "    </tr>\n",
       "    <tr>\n",
       "      <th>7</th>\n",
       "      <td>Добавить форму подписки на все основные страницы, чтобы собрать базу клиентов для email-рассылок</td>\n",
       "      <td>10</td>\n",
       "      <td>7</td>\n",
       "      <td>8</td>\n",
       "      <td>5</td>\n",
       "    </tr>\n",
       "    <tr>\n",
       "      <th>8</th>\n",
       "      <td>Запустить акцию, дающую скидку на товар в день рождения</td>\n",
       "      <td>1</td>\n",
       "      <td>9</td>\n",
       "      <td>9</td>\n",
       "      <td>5</td>\n",
       "    </tr>\n",
       "  </tbody>\n",
       "</table>\n",
       "</div>"
      ],
      "text/plain": [
       "                                                                                            Hypothesis  \\\n",
       "0   Добавить два новых канала привлечения трафика, что позволит привлекать на 30% больше пользователей   \n",
       "1                            Запустить собственную службу доставки, что сократит срок доставки заказов   \n",
       "2  Добавить блоки рекомендаций товаров на сайт интернет магазина, чтобы повысить конверсию и средни...   \n",
       "3  Изменить структура категорий, что увеличит конверсию, т.к. пользователи быстрее найдут нужный товар   \n",
       "4                     Изменить цвет фона главной страницы, чтобы увеличить вовлеченность пользователей   \n",
       "5             Добавить страницу отзывов клиентов о магазине, что позволит увеличить количество заказов   \n",
       "6  Показать на главной странице баннеры с актуальными акциями и распродажами, чтобы увеличить конве...   \n",
       "7     Добавить форму подписки на все основные страницы, чтобы собрать базу клиентов для email-рассылок   \n",
       "8                                              Запустить акцию, дающую скидку на товар в день рождения   \n",
       "\n",
       "   Reach  Impact  Confidence  Efforts  \n",
       "0      3      10           8        6  \n",
       "1      2       5           4       10  \n",
       "2      8       3           7        3  \n",
       "3      8       3           3        8  \n",
       "4      3       1           1        1  \n",
       "5      3       2           2        3  \n",
       "6      5       3           8        3  \n",
       "7     10       7           8        5  \n",
       "8      1       9           9        5  "
      ]
     },
     "execution_count": 4,
     "metadata": {},
     "output_type": "execute_result"
    }
   ],
   "source": [
    "hypothesis"
   ]
  },
  {
   "cell_type": "code",
   "execution_count": 5,
   "id": "edf895b3",
   "metadata": {},
   "outputs": [
    {
     "data": {
      "text/html": [
       "<div>\n",
       "<style scoped>\n",
       "    .dataframe tbody tr th:only-of-type {\n",
       "        vertical-align: middle;\n",
       "    }\n",
       "\n",
       "    .dataframe tbody tr th {\n",
       "        vertical-align: top;\n",
       "    }\n",
       "\n",
       "    .dataframe thead th {\n",
       "        text-align: right;\n",
       "    }\n",
       "</style>\n",
       "<table border=\"1\" class=\"dataframe\">\n",
       "  <thead>\n",
       "    <tr style=\"text-align: right;\">\n",
       "      <th></th>\n",
       "      <th>Hypothesis</th>\n",
       "      <th>Reach</th>\n",
       "      <th>Impact</th>\n",
       "      <th>Confidence</th>\n",
       "      <th>Efforts</th>\n",
       "      <th>ICE</th>\n",
       "    </tr>\n",
       "  </thead>\n",
       "  <tbody>\n",
       "    <tr>\n",
       "      <th>8</th>\n",
       "      <td>Запустить акцию, дающую скидку на товар в день рождения</td>\n",
       "      <td>1</td>\n",
       "      <td>9</td>\n",
       "      <td>9</td>\n",
       "      <td>5</td>\n",
       "      <td>16.2</td>\n",
       "    </tr>\n",
       "    <tr>\n",
       "      <th>0</th>\n",
       "      <td>Добавить два новых канала привлечения трафика, что позволит привлекать на 30% больше пользователей</td>\n",
       "      <td>3</td>\n",
       "      <td>10</td>\n",
       "      <td>8</td>\n",
       "      <td>6</td>\n",
       "      <td>13.3</td>\n",
       "    </tr>\n",
       "    <tr>\n",
       "      <th>7</th>\n",
       "      <td>Добавить форму подписки на все основные страницы, чтобы собрать базу клиентов для email-рассылок</td>\n",
       "      <td>10</td>\n",
       "      <td>7</td>\n",
       "      <td>8</td>\n",
       "      <td>5</td>\n",
       "      <td>11.2</td>\n",
       "    </tr>\n",
       "    <tr>\n",
       "      <th>6</th>\n",
       "      <td>Показать на главной странице баннеры с актуальными акциями и распродажами, чтобы увеличить конве...</td>\n",
       "      <td>5</td>\n",
       "      <td>3</td>\n",
       "      <td>8</td>\n",
       "      <td>3</td>\n",
       "      <td>8.0</td>\n",
       "    </tr>\n",
       "    <tr>\n",
       "      <th>2</th>\n",
       "      <td>Добавить блоки рекомендаций товаров на сайт интернет магазина, чтобы повысить конверсию и средни...</td>\n",
       "      <td>8</td>\n",
       "      <td>3</td>\n",
       "      <td>7</td>\n",
       "      <td>3</td>\n",
       "      <td>7.0</td>\n",
       "    </tr>\n",
       "    <tr>\n",
       "      <th>1</th>\n",
       "      <td>Запустить собственную службу доставки, что сократит срок доставки заказов</td>\n",
       "      <td>2</td>\n",
       "      <td>5</td>\n",
       "      <td>4</td>\n",
       "      <td>10</td>\n",
       "      <td>2.0</td>\n",
       "    </tr>\n",
       "    <tr>\n",
       "      <th>5</th>\n",
       "      <td>Добавить страницу отзывов клиентов о магазине, что позволит увеличить количество заказов</td>\n",
       "      <td>3</td>\n",
       "      <td>2</td>\n",
       "      <td>2</td>\n",
       "      <td>3</td>\n",
       "      <td>1.3</td>\n",
       "    </tr>\n",
       "    <tr>\n",
       "      <th>3</th>\n",
       "      <td>Изменить структура категорий, что увеличит конверсию, т.к. пользователи быстрее найдут нужный товар</td>\n",
       "      <td>8</td>\n",
       "      <td>3</td>\n",
       "      <td>3</td>\n",
       "      <td>8</td>\n",
       "      <td>1.1</td>\n",
       "    </tr>\n",
       "    <tr>\n",
       "      <th>4</th>\n",
       "      <td>Изменить цвет фона главной страницы, чтобы увеличить вовлеченность пользователей</td>\n",
       "      <td>3</td>\n",
       "      <td>1</td>\n",
       "      <td>1</td>\n",
       "      <td>1</td>\n",
       "      <td>1.0</td>\n",
       "    </tr>\n",
       "  </tbody>\n",
       "</table>\n",
       "</div>"
      ],
      "text/plain": [
       "                                                                                            Hypothesis  \\\n",
       "8                                              Запустить акцию, дающую скидку на товар в день рождения   \n",
       "0   Добавить два новых канала привлечения трафика, что позволит привлекать на 30% больше пользователей   \n",
       "7     Добавить форму подписки на все основные страницы, чтобы собрать базу клиентов для email-рассылок   \n",
       "6  Показать на главной странице баннеры с актуальными акциями и распродажами, чтобы увеличить конве...   \n",
       "2  Добавить блоки рекомендаций товаров на сайт интернет магазина, чтобы повысить конверсию и средни...   \n",
       "1                            Запустить собственную службу доставки, что сократит срок доставки заказов   \n",
       "5             Добавить страницу отзывов клиентов о магазине, что позволит увеличить количество заказов   \n",
       "3  Изменить структура категорий, что увеличит конверсию, т.к. пользователи быстрее найдут нужный товар   \n",
       "4                     Изменить цвет фона главной страницы, чтобы увеличить вовлеченность пользователей   \n",
       "\n",
       "   Reach  Impact  Confidence  Efforts   ICE  \n",
       "8      1       9           9        5  16.2  \n",
       "0      3      10           8        6  13.3  \n",
       "7     10       7           8        5  11.2  \n",
       "6      5       3           8        3   8.0  \n",
       "2      8       3           7        3   7.0  \n",
       "1      2       5           4       10   2.0  \n",
       "5      3       2           2        3   1.3  \n",
       "3      8       3           3        8   1.1  \n",
       "4      3       1           1        1   1.0  "
      ]
     },
     "execution_count": 5,
     "metadata": {},
     "output_type": "execute_result"
    }
   ],
   "source": [
    "hypothesis['ICE']=(hypothesis['Impact'] * hypothesis['Confidence'] / hypothesis['Efforts']).round(1)\n",
    "hypothesis.sort_values('ICE', ascending=False)"
   ]
  },
  {
   "cell_type": "code",
   "execution_count": 6,
   "id": "026e65a0",
   "metadata": {},
   "outputs": [
    {
     "data": {
      "text/html": [
       "<div>\n",
       "<style scoped>\n",
       "    .dataframe tbody tr th:only-of-type {\n",
       "        vertical-align: middle;\n",
       "    }\n",
       "\n",
       "    .dataframe tbody tr th {\n",
       "        vertical-align: top;\n",
       "    }\n",
       "\n",
       "    .dataframe thead th {\n",
       "        text-align: right;\n",
       "    }\n",
       "</style>\n",
       "<table border=\"1\" class=\"dataframe\">\n",
       "  <thead>\n",
       "    <tr style=\"text-align: right;\">\n",
       "      <th></th>\n",
       "      <th>Hypothesis</th>\n",
       "      <th>Reach</th>\n",
       "      <th>Impact</th>\n",
       "      <th>Confidence</th>\n",
       "      <th>Efforts</th>\n",
       "      <th>ICE</th>\n",
       "      <th>RICE</th>\n",
       "    </tr>\n",
       "  </thead>\n",
       "  <tbody>\n",
       "    <tr>\n",
       "      <th>7</th>\n",
       "      <td>Добавить форму подписки на все основные страницы, чтобы собрать базу клиентов для email-рассылок</td>\n",
       "      <td>10</td>\n",
       "      <td>7</td>\n",
       "      <td>8</td>\n",
       "      <td>5</td>\n",
       "      <td>11.2</td>\n",
       "      <td>112.0</td>\n",
       "    </tr>\n",
       "    <tr>\n",
       "      <th>2</th>\n",
       "      <td>Добавить блоки рекомендаций товаров на сайт интернет магазина, чтобы повысить конверсию и средни...</td>\n",
       "      <td>8</td>\n",
       "      <td>3</td>\n",
       "      <td>7</td>\n",
       "      <td>3</td>\n",
       "      <td>7.0</td>\n",
       "      <td>56.0</td>\n",
       "    </tr>\n",
       "    <tr>\n",
       "      <th>0</th>\n",
       "      <td>Добавить два новых канала привлечения трафика, что позволит привлекать на 30% больше пользователей</td>\n",
       "      <td>3</td>\n",
       "      <td>10</td>\n",
       "      <td>8</td>\n",
       "      <td>6</td>\n",
       "      <td>13.3</td>\n",
       "      <td>40.0</td>\n",
       "    </tr>\n",
       "    <tr>\n",
       "      <th>6</th>\n",
       "      <td>Показать на главной странице баннеры с актуальными акциями и распродажами, чтобы увеличить конве...</td>\n",
       "      <td>5</td>\n",
       "      <td>3</td>\n",
       "      <td>8</td>\n",
       "      <td>3</td>\n",
       "      <td>8.0</td>\n",
       "      <td>40.0</td>\n",
       "    </tr>\n",
       "    <tr>\n",
       "      <th>8</th>\n",
       "      <td>Запустить акцию, дающую скидку на товар в день рождения</td>\n",
       "      <td>1</td>\n",
       "      <td>9</td>\n",
       "      <td>9</td>\n",
       "      <td>5</td>\n",
       "      <td>16.2</td>\n",
       "      <td>16.2</td>\n",
       "    </tr>\n",
       "    <tr>\n",
       "      <th>3</th>\n",
       "      <td>Изменить структура категорий, что увеличит конверсию, т.к. пользователи быстрее найдут нужный товар</td>\n",
       "      <td>8</td>\n",
       "      <td>3</td>\n",
       "      <td>3</td>\n",
       "      <td>8</td>\n",
       "      <td>1.1</td>\n",
       "      <td>9.0</td>\n",
       "    </tr>\n",
       "    <tr>\n",
       "      <th>1</th>\n",
       "      <td>Запустить собственную службу доставки, что сократит срок доставки заказов</td>\n",
       "      <td>2</td>\n",
       "      <td>5</td>\n",
       "      <td>4</td>\n",
       "      <td>10</td>\n",
       "      <td>2.0</td>\n",
       "      <td>4.0</td>\n",
       "    </tr>\n",
       "    <tr>\n",
       "      <th>5</th>\n",
       "      <td>Добавить страницу отзывов клиентов о магазине, что позволит увеличить количество заказов</td>\n",
       "      <td>3</td>\n",
       "      <td>2</td>\n",
       "      <td>2</td>\n",
       "      <td>3</td>\n",
       "      <td>1.3</td>\n",
       "      <td>4.0</td>\n",
       "    </tr>\n",
       "    <tr>\n",
       "      <th>4</th>\n",
       "      <td>Изменить цвет фона главной страницы, чтобы увеличить вовлеченность пользователей</td>\n",
       "      <td>3</td>\n",
       "      <td>1</td>\n",
       "      <td>1</td>\n",
       "      <td>1</td>\n",
       "      <td>1.0</td>\n",
       "      <td>3.0</td>\n",
       "    </tr>\n",
       "  </tbody>\n",
       "</table>\n",
       "</div>"
      ],
      "text/plain": [
       "                                                                                            Hypothesis  \\\n",
       "7     Добавить форму подписки на все основные страницы, чтобы собрать базу клиентов для email-рассылок   \n",
       "2  Добавить блоки рекомендаций товаров на сайт интернет магазина, чтобы повысить конверсию и средни...   \n",
       "0   Добавить два новых канала привлечения трафика, что позволит привлекать на 30% больше пользователей   \n",
       "6  Показать на главной странице баннеры с актуальными акциями и распродажами, чтобы увеличить конве...   \n",
       "8                                              Запустить акцию, дающую скидку на товар в день рождения   \n",
       "3  Изменить структура категорий, что увеличит конверсию, т.к. пользователи быстрее найдут нужный товар   \n",
       "1                            Запустить собственную службу доставки, что сократит срок доставки заказов   \n",
       "5             Добавить страницу отзывов клиентов о магазине, что позволит увеличить количество заказов   \n",
       "4                     Изменить цвет фона главной страницы, чтобы увеличить вовлеченность пользователей   \n",
       "\n",
       "   Reach  Impact  Confidence  Efforts   ICE   RICE  \n",
       "7     10       7           8        5  11.2  112.0  \n",
       "2      8       3           7        3   7.0   56.0  \n",
       "0      3      10           8        6  13.3   40.0  \n",
       "6      5       3           8        3   8.0   40.0  \n",
       "8      1       9           9        5  16.2   16.2  \n",
       "3      8       3           3        8   1.1    9.0  \n",
       "1      2       5           4       10   2.0    4.0  \n",
       "5      3       2           2        3   1.3    4.0  \n",
       "4      3       1           1        1   1.0    3.0  "
      ]
     },
     "execution_count": 6,
     "metadata": {},
     "output_type": "execute_result"
    }
   ],
   "source": [
    "hypothesis['RICE']=hypothesis['Reach'] * hypothesis['Impact'] * hypothesis['Confidence'] / hypothesis['Efforts']\n",
    "hypothesis.sort_values('RICE', ascending=False)"
   ]
  },
  {
   "cell_type": "markdown",
   "id": "3299ae77",
   "metadata": {},
   "source": [
    "<b><p>Вывод:</b>\n",
    "<p>После применения фреймворка RICE в топ-5 гипотез вошли такие-же гипотезы как и при применении ICE. Изменились только их позиции. \n",
    "<p>\"Запустить акцию, дающую скидку на товар в день рождения\" переместилась с первого места на пятое.\n",
    "<p>\"Добавить два новых канала привлечения трафика, что позволит привлекать на 30% больше пользователей\" переместилась со второго на третье.\n",
    "<p>\"Добавить форму подписки на все основные страницы, чтобы собрать базу клиентов для email-рассылок\" переместилась с третьего на  первое.\n",
    "<p>\"Показать на главной странице баннеры с актуальными акциями и распродажами, чтобы увеличить конверсию\" осталось на прежнем четвертом месте.\n",
    "<p>\"Добавить блоки рекомендаций товаров на сайт интернет магазина, чтобы повысить конверсию и средний чек заказа\" переместилась с  пятого на  второе\n",
    "<b><p>Изменения связаны с компонентом Reach. Этот компонент влияет на величину числителя и соответственно на итоговую цифру. Reach показывает оценку того скольких пользователей затронет изменение."
   ]
  },
  {
   "cell_type": "markdown",
   "id": "11912d87",
   "metadata": {},
   "source": [
    "# Часть II <p>Проанализировать результаты A/B теста"
   ]
  },
  {
   "cell_type": "markdown",
   "id": "f1708da5",
   "metadata": {},
   "source": [
    "<b>0. Предобработка данных"
   ]
  },
  {
   "cell_type": "markdown",
   "id": "bc5a5b9e",
   "metadata": {},
   "source": [
    "Проверяем на дубликаты и пропуски"
   ]
  },
  {
   "cell_type": "code",
   "execution_count": 7,
   "id": "ae1f87e0",
   "metadata": {},
   "outputs": [
    {
     "name": "stdout",
     "output_type": "stream",
     "text": [
      "Кол-во явных дубликатов: 0\n",
      "Пропуски:\n",
      "transactionId    0\n",
      "visitorId        0\n",
      "date             0\n",
      "revenue          0\n",
      "group            0\n",
      "dtype: int64\n"
     ]
    }
   ],
   "source": [
    "print('Кол-во явных дубликатов:', orders.duplicated().sum())\n",
    "print('Пропуски:')\n",
    "print(orders.isna().sum())"
   ]
  },
  {
   "cell_type": "code",
   "execution_count": 8,
   "id": "6e159f32",
   "metadata": {},
   "outputs": [
    {
     "name": "stdout",
     "output_type": "stream",
     "text": [
      "Кол-во явных дубликатов: 0\n",
      "Пропуски:\n",
      "date        0\n",
      "group       0\n",
      "visitors    0\n",
      "dtype: int64\n"
     ]
    }
   ],
   "source": [
    "print('Кол-во явных дубликатов:', visitors.duplicated().sum())\n",
    "print('Пропуски:')\n",
    "print(visitors.isna().sum())"
   ]
  },
  {
   "cell_type": "markdown",
   "id": "b1a1e963",
   "metadata": {},
   "source": [
    "Меняем типы данных"
   ]
  },
  {
   "cell_type": "code",
   "execution_count": 9,
   "id": "78405149",
   "metadata": {},
   "outputs": [],
   "source": [
    "orders['date'] = pd.to_datetime(orders['date']).dt.date\n",
    "visitors['date']=pd.to_datetime(visitors['date']).dt.date"
   ]
  },
  {
   "cell_type": "markdown",
   "id": "b2e35a75",
   "metadata": {},
   "source": [
    "Определяем временные рамки теста"
   ]
  },
  {
   "cell_type": "code",
   "execution_count": 10,
   "id": "57adc85e",
   "metadata": {},
   "outputs": [
    {
     "name": "stdout",
     "output_type": "stream",
     "text": [
      "Группы теста: ['B' 'A']\n",
      "Начало теста: 2019-08-01\n",
      "Окончание теста: 2019-08-31\n",
      "Длительность теста: 30 days, 0:00:00\n"
     ]
    }
   ],
   "source": [
    "print('Группы теста:' ,orders['group'].unique()) \n",
    "print('Начало теста:', orders['date'].min())\n",
    "print('Окончание теста:', orders['date'].max())   \n",
    "print('Длительность теста:', orders['date'].max() - orders['date'].min())  "
   ]
  },
  {
   "cell_type": "markdown",
   "id": "a87d70f6",
   "metadata": {},
   "source": [
    "Определяем объемы групп теста"
   ]
  },
  {
   "cell_type": "code",
   "execution_count": 11,
   "id": "44370c6d",
   "metadata": {},
   "outputs": [
    {
     "name": "stdout",
     "output_type": "stream",
     "text": [
      "Кол-во групп в группе А: 18736\n",
      "Кол-во групп в группе B: 18916\n"
     ]
    }
   ],
   "source": [
    "print('Кол-во групп в группе А:', visitors.query('group==\"A\"')['visitors'].sum())\n",
    "print('Кол-во групп в группе B:', visitors.query('group==\"B\"')['visitors'].sum())\n"
   ]
  },
  {
   "cell_type": "markdown",
   "id": "82b03257",
   "metadata": {},
   "source": [
    "Проверяем на пересечения"
   ]
  },
  {
   "cell_type": "code",
   "execution_count": 12,
   "id": "75b60df5",
   "metadata": {},
   "outputs": [],
   "source": [
    "A=orders.query('group==\"A\"')\n",
    "B=orders.query('group==\"B\"')"
   ]
  },
  {
   "cell_type": "code",
   "execution_count": 13,
   "id": "43e34360",
   "metadata": {},
   "outputs": [],
   "source": [
    "repeats = []\n",
    "for i in A['visitorId'].unique():\n",
    "    if i in B['visitorId'].unique():\n",
    "        repeats.append(i)"
   ]
  },
  {
   "cell_type": "code",
   "execution_count": 14,
   "id": "8125209b",
   "metadata": {},
   "outputs": [
    {
     "name": "stdout",
     "output_type": "stream",
     "text": [
      "Пересекающиеся пользователи(кол-во): 58\n"
     ]
    }
   ],
   "source": [
    "print('Пересекающиеся пользователи(кол-во):',len(repeats))"
   ]
  },
  {
   "cell_type": "code",
   "execution_count": 15,
   "id": "55da4114",
   "metadata": {},
   "outputs": [],
   "source": [
    "orders=orders.query('visitorId not in @repeats')"
   ]
  },
  {
   "cell_type": "markdown",
   "id": "683f3c80",
   "metadata": {},
   "source": [
    "### График кумулятивной выручки по группам"
   ]
  },
  {
   "cell_type": "markdown",
   "id": "d551a3da",
   "metadata": {},
   "source": [
    "Подготовка данных к визуализации"
   ]
  },
  {
   "cell_type": "code",
   "execution_count": 16,
   "id": "60416762",
   "metadata": {},
   "outputs": [],
   "source": [
    "orders['date'] = pd.to_datetime(orders['date']).dt.date\n",
    "dates_groups=pd.DataFrame(orders[['date', 'group']]).drop_duplicates()\n",
    "orders_aggregated=dates_groups.apply(\n",
    "    lambda x: orders[np.logical_and(orders['date'] <= x['date'], orders['group'] == x['group'])].agg({\n",
    "'date' : 'max',\n",
    "'group' : 'max',\n",
    "'transactionId' : pd.Series.nunique,\n",
    "'visitorId' : pd.Series.nunique,\n",
    "'revenue' : 'sum'}), axis=1).sort_values(by=['date','group']) "
   ]
  },
  {
   "cell_type": "code",
   "execution_count": 17,
   "id": "b6bebced",
   "metadata": {},
   "outputs": [],
   "source": [
    "visitors['date']=pd.to_datetime(visitors['date']).dt.date\n",
    "visitors_aggregated = dates_groups.apply(\n",
    "    lambda x: visitors[np.logical_and(visitors['date'] <=x['date'], visitors['group']== x['group'])].agg({\n",
    "        'date':'max',\n",
    "        'group':'max',\n",
    "        'visitors':'sum'}), axis=1).sort_values(by=['date','group']) "
   ]
  },
  {
   "cell_type": "code",
   "execution_count": 18,
   "id": "3fb9ed12",
   "metadata": {},
   "outputs": [],
   "source": [
    "cumulative_data=orders_aggregated.merge(visitors_aggregated, on =['date','group'])\n",
    "cumulative_data.columns = ['date', 'group', 'orders', 'buyers', 'revenue', 'visitors']"
   ]
  },
  {
   "cell_type": "code",
   "execution_count": 19,
   "id": "bc6e5c22",
   "metadata": {},
   "outputs": [],
   "source": [
    "cumulative_revenue_A = cumulative_data.query('group==\"A\"')\n",
    "cumulative_revenue_B = cumulative_data.query('group==\"B\"')"
   ]
  },
  {
   "cell_type": "markdown",
   "id": "db358cc2",
   "metadata": {},
   "source": [
    "Визуализация данных"
   ]
  },
  {
   "cell_type": "code",
   "execution_count": 20,
   "id": "f0a7e365",
   "metadata": {},
   "outputs": [
    {
     "data": {
      "image/png": "[encoded data removed]",
      "text/plain": [
       "<Figure size 432x288 with 1 Axes>"
      ]
     },
     "metadata": {
      "needs_background": "light"
     },
     "output_type": "display_data"
    }
   ],
   "source": [
    "plt.xticks(rotation=20)\n",
    "plt.plot(cumulative_revenue_A['date'], cumulative_revenue_A['revenue'], label='A')\n",
    "plt.plot(cumulative_revenue_B['date'], cumulative_revenue_B['revenue'], label='B')\n",
    "plt.title('Кумулятивная выручка по группам')\n",
    "plt.xlabel('Дата')\n",
    "plt.ylabel('Объем выручки')\n",
    "plt.legend() \n",
    "plt.show()"
   ]
  },
  {
   "cell_type": "markdown",
   "id": "5fe4b59b",
   "metadata": {},
   "source": [
    "<p><b>Вывод:</b> \n",
    "   <p> Вначале выручка увеличивается относительно равномерно в обеих группах, но примерно восле 2019-08-17 наблюдается резкий скачок у группы B. Это может быть вызвано либо резким увеличением числа заказов, что повлияло на выручку, либо вызвано резким увеличением числа очень дорогих заказов. "
   ]
  },
  {
   "cell_type": "markdown",
   "id": "290c8bea",
   "metadata": {},
   "source": [
    "### График кумулятивного среднего чека по группам"
   ]
  },
  {
   "cell_type": "code",
   "execution_count": 21,
   "id": "2b3cd066",
   "metadata": {},
   "outputs": [
    {
     "data": {
      "image/png": "[encoded data removed]",
      "text/plain": [
       "<Figure size 432x288 with 1 Axes>"
      ]
     },
     "metadata": {
      "needs_background": "light"
     },
     "output_type": "display_data"
    }
   ],
   "source": [
    "plt.xticks(rotation=20)\n",
    "plt.plot(cumulative_revenue_A['date'], cumulative_revenue_A['revenue'] / cumulative_revenue_A['orders'], label='A')\n",
    "plt.plot(cumulative_revenue_B['date'], cumulative_revenue_B['revenue'] / cumulative_revenue_B['orders'], label='В')\n",
    "plt.title('График кумулятивного среднего чека по группам')\n",
    "plt.xlabel('Дата')\n",
    "plt.ylabel('Средний чек в у.е.')\n",
    "plt.legend() \n",
    "plt.show()"
   ]
  },
  {
   "cell_type": "markdown",
   "id": "bb4bfe59",
   "metadata": {},
   "source": [
    "<p><b>Вывод:</b> \n",
    "   <p>  Группа А показывает сильное понижение среднего чека  около 2019-08-05. Возможно число заказов увеличилось к этому времени в группе А, но цена покупок не была большой. Затем график группы А растет до пика около 2019-08-13 и затем ведет себя относительно стабильно в оствашийся период.\n",
    "      <p>  Для группы В однозначно рано говорить о стабилизации так как график показал очень сильный всплеск после 2019-08-17. Это может быть вызвано увеличением числа дорогих заказов при относительно небольшом колебании самого числа заказов, что вызвало увеличение значения среднего чека. Возможны выбросы."
   ]
  },
  {
   "cell_type": "markdown",
   "id": "22133038",
   "metadata": {},
   "source": [
    "### График относительного изменения кумулятивного среднего чека группы B к группе A"
   ]
  },
  {
   "cell_type": "code",
   "execution_count": 22,
   "id": "ce14a43d",
   "metadata": {},
   "outputs": [],
   "source": [
    "merge_cumulative_revenue = cumulative_revenue_A.merge(cumulative_revenue_B, on='date', how='left', suffixes=['A', 'B'])"
   ]
  },
  {
   "cell_type": "code",
   "execution_count": 23,
   "id": "83c9ce8e",
   "metadata": {},
   "outputs": [
    {
     "data": {
      "image/png": "[encoded data removed]",
      "text/plain": [
       "<Figure size 432x288 with 1 Axes>"
      ]
     },
     "metadata": {
      "needs_background": "light"
     },
     "output_type": "display_data"
    }
   ],
   "source": [
    "plt.xticks(rotation=20)\n",
    "plt.plot(merge_cumulative_revenue['date'], (merge_cumulative_revenue['revenueB'] / merge_cumulative_revenue['ordersB'])/(merge_cumulative_revenue['revenueA'] / merge_cumulative_revenue['ordersA'])-1)\n",
    "plt.axhline(y=0, color='black', linestyle='--') \n",
    "plt.title('График относительного изменения кумулятивного среднего чека группы B к группе A')\n",
    "plt.xlabel('Дата')\n",
    "plt.ylabel('Доля относительного изменения')\n",
    "plt.show()"
   ]
  },
  {
   "cell_type": "markdown",
   "id": "1c21a368",
   "metadata": {},
   "source": [
    "<p><b>Вывод:</b> \n",
    "   <p> График неравномерен, заметны скачки.  Следовательно, в данных присутсвуют выбросы.\n",
    "    <p> Изначально группа B отставала по показателю кумулятивной выручки,но затем показывала результаты лучше до 13 августа. Здесь заметно значительное снижение и отставание. После следует рост и резкий скачок. Можно предположить, что он возник из-за выбросов. Затем следует снижение, но группа В по прежнему лидирует. "
   ]
  },
  {
   "cell_type": "markdown",
   "id": "7ef8636f",
   "metadata": {},
   "source": [
    "### График кумулятивной конверсии по группам"
   ]
  },
  {
   "cell_type": "code",
   "execution_count": 24,
   "id": "5fb60965",
   "metadata": {},
   "outputs": [
    {
     "data": {
      "image/png": "[encoded data removed]",
      "text/plain": [
       "<Figure size 432x288 with 1 Axes>"
      ]
     },
     "metadata": {
      "needs_background": "light"
     },
     "output_type": "display_data"
    }
   ],
   "source": [
    "plt.xticks(rotation=20)\n",
    "plt.plot(merge_cumulative_revenue['date'], (merge_cumulative_revenue['ordersA']/merge_cumulative_revenue['visitorsA']), label='A')\n",
    "plt.plot(merge_cumulative_revenue['date'], (merge_cumulative_revenue['ordersB']/merge_cumulative_revenue['visitorsB']), label='B')\n",
    "plt.title('График кумулятивной конверсии по группам')\n",
    "plt.xlabel('Дата')\n",
    "plt.ylabel('Коэффициент конверсии')\n",
    "plt.legend()\n",
    "plt.show()"
   ]
  },
  {
   "cell_type": "markdown",
   "id": "d75315f6",
   "metadata": {},
   "source": [
    "<p><b>Вывод:</b> \n",
    "   <p> Графики сильно колеблются вначале, затем показатель кумулятивной конверсии группы В заметно опережает показатель группы А и относительно стабилизируется. Конверсия группы А тоже относительно стабилизируется."
   ]
  },
  {
   "cell_type": "markdown",
   "id": "a3d331e7",
   "metadata": {},
   "source": [
    "### График относительного изменения кумулятивной конверсии группы B к группе A"
   ]
  },
  {
   "cell_type": "code",
   "execution_count": 25,
   "id": "2462cb14",
   "metadata": {},
   "outputs": [
    {
     "data": {
      "image/png": "[encoded data removed]",
      "text/plain": [
       "<Figure size 432x288 with 1 Axes>"
      ]
     },
     "metadata": {
      "needs_background": "light"
     },
     "output_type": "display_data"
    }
   ],
   "source": [
    "plt.xticks(rotation=20)\n",
    "plt.plot(merge_cumulative_revenue['date'], (merge_cumulative_revenue['ordersB']/merge_cumulative_revenue['visitorsB'])/(merge_cumulative_revenue['ordersA']/merge_cumulative_revenue['visitorsA'])-1)\n",
    "plt.title(\"Относительное изменение кумулятивной конверсии группы B к группе A\")\n",
    "plt.xlabel('Дата')\n",
    "plt.ylabel('Доля относительного изменения')\n",
    "plt.axhline(y=0, color='black', linestyle='--')\n",
    "plt.axhline(y=0.13, color='grey', linestyle='--')\n",
    "plt.show()"
   ]
  },
  {
   "cell_type": "markdown",
   "id": "9a823bca",
   "metadata": {},
   "source": [
    "<p><b>Вывод:</b> \n",
    "   <p> Можно увидеть, что вначале группа В колеблется от положительного значения относительного изменения к отрицательному, затем сильно падает к отрицательному значению, что показывает насколько кумулятивная конверсия группы В меньше группы А. С 17 августа наблюдается тенденция к росту показателя, но затем следует снижение. Следовательно, трудно говорить о стабилизации показателя. Нужно провести анализ выбросов. "
   ]
  },
  {
   "cell_type": "markdown",
   "id": "74bd3231",
   "metadata": {},
   "source": [
    "### Точечный график количества заказов по пользователям"
   ]
  },
  {
   "cell_type": "code",
   "execution_count": 26,
   "id": "a9cde144",
   "metadata": {},
   "outputs": [
    {
     "data": {
      "image/png": "[encoded data removed]",
      "text/plain": [
       "<Figure size 432x288 with 1 Axes>"
      ]
     },
     "metadata": {
      "needs_background": "light"
     },
     "output_type": "display_data"
    }
   ],
   "source": [
    "orders_by_users=orders.groupby('visitorId', as_index=False).agg({'transactionId':'nunique'})\n",
    "plt.hist(orders_by_users['transactionId'])\n",
    "plt.title('Гистограмма распределения заказов по пользователям')\n",
    "plt.xlabel('Количество заказов')\n",
    "plt.ylabel('Количество пользователей')\n",
    "plt.show()"
   ]
  },
  {
   "cell_type": "markdown",
   "id": "021a9df8",
   "metadata": {},
   "source": [
    "В основном пользователи делали один и не более двух заказов. Также существует доля пользователей которые делали больше двух заказов."
   ]
  },
  {
   "cell_type": "code",
   "execution_count": 27,
   "id": "86f274cb",
   "metadata": {},
   "outputs": [
    {
     "data": {
      "image/png": "[encoded data removed]",
      "text/plain": [
       "<Figure size 432x288 with 1 Axes>"
      ]
     },
     "metadata": {
      "needs_background": "light"
     },
     "output_type": "display_data"
    }
   ],
   "source": [
    "plt.scatter(pd.Series(range(0,len(orders_by_users))),orders_by_users['transactionId'] )\n",
    "plt.title('Диаграмма рассеяния  заказов по пользователям')\n",
    "plt.ylabel('Количество заказов')\n",
    "plt.xlabel('Наблюдаемый пользователь')\n",
    "plt.show()"
   ]
  },
  {
   "cell_type": "markdown",
   "id": "995d9783",
   "metadata": {},
   "source": [
    "Диаграмма рассеяния также подтверждает выводы выше. Хорошо заметны аномальные значения. Чтобы принять решение о том, какое значение считать порогом для выбросов нужно посчитать перцентили."
   ]
  },
  {
   "cell_type": "code",
   "execution_count": 28,
   "id": "4a73839e",
   "metadata": {},
   "outputs": [
    {
     "name": "stdout",
     "output_type": "stream",
     "text": [
      "[1. 2.]\n"
     ]
    }
   ],
   "source": [
    "print(np.percentile(orders_by_users['transactionId'],[95, 99]))"
   ]
  },
  {
   "cell_type": "markdown",
   "id": "933eb6a1",
   "metadata": {},
   "source": [
    "Не более 5% пользователей делали более одного заказа. Менее процента пользователей делали более 2 заказов. <b>Нижней границей для выбросов можно определить значение в 2 заказа на пользователя. "
   ]
  },
  {
   "cell_type": "markdown",
   "id": "9bca0bb6",
   "metadata": {},
   "source": [
    "### Точечный график стоимостей заказов"
   ]
  },
  {
   "cell_type": "code",
   "execution_count": 29,
   "id": "41ac439b",
   "metadata": {},
   "outputs": [
    {
     "data": {
      "image/png": "[encoded data removed]",
      "text/plain": [
       "<Figure size 432x288 with 1 Axes>"
      ]
     },
     "metadata": {
      "needs_background": "light"
     },
     "output_type": "display_data"
    }
   ],
   "source": [
    "plt.scatter(pd.Series(range(0, len(orders['revenue']))), orders['revenue'])\n",
    "plt.title('Гистограмма распределения стоимости заказов')\n",
    "plt.xlabel('Заказы')\n",
    "plt.ylabel('Цена')\n",
    "plt.show()"
   ]
  },
  {
   "cell_type": "code",
   "execution_count": 30,
   "id": "ad72998a",
   "metadata": {},
   "outputs": [],
   "source": [
    "x=orders.query('revenue <=100000')"
   ]
  },
  {
   "cell_type": "code",
   "execution_count": 31,
   "id": "6addb005",
   "metadata": {},
   "outputs": [
    {
     "data": {
      "image/png": "[encoded data removed]",
      "text/plain": [
       "<Figure size 432x288 with 1 Axes>"
      ]
     },
     "metadata": {
      "needs_background": "light"
     },
     "output_type": "display_data"
    }
   ],
   "source": [
    "plt.scatter(pd.Series(range(0, len(x['revenue']))), x['revenue'])\n",
    "plt.title('Гистограмма распределения стоимости заказов')\n",
    "plt.xlabel('Заказы')\n",
    "plt.ylabel('Цена')\n",
    "plt.show()"
   ]
  },
  {
   "cell_type": "markdown",
   "id": "fef24422",
   "metadata": {},
   "source": [
    "На данном графике видно, что большинство значений плотно расположены внизу графика.Заметны два выброса,которые значительно выделяются(Значение больше 1200000 и значение около 200000).Эти выбросы самые заментые. Для точной оценки нужно посчитать перцентили."
   ]
  },
  {
   "cell_type": "code",
   "execution_count": 32,
   "id": "2f93a4ac",
   "metadata": {},
   "outputs": [
    {
     "name": "stdout",
     "output_type": "stream",
     "text": [
      "[26785. 53904.]\n"
     ]
    }
   ],
   "source": [
    "print(np.percentile(orders['revenue'],[95, 99]))"
   ]
  },
  {
   "cell_type": "markdown",
   "id": "fa24c898",
   "metadata": {},
   "source": [
    "Не более 5% заказов имели стоимость выше 26785. Не более процента заказов имели стоимость выше 53904. Нижний порог для выбросов можно обозначить значением 53904"
   ]
  },
  {
   "cell_type": "markdown",
   "id": "a60791b4",
   "metadata": {},
   "source": [
    "### Статистическая значимость различий в конверсии между группами по «сырым» данным"
   ]
  },
  {
   "cell_type": "markdown",
   "id": "9276c416",
   "metadata": {},
   "source": [
    "<p>Поскольку в данных есть выбросы, то будет применяться критерий Манна-Уитни для проверки гипотез\n",
    "<p> Уровень значимости будет определен значением в 5%\n",
    "<p>H0:Статистически значимых различий между конверсиями групп нет\n",
    "<p>H1:Статистически значимые различия между конверсиями групп есть"
   ]
  },
  {
   "cell_type": "code",
   "execution_count": 33,
   "id": "70724920",
   "metadata": {},
   "outputs": [],
   "source": [
    "ordersByUsersA = (\n",
    "    orders[orders['group'] == 'A']\n",
    "    .groupby('visitorId', as_index=False)\n",
    "    .agg({'transactionId': pd.Series.nunique}))\n",
    "\n",
    "\n",
    "ordersByUsersB = (\n",
    "    orders[orders['group'] == 'B']\n",
    "    .groupby('visitorId', as_index=False)\n",
    "    .agg({'transactionId': pd.Series.nunique}))"
   ]
  },
  {
   "cell_type": "code",
   "execution_count": 34,
   "id": "28fa1720",
   "metadata": {},
   "outputs": [],
   "source": [
    "sampleA = pd.concat([ordersByUsersA['transactionId'], pd.Series(0, index=np.arange(visitors[visitors['group'] == 'A']['visitors'].sum() - ordersByUsersA ['visitorId'].count()), name='transactionId')],axis=0)\n",
    "sampleB = pd.concat([ordersByUsersB['transactionId'], pd.Series(0, index=np.arange(visitors[visitors['group'] == 'B']['visitors'].sum() - ordersByUsersB ['visitorId'].count()), name='transactionId')],axis=0) "
   ]
  },
  {
   "cell_type": "code",
   "execution_count": 35,
   "id": "b3f558eb",
   "metadata": {},
   "outputs": [
    {
     "name": "stdout",
     "output_type": "stream",
     "text": [
      "p-value: 0.006\n",
      "Относительное отличие средней конверсии группы В от А: 0.160\n"
     ]
    }
   ],
   "source": [
    "print('p-value:', \"{0:.3f}\".format(stats.mannwhitneyu(sampleA, sampleB,True,'less')[1]))\n",
    "\n",
    "print('Относительное отличие средней конверсии группы В от А:', \"{0:.3f}\".format(sampleB.mean() / sampleA.mean() - 1))"
   ]
  },
  {
   "cell_type": "markdown",
   "id": "4a1d6f48",
   "metadata": {},
   "source": [
    "<p><b>Вывод:</b>\n",
    "<p>Поскольку p-value меньше 5%, то есть основание отвергнуть гипотезу о равенстве конверсий, разница статистически значима. Следовательно конверсии разные для групп по сырым данным. Относительное отличие средней конверсии группы В от А = 16 %"
   ]
  },
  {
   "cell_type": "markdown",
   "id": "90cbbf79",
   "metadata": {},
   "source": [
    " ### Cтатистическая значимость различий в среднем чеке заказа между группами по «сырым» данным."
   ]
  },
  {
   "cell_type": "markdown",
   "id": "3fa3ef8c",
   "metadata": {},
   "source": [
    "H0:Статистически значимых различий между средними чеками групп нет\n",
    "<p>H1:Статистически значимые различия между средними чеками групп есть"
   ]
  },
  {
   "cell_type": "code",
   "execution_count": 36,
   "id": "8df93a87",
   "metadata": {},
   "outputs": [],
   "source": [
    "orders_for_middle_cost = orders.groupby(['date','group'], as_index=False).agg({'transactionId':'nunique','visitorId':'nunique','revenue':'sum'})\n",
    "middle_cost_A = orders_for_middle_cost.query('group == \"A\"')['revenue'] / orders_for_middle_cost.query('group == \"A\"')['transactionId'] \n",
    "middle_cost_B = orders_for_middle_cost.query('group == \"B\"')['revenue'] / orders_for_middle_cost.query('group == \"B\"')['transactionId'] "
   ]
  },
  {
   "cell_type": "code",
   "execution_count": 37,
   "id": "6c7bcb1b",
   "metadata": {},
   "outputs": [
    {
     "name": "stdout",
     "output_type": "stream",
     "text": [
      "p-value: 0.528\n",
      "Относительное различие среднеего чека группы В к группе А:0.203\n",
      "Средний чек группы A: 7309.427132974742\n",
      "Средний чек группы B: 8795.244488730668\n"
     ]
    }
   ],
   "source": [
    "print('p-value:','{0:.3f}'.format(stats.mannwhitneyu(middle_cost_A,middle_cost_B, True,'less')[1]))\n",
    "print('Относительное различие среднеего чека группы В к группе А:''{0:.3f}'.format(middle_cost_B.mean()/middle_cost_A.mean()-1))\n",
    "print('Средний чек группы A:',middle_cost_A.mean())\n",
    "print('Средний чек группы B:',middle_cost_B.mean())"
   ]
  },
  {
   "cell_type": "markdown",
   "id": "5a8a36fd",
   "metadata": {},
   "source": [
    "<p><b>Вывод:</b>\n",
    "<p>Поскольку p-value больше 5%,то нельзя отклонить нулевую гипотезу о равенстве среднего чека групп по сырым данным. Статистически значимых различий нет"
   ]
  },
  {
   "cell_type": "markdown",
   "id": "f2301d0a",
   "metadata": {},
   "source": [
    "### Статистическая значимость различий в конверсии между группами по «очищенным» данным."
   ]
  },
  {
   "cell_type": "code",
   "execution_count": 40,
   "id": "41996e11",
   "metadata": {},
   "outputs": [],
   "source": [
    "clean_orders = orders.query('revenue <=53904')# Данные без выбросов по стоимости заказов"
   ]
  },
  {
   "cell_type": "code",
   "execution_count": 42,
   "id": "27cc11c3",
   "metadata": {},
   "outputs": [],
   "source": [
    "clean_orders = clean_orders.groupby(['date','group'], as_index=False).agg({'transactionId':'nunique','visitorId':'nunique', 'revenue':'sum'})"
   ]
  },
  {
   "cell_type": "markdown",
   "id": "2f74ab83",
   "metadata": {},
   "source": [
    "H0:Статистически значимых различий между конверсиями групп нет\n",
    "<p>H1:Статистически значимые различия между конверсиями групп есть"
   ]
  },
  {
   "cell_type": "code",
   "execution_count": 43,
   "id": "de338163",
   "metadata": {},
   "outputs": [],
   "source": [
    "ordersByUsersA1 = (\n",
    "    clean_orders[clean_orders['group'] == 'A']\n",
    "    .groupby('visitorId', as_index=False)\n",
    "    .agg({'transactionId': pd.Series.nunique}))\n",
    "\n",
    "\n",
    "ordersByUsersB1 = (\n",
    "     clean_orders[clean_orders['group'] == 'B']\n",
    "    .groupby('visitorId', as_index=False)\n",
    "    .agg({'transactionId': pd.Series.nunique}))"
   ]
  },
  {
   "cell_type": "code",
   "execution_count": 44,
   "id": "fffd53b8",
   "metadata": {},
   "outputs": [],
   "source": [
    "sampleA1 = pd.concat([ordersByUsersA['transactionId'], pd.Series(0, index=np.arange(visitors[visitors['group'] == 'A']['visitors'].sum() - ordersByUsersA1 ['visitorId'].count()), name='transactionId')],axis=0)\n",
    "sampleB1 = pd.concat([ordersByUsersB['transactionId'], pd.Series(0, index=np.arange(visitors[visitors['group'] == 'B']['visitors'].sum() - ordersByUsersB1 ['visitorId'].count()), name='transactionId')],axis=0) "
   ]
  },
  {
   "cell_type": "code",
   "execution_count": 45,
   "id": "23445f8b",
   "metadata": {},
   "outputs": [
    {
     "name": "stdout",
     "output_type": "stream",
     "text": [
      "p-value: 0.007\n",
      "Относительное отличие средней конверсии группы В от А: 0.155\n"
     ]
    }
   ],
   "source": [
    "print('p-value:', \"{0:.3f}\".format(stats.mannwhitneyu(sampleA1, sampleB1,True,'less')[1]))\n",
    "\n",
    "print('Относительное отличие средней конверсии группы В от А:', \"{0:.3f}\".format(sampleB1.mean() / sampleA1.mean() - 1))"
   ]
  },
  {
   "cell_type": "markdown",
   "id": "4c327b76",
   "metadata": {},
   "source": [
    "<b>Вывод:</b>\n",
    "<p>Поскольку p-value меньше 0.05, то есть основание отвергнуть нулевую гипотезу и предположить, что между группами есть статистически значимое различие. Поскольку вероятность получить такое или большее различие между группами случайно крайне низкая. Также средняя конверсия группы В больше средней конверсии группы А на 15,5%."
   ]
  },
  {
   "cell_type": "markdown",
   "id": "3278ff0d",
   "metadata": {},
   "source": [
    "### Cтатистическая значимость различий в среднем чеке заказа между группами по «очищенным» данным"
   ]
  },
  {
   "cell_type": "markdown",
   "id": "a7b59389",
   "metadata": {},
   "source": [
    "H0:Статистически значимых различий между средними чеками групп нет\n",
    "<p>H1:Статистически значимые различия между средними чеками групп есть"
   ]
  },
  {
   "cell_type": "code",
   "execution_count": 47,
   "id": "41016ba9",
   "metadata": {},
   "outputs": [],
   "source": [
    "clean_orders_middle_cost = orders.query('revenue <=58233').groupby(['date','group'], as_index=False).agg({'transactionId':'nunique','visitorId':'nunique', 'revenue':'sum'})\n",
    "clean_middle_cost_A = clean_orders_middle_cost.query('group==\"A\"')['revenue'] / clean_orders_middle_cost.query('group==\"A\"')['transactionId']\n",
    "clean_middle_cost_B = clean_orders_middle_cost.query('group==\"B\"')['revenue'] / clean_orders_middle_cost.query('group==\"B\"')['transactionId']"
   ]
  },
  {
   "cell_type": "code",
   "execution_count": 48,
   "id": "b0da1eaf",
   "metadata": {},
   "outputs": [
    {
     "name": "stdout",
     "output_type": "stream",
     "text": [
      "p-value: 0.652\n",
      "Относительное различие среднеего чека группы В к группе А:-0.061\n",
      "Средний чек группы A: 6651.792336107772\n",
      "Средний чек группы B: 6244.737064756793\n"
     ]
    }
   ],
   "source": [
    "print('p-value:','{0:.3f}'.format(stats.mannwhitneyu(clean_middle_cost_A,clean_middle_cost_B)[1]))\n",
    "print('Относительное различие среднеего чека группы В к группе А:''{0:.3f}'.format(clean_middle_cost_B.mean()/clean_middle_cost_A.mean()-1))\n",
    "print('Средний чек группы A:',clean_middle_cost_A.mean())\n",
    "print('Средний чек группы B:',clean_middle_cost_B.mean())"
   ]
  },
  {
   "cell_type": "markdown",
   "id": "c639b012",
   "metadata": {},
   "source": [
    "<b>Вывод:</b>\n",
    "<p> p-value больше 5%. Отвергнуть нулевую гипотезу о равенстве средних чеков групп по чистым данным нельзя"
   ]
  },
  {
   "cell_type": "markdown",
   "id": "0f37f495",
   "metadata": {},
   "source": [
    "## Общие выводы"
   ]
  },
  {
   "cell_type": "markdown",
   "id": "99df629f",
   "metadata": {},
   "source": [
    "<b><p>1.По сырым данным статистически значимо конверсии групп отличаются. Конверсия группы В больше группы А на 16%\n",
    "<b><p>2.По данным без выбросов между группами есть статистически значимое различие по конверсии . Конверсия группы В больше группы А на 15.5%\n",
    "<b><p>3.По сырым данным  статистически значимое различие по среднему чеку не выявлено\n",
    "<b><p>4.По чистым данным в средних чеках групп статистически значимое различие не выявлено"
   ]
  },
  {
   "cell_type": "code",
   "execution_count": 49,
   "id": "45ee0a08",
   "metadata": {},
   "outputs": [],
   "source": [
    "clean_dates_groups=pd.DataFrame(clean_orders[['date', 'group']]).drop_duplicates()"
   ]
  },
  {
   "cell_type": "code",
   "execution_count": 50,
   "id": "70c8d5f8",
   "metadata": {},
   "outputs": [],
   "source": [
    "clean_orders_aggregated=clean_dates_groups.apply(\n",
    "    lambda x: clean_orders[np.logical_and(clean_orders['date'] <= x['date'], clean_orders['group'] == x['group'])].agg({\n",
    "'date' : 'max',\n",
    "'group' : 'max',\n",
    "'transactionId' : pd.Series.nunique,\n",
    "'visitorId' : pd.Series.nunique,\n",
    "'revenue' : 'sum'}), axis=1).sort_values(by=['date','group']) "
   ]
  },
  {
   "cell_type": "markdown",
   "id": "902d57f3",
   "metadata": {},
   "source": [
    "<b> 5.По чистым данным кумулятивная выручка группы В лучше группы А и имеет тенденцию к росту."
   ]
  },
  {
   "cell_type": "code",
   "execution_count": 51,
   "id": "3314302c",
   "metadata": {},
   "outputs": [
    {
     "data": {
      "image/png": "[encoded data removed]",
      "text/plain": [
       "<Figure size 432x288 with 1 Axes>"
      ]
     },
     "metadata": {
      "needs_background": "light"
     },
     "output_type": "display_data"
    }
   ],
   "source": [
    "plt.xticks(rotation=20)\n",
    "plt.plot(clean_orders_aggregated.query('group==\"A\"')['date'], clean_orders_aggregated.query('group==\"A\"')['revenue'], label='A')\n",
    "plt.plot(clean_orders_aggregated.query('group==\"B\"')['date'], clean_orders_aggregated.query('group==\"B\"')['revenue'], label='B')\n",
    "plt.legend()\n",
    "plt.title(\"Кумулятивная выручка по чистым данным\")\n",
    "plt.show()"
   ]
  },
  {
   "cell_type": "markdown",
   "id": "c0081530",
   "metadata": {},
   "source": [
    "<b> 6.По чистым данным изменения кумулятивного среднего чека показывают, что результаты группы B лучше и стремятся к стабилизации около среднего."
   ]
  },
  {
   "cell_type": "code",
   "execution_count": 52,
   "id": "db0f0c68",
   "metadata": {},
   "outputs": [],
   "source": [
    "clean_revenue_A = clean_orders_aggregated.query('group==\"A\"')\n",
    "clean_revenue_B = clean_orders_aggregated.query('group==\"B\"')"
   ]
  },
  {
   "cell_type": "code",
   "execution_count": 53,
   "id": "9b8739e9",
   "metadata": {},
   "outputs": [],
   "source": [
    "merge_clean_revenue = clean_revenue_A.merge(clean_revenue_B, on='date', how='left', suffixes=['A', 'B'])"
   ]
  },
  {
   "cell_type": "code",
   "execution_count": 54,
   "id": "9d56c6e3",
   "metadata": {},
   "outputs": [
    {
     "data": {
      "image/png": "[encoded data removed]",
      "text/plain": [
       "<Figure size 432x288 with 1 Axes>"
      ]
     },
     "metadata": {
      "needs_background": "light"
     },
     "output_type": "display_data"
    }
   ],
   "source": [
    "plt.xticks(rotation=20)\n",
    "plt.plot(merge_clean_revenue['date'], (merge_clean_revenue['revenueB'] / merge_clean_revenue['transactionIdB'])/(merge_clean_revenue['revenueA'] / merge_clean_revenue['transactionIdA'])-1)\n",
    "plt.axhline(y=0, color='black', linestyle='--') \n",
    "plt.title(\"График относительного изменения кумулятивного среднего чека группы B к группе A по без выбросов\")\n",
    "plt.xlabel('Дата')\n",
    "plt.ylabel('Отклонение')\n",
    "plt.show()\n"
   ]
  },
  {
   "cell_type": "markdown",
   "id": "184896e8",
   "metadata": {},
   "source": [
    "<b>Вывод: Тест можно остановить и признать удачным. Группа B положительно отличается от группы А по кумулятивным метрикам. Статистически значимые отличия групп были обнаружены между конверсиями групп"
   ]
  },
  {
   "cell_type": "code",
   "execution_count": null,
   "id": "dc1ffd38",
   "metadata": {},
   "outputs": [],
   "source": []
  }
 ],
 "metadata": {
  "kernelspec": {
   "display_name": "Python 3 (ipykernel)",
   "language": "python",
   "name": "python3"
  },
  "language_info": {
   "codemirror_mode": {
    "name": "ipython",
    "version": 3
   },
   "file_extension": ".py",
   "mimetype": "text/x-python",
   "name": "python",
   "nbconvert_exporter": "python",
   "pygments_lexer": "ipython3",
   "version": "3.9.7"
  }
 },
 "nbformat": 4,
 "nbformat_minor": 5
}
