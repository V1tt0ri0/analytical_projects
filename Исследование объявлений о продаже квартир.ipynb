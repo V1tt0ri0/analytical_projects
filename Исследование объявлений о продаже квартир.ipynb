{
 "cells": [
  {
   "cell_type": "markdown",
   "id": "2ca0f28b",
   "metadata": {},
   "source": [
    "# Исследование объявлений о продаже квартир "
   ]
  },
  {
   "cell_type": "markdown",
   "id": "8df238d0",
   "metadata": {},
   "source": [
    "В распоряжении архив объявлений о продаже квартир в Санкт-Петербурге и соседних населённых пунктах за несколько лет. \n",
    "* Цель исследования — установить параметры. Это позволит построить автоматизированную систему: она отследит аномалии и мошенническую деятельность.\n",
    "* Описание данных:\n",
    "<p>По каждой квартире на продажу доступны два вида данных. Первые вписаны пользователем, вторые получены автоматически на основе картографических данных. "
   ]
  },
  {
   "cell_type": "code",
   "execution_count": 1,
   "id": "7c70dc88",
   "metadata": {},
   "outputs": [],
   "source": [
    "import pandas as pd "
   ]
  },
  {
   "cell_type": "markdown",
   "id": "592a8256",
   "metadata": {},
   "source": [
    "## 1. Обзор данных "
   ]
  },
  {
   "cell_type": "code",
   "execution_count": 3,
   "id": "8df33f34",
   "metadata": {},
   "outputs": [
    {
     "data": {
      "text/html": [
       "<div>\n",
       "<style scoped>\n",
       "    .dataframe tbody tr th:only-of-type {\n",
       "        vertical-align: middle;\n",
       "    }\n",
       "\n",
       "    .dataframe tbody tr th {\n",
       "        vertical-align: top;\n",
       "    }\n",
       "\n",
       "    .dataframe thead th {\n",
       "        text-align: right;\n",
       "    }\n",
       "</style>\n",
       "<table border=\"1\" class=\"dataframe\">\n",
       "  <thead>\n",
       "    <tr style=\"text-align: right;\">\n",
       "      <th></th>\n",
       "      <th>total_images</th>\n",
       "      <th>last_price</th>\n",
       "      <th>total_area</th>\n",
       "      <th>first_day_exposition</th>\n",
       "      <th>rooms</th>\n",
       "      <th>ceiling_height</th>\n",
       "      <th>floors_total</th>\n",
       "      <th>living_area</th>\n",
       "      <th>floor</th>\n",
       "      <th>is_apartment</th>\n",
       "      <th>...</th>\n",
       "      <th>kitchen_area</th>\n",
       "      <th>balcony</th>\n",
       "      <th>locality_name</th>\n",
       "      <th>airports_nearest</th>\n",
       "      <th>cityCenters_nearest</th>\n",
       "      <th>parks_around3000</th>\n",
       "      <th>parks_nearest</th>\n",
       "      <th>ponds_around3000</th>\n",
       "      <th>ponds_nearest</th>\n",
       "      <th>days_exposition</th>\n",
       "    </tr>\n",
       "  </thead>\n",
       "  <tbody>\n",
       "    <tr>\n",
       "      <th>0</th>\n",
       "      <td>20</td>\n",
       "      <td>13000000.0</td>\n",
       "      <td>108.0</td>\n",
       "      <td>2019-03-07T00:00:00</td>\n",
       "      <td>3</td>\n",
       "      <td>2.70</td>\n",
       "      <td>16.0</td>\n",
       "      <td>51.0</td>\n",
       "      <td>8</td>\n",
       "      <td>NaN</td>\n",
       "      <td>...</td>\n",
       "      <td>25.0</td>\n",
       "      <td>NaN</td>\n",
       "      <td>Санкт-Петербург</td>\n",
       "      <td>18863.0</td>\n",
       "      <td>16028.0</td>\n",
       "      <td>1.0</td>\n",
       "      <td>482.0</td>\n",
       "      <td>2.0</td>\n",
       "      <td>755.0</td>\n",
       "      <td>NaN</td>\n",
       "    </tr>\n",
       "    <tr>\n",
       "      <th>1</th>\n",
       "      <td>7</td>\n",
       "      <td>3350000.0</td>\n",
       "      <td>40.4</td>\n",
       "      <td>2018-12-04T00:00:00</td>\n",
       "      <td>1</td>\n",
       "      <td>NaN</td>\n",
       "      <td>11.0</td>\n",
       "      <td>18.6</td>\n",
       "      <td>1</td>\n",
       "      <td>NaN</td>\n",
       "      <td>...</td>\n",
       "      <td>11.0</td>\n",
       "      <td>2.0</td>\n",
       "      <td>посёлок Шушары</td>\n",
       "      <td>12817.0</td>\n",
       "      <td>18603.0</td>\n",
       "      <td>0.0</td>\n",
       "      <td>NaN</td>\n",
       "      <td>0.0</td>\n",
       "      <td>NaN</td>\n",
       "      <td>81.0</td>\n",
       "    </tr>\n",
       "    <tr>\n",
       "      <th>2</th>\n",
       "      <td>10</td>\n",
       "      <td>5196000.0</td>\n",
       "      <td>56.0</td>\n",
       "      <td>2015-08-20T00:00:00</td>\n",
       "      <td>2</td>\n",
       "      <td>NaN</td>\n",
       "      <td>5.0</td>\n",
       "      <td>34.3</td>\n",
       "      <td>4</td>\n",
       "      <td>NaN</td>\n",
       "      <td>...</td>\n",
       "      <td>8.3</td>\n",
       "      <td>0.0</td>\n",
       "      <td>Санкт-Петербург</td>\n",
       "      <td>21741.0</td>\n",
       "      <td>13933.0</td>\n",
       "      <td>1.0</td>\n",
       "      <td>90.0</td>\n",
       "      <td>2.0</td>\n",
       "      <td>574.0</td>\n",
       "      <td>558.0</td>\n",
       "    </tr>\n",
       "    <tr>\n",
       "      <th>3</th>\n",
       "      <td>0</td>\n",
       "      <td>64900000.0</td>\n",
       "      <td>159.0</td>\n",
       "      <td>2015-07-24T00:00:00</td>\n",
       "      <td>3</td>\n",
       "      <td>NaN</td>\n",
       "      <td>14.0</td>\n",
       "      <td>NaN</td>\n",
       "      <td>9</td>\n",
       "      <td>NaN</td>\n",
       "      <td>...</td>\n",
       "      <td>NaN</td>\n",
       "      <td>0.0</td>\n",
       "      <td>Санкт-Петербург</td>\n",
       "      <td>28098.0</td>\n",
       "      <td>6800.0</td>\n",
       "      <td>2.0</td>\n",
       "      <td>84.0</td>\n",
       "      <td>3.0</td>\n",
       "      <td>234.0</td>\n",
       "      <td>424.0</td>\n",
       "    </tr>\n",
       "    <tr>\n",
       "      <th>4</th>\n",
       "      <td>2</td>\n",
       "      <td>10000000.0</td>\n",
       "      <td>100.0</td>\n",
       "      <td>2018-06-19T00:00:00</td>\n",
       "      <td>2</td>\n",
       "      <td>3.03</td>\n",
       "      <td>14.0</td>\n",
       "      <td>32.0</td>\n",
       "      <td>13</td>\n",
       "      <td>NaN</td>\n",
       "      <td>...</td>\n",
       "      <td>41.0</td>\n",
       "      <td>NaN</td>\n",
       "      <td>Санкт-Петербург</td>\n",
       "      <td>31856.0</td>\n",
       "      <td>8098.0</td>\n",
       "      <td>2.0</td>\n",
       "      <td>112.0</td>\n",
       "      <td>1.0</td>\n",
       "      <td>48.0</td>\n",
       "      <td>121.0</td>\n",
       "    </tr>\n",
       "  </tbody>\n",
       "</table>\n",
       "<p>5 rows × 22 columns</p>\n",
       "</div>"
      ],
      "text/plain": [
       "   total_images  last_price  total_area first_day_exposition  rooms  \\\n",
       "0            20  13000000.0       108.0  2019-03-07T00:00:00      3   \n",
       "1             7   3350000.0        40.4  2018-12-04T00:00:00      1   \n",
       "2            10   5196000.0        56.0  2015-08-20T00:00:00      2   \n",
       "3             0  64900000.0       159.0  2015-07-24T00:00:00      3   \n",
       "4             2  10000000.0       100.0  2018-06-19T00:00:00      2   \n",
       "\n",
       "   ceiling_height  floors_total  living_area  floor is_apartment  ...  \\\n",
       "0            2.70          16.0         51.0      8          NaN  ...   \n",
       "1             NaN          11.0         18.6      1          NaN  ...   \n",
       "2             NaN           5.0         34.3      4          NaN  ...   \n",
       "3             NaN          14.0          NaN      9          NaN  ...   \n",
       "4            3.03          14.0         32.0     13          NaN  ...   \n",
       "\n",
       "   kitchen_area  balcony    locality_name  airports_nearest  \\\n",
       "0          25.0      NaN  Санкт-Петербург           18863.0   \n",
       "1          11.0      2.0   посёлок Шушары           12817.0   \n",
       "2           8.3      0.0  Санкт-Петербург           21741.0   \n",
       "3           NaN      0.0  Санкт-Петербург           28098.0   \n",
       "4          41.0      NaN  Санкт-Петербург           31856.0   \n",
       "\n",
       "  cityCenters_nearest  parks_around3000  parks_nearest  ponds_around3000  \\\n",
       "0             16028.0               1.0          482.0               2.0   \n",
       "1             18603.0               0.0            NaN               0.0   \n",
       "2             13933.0               1.0           90.0               2.0   \n",
       "3              6800.0               2.0           84.0               3.0   \n",
       "4              8098.0               2.0          112.0               1.0   \n",
       "\n",
       "   ponds_nearest  days_exposition  \n",
       "0          755.0              NaN  \n",
       "1            NaN             81.0  \n",
       "2          574.0            558.0  \n",
       "3          234.0            424.0  \n",
       "4           48.0            121.0  \n",
       "\n",
       "[5 rows x 22 columns]"
      ]
     },
     "execution_count": 3,
     "metadata": {},
     "output_type": "execute_result"
    }
   ],
   "source": [
    "df=pd.read_csv('https://code.s3.yandex.net/datasets/real_estate_data.csv', sep='\\t')\n",
    "df.head()"
   ]
  },
  {
   "cell_type": "code",
   "execution_count": 4,
   "id": "3ca4ccfd",
   "metadata": {},
   "outputs": [
    {
     "name": "stdout",
     "output_type": "stream",
     "text": [
      "<class 'pandas.core.frame.DataFrame'>\n",
      "RangeIndex: 23699 entries, 0 to 23698\n",
      "Data columns (total 22 columns):\n",
      " #   Column                Non-Null Count  Dtype  \n",
      "---  ------                --------------  -----  \n",
      " 0   total_images          23699 non-null  int64  \n",
      " 1   last_price            23699 non-null  float64\n",
      " 2   total_area            23699 non-null  float64\n",
      " 3   first_day_exposition  23699 non-null  object \n",
      " 4   rooms                 23699 non-null  int64  \n",
      " 5   ceiling_height        14504 non-null  float64\n",
      " 6   floors_total          23613 non-null  float64\n",
      " 7   living_area           21796 non-null  float64\n",
      " 8   floor                 23699 non-null  int64  \n",
      " 9   is_apartment          2775 non-null   object \n",
      " 10  studio                23699 non-null  bool   \n",
      " 11  open_plan             23699 non-null  bool   \n",
      " 12  kitchen_area          21421 non-null  float64\n",
      " 13  balcony               12180 non-null  float64\n",
      " 14  locality_name         23650 non-null  object \n",
      " 15  airports_nearest      18157 non-null  float64\n",
      " 16  cityCenters_nearest   18180 non-null  float64\n",
      " 17  parks_around3000      18181 non-null  float64\n",
      " 18  parks_nearest         8079 non-null   float64\n",
      " 19  ponds_around3000      18181 non-null  float64\n",
      " 20  ponds_nearest         9110 non-null   float64\n",
      " 21  days_exposition       20518 non-null  float64\n",
      "dtypes: bool(2), float64(14), int64(3), object(3)\n",
      "memory usage: 3.7+ MB\n"
     ]
    }
   ],
   "source": [
    "df.info()"
   ]
  },
  {
   "cell_type": "code",
   "execution_count": 5,
   "id": "f463caa4",
   "metadata": {},
   "outputs": [
    {
     "data": {
      "text/html": [
       "<div>\n",
       "<style scoped>\n",
       "    .dataframe tbody tr th:only-of-type {\n",
       "        vertical-align: middle;\n",
       "    }\n",
       "\n",
       "    .dataframe tbody tr th {\n",
       "        vertical-align: top;\n",
       "    }\n",
       "\n",
       "    .dataframe thead th {\n",
       "        text-align: right;\n",
       "    }\n",
       "</style>\n",
       "<table border=\"1\" class=\"dataframe\">\n",
       "  <thead>\n",
       "    <tr style=\"text-align: right;\">\n",
       "      <th></th>\n",
       "      <th>total_images</th>\n",
       "      <th>last_price</th>\n",
       "      <th>total_area</th>\n",
       "      <th>rooms</th>\n",
       "      <th>ceiling_height</th>\n",
       "      <th>floors_total</th>\n",
       "      <th>living_area</th>\n",
       "      <th>floor</th>\n",
       "      <th>kitchen_area</th>\n",
       "      <th>balcony</th>\n",
       "      <th>airports_nearest</th>\n",
       "      <th>cityCenters_nearest</th>\n",
       "      <th>parks_around3000</th>\n",
       "      <th>parks_nearest</th>\n",
       "      <th>ponds_around3000</th>\n",
       "      <th>ponds_nearest</th>\n",
       "      <th>days_exposition</th>\n",
       "    </tr>\n",
       "  </thead>\n",
       "  <tbody>\n",
       "    <tr>\n",
       "      <th>count</th>\n",
       "      <td>23699.000000</td>\n",
       "      <td>2.369900e+04</td>\n",
       "      <td>23699.000000</td>\n",
       "      <td>23699.000000</td>\n",
       "      <td>14504.000000</td>\n",
       "      <td>23613.000000</td>\n",
       "      <td>21796.000000</td>\n",
       "      <td>23699.000000</td>\n",
       "      <td>21421.000000</td>\n",
       "      <td>12180.000000</td>\n",
       "      <td>18157.000000</td>\n",
       "      <td>18180.000000</td>\n",
       "      <td>18181.000000</td>\n",
       "      <td>8079.000000</td>\n",
       "      <td>18181.000000</td>\n",
       "      <td>9110.000000</td>\n",
       "      <td>20518.000000</td>\n",
       "    </tr>\n",
       "    <tr>\n",
       "      <th>mean</th>\n",
       "      <td>9.858475</td>\n",
       "      <td>6.541549e+06</td>\n",
       "      <td>60.348651</td>\n",
       "      <td>2.070636</td>\n",
       "      <td>2.771499</td>\n",
       "      <td>10.673824</td>\n",
       "      <td>34.457852</td>\n",
       "      <td>5.892358</td>\n",
       "      <td>10.569807</td>\n",
       "      <td>1.150082</td>\n",
       "      <td>28793.672193</td>\n",
       "      <td>14191.277833</td>\n",
       "      <td>0.611408</td>\n",
       "      <td>490.804555</td>\n",
       "      <td>0.770255</td>\n",
       "      <td>517.980900</td>\n",
       "      <td>180.888634</td>\n",
       "    </tr>\n",
       "    <tr>\n",
       "      <th>std</th>\n",
       "      <td>5.682529</td>\n",
       "      <td>1.088701e+07</td>\n",
       "      <td>35.654083</td>\n",
       "      <td>1.078405</td>\n",
       "      <td>1.261056</td>\n",
       "      <td>6.597173</td>\n",
       "      <td>22.030445</td>\n",
       "      <td>4.885249</td>\n",
       "      <td>5.905438</td>\n",
       "      <td>1.071300</td>\n",
       "      <td>12630.880622</td>\n",
       "      <td>8608.386210</td>\n",
       "      <td>0.802074</td>\n",
       "      <td>342.317995</td>\n",
       "      <td>0.938346</td>\n",
       "      <td>277.720643</td>\n",
       "      <td>219.727988</td>\n",
       "    </tr>\n",
       "    <tr>\n",
       "      <th>min</th>\n",
       "      <td>0.000000</td>\n",
       "      <td>1.219000e+04</td>\n",
       "      <td>12.000000</td>\n",
       "      <td>0.000000</td>\n",
       "      <td>1.000000</td>\n",
       "      <td>1.000000</td>\n",
       "      <td>2.000000</td>\n",
       "      <td>1.000000</td>\n",
       "      <td>1.300000</td>\n",
       "      <td>0.000000</td>\n",
       "      <td>0.000000</td>\n",
       "      <td>181.000000</td>\n",
       "      <td>0.000000</td>\n",
       "      <td>1.000000</td>\n",
       "      <td>0.000000</td>\n",
       "      <td>13.000000</td>\n",
       "      <td>1.000000</td>\n",
       "    </tr>\n",
       "    <tr>\n",
       "      <th>25%</th>\n",
       "      <td>6.000000</td>\n",
       "      <td>3.400000e+06</td>\n",
       "      <td>40.000000</td>\n",
       "      <td>1.000000</td>\n",
       "      <td>2.520000</td>\n",
       "      <td>5.000000</td>\n",
       "      <td>18.600000</td>\n",
       "      <td>2.000000</td>\n",
       "      <td>7.000000</td>\n",
       "      <td>0.000000</td>\n",
       "      <td>18585.000000</td>\n",
       "      <td>9238.000000</td>\n",
       "      <td>0.000000</td>\n",
       "      <td>288.000000</td>\n",
       "      <td>0.000000</td>\n",
       "      <td>294.000000</td>\n",
       "      <td>45.000000</td>\n",
       "    </tr>\n",
       "    <tr>\n",
       "      <th>50%</th>\n",
       "      <td>9.000000</td>\n",
       "      <td>4.650000e+06</td>\n",
       "      <td>52.000000</td>\n",
       "      <td>2.000000</td>\n",
       "      <td>2.650000</td>\n",
       "      <td>9.000000</td>\n",
       "      <td>30.000000</td>\n",
       "      <td>4.000000</td>\n",
       "      <td>9.100000</td>\n",
       "      <td>1.000000</td>\n",
       "      <td>26726.000000</td>\n",
       "      <td>13098.500000</td>\n",
       "      <td>0.000000</td>\n",
       "      <td>455.000000</td>\n",
       "      <td>1.000000</td>\n",
       "      <td>502.000000</td>\n",
       "      <td>95.000000</td>\n",
       "    </tr>\n",
       "    <tr>\n",
       "      <th>75%</th>\n",
       "      <td>14.000000</td>\n",
       "      <td>6.800000e+06</td>\n",
       "      <td>69.900000</td>\n",
       "      <td>3.000000</td>\n",
       "      <td>2.800000</td>\n",
       "      <td>16.000000</td>\n",
       "      <td>42.300000</td>\n",
       "      <td>8.000000</td>\n",
       "      <td>12.000000</td>\n",
       "      <td>2.000000</td>\n",
       "      <td>37273.000000</td>\n",
       "      <td>16293.000000</td>\n",
       "      <td>1.000000</td>\n",
       "      <td>612.000000</td>\n",
       "      <td>1.000000</td>\n",
       "      <td>729.000000</td>\n",
       "      <td>232.000000</td>\n",
       "    </tr>\n",
       "    <tr>\n",
       "      <th>max</th>\n",
       "      <td>50.000000</td>\n",
       "      <td>7.630000e+08</td>\n",
       "      <td>900.000000</td>\n",
       "      <td>19.000000</td>\n",
       "      <td>100.000000</td>\n",
       "      <td>60.000000</td>\n",
       "      <td>409.700000</td>\n",
       "      <td>33.000000</td>\n",
       "      <td>112.000000</td>\n",
       "      <td>5.000000</td>\n",
       "      <td>84869.000000</td>\n",
       "      <td>65968.000000</td>\n",
       "      <td>3.000000</td>\n",
       "      <td>3190.000000</td>\n",
       "      <td>3.000000</td>\n",
       "      <td>1344.000000</td>\n",
       "      <td>1580.000000</td>\n",
       "    </tr>\n",
       "  </tbody>\n",
       "</table>\n",
       "</div>"
      ],
      "text/plain": [
       "       total_images    last_price    total_area         rooms  ceiling_height  \\\n",
       "count  23699.000000  2.369900e+04  23699.000000  23699.000000    14504.000000   \n",
       "mean       9.858475  6.541549e+06     60.348651      2.070636        2.771499   \n",
       "std        5.682529  1.088701e+07     35.654083      1.078405        1.261056   \n",
       "min        0.000000  1.219000e+04     12.000000      0.000000        1.000000   \n",
       "25%        6.000000  3.400000e+06     40.000000      1.000000        2.520000   \n",
       "50%        9.000000  4.650000e+06     52.000000      2.000000        2.650000   \n",
       "75%       14.000000  6.800000e+06     69.900000      3.000000        2.800000   \n",
       "max       50.000000  7.630000e+08    900.000000     19.000000      100.000000   \n",
       "\n",
       "       floors_total   living_area         floor  kitchen_area       balcony  \\\n",
       "count  23613.000000  21796.000000  23699.000000  21421.000000  12180.000000   \n",
       "mean      10.673824     34.457852      5.892358     10.569807      1.150082   \n",
       "std        6.597173     22.030445      4.885249      5.905438      1.071300   \n",
       "min        1.000000      2.000000      1.000000      1.300000      0.000000   \n",
       "25%        5.000000     18.600000      2.000000      7.000000      0.000000   \n",
       "50%        9.000000     30.000000      4.000000      9.100000      1.000000   \n",
       "75%       16.000000     42.300000      8.000000     12.000000      2.000000   \n",
       "max       60.000000    409.700000     33.000000    112.000000      5.000000   \n",
       "\n",
       "       airports_nearest  cityCenters_nearest  parks_around3000  parks_nearest  \\\n",
       "count      18157.000000         18180.000000      18181.000000    8079.000000   \n",
       "mean       28793.672193         14191.277833          0.611408     490.804555   \n",
       "std        12630.880622          8608.386210          0.802074     342.317995   \n",
       "min            0.000000           181.000000          0.000000       1.000000   \n",
       "25%        18585.000000          9238.000000          0.000000     288.000000   \n",
       "50%        26726.000000         13098.500000          0.000000     455.000000   \n",
       "75%        37273.000000         16293.000000          1.000000     612.000000   \n",
       "max        84869.000000         65968.000000          3.000000    3190.000000   \n",
       "\n",
       "       ponds_around3000  ponds_nearest  days_exposition  \n",
       "count      18181.000000    9110.000000     20518.000000  \n",
       "mean           0.770255     517.980900       180.888634  \n",
       "std            0.938346     277.720643       219.727988  \n",
       "min            0.000000      13.000000         1.000000  \n",
       "25%            0.000000     294.000000        45.000000  \n",
       "50%            1.000000     502.000000        95.000000  \n",
       "75%            1.000000     729.000000       232.000000  \n",
       "max            3.000000    1344.000000      1580.000000  "
      ]
     },
     "execution_count": 5,
     "metadata": {},
     "output_type": "execute_result"
    }
   ],
   "source": [
    "df.describe()"
   ]
  },
  {
   "cell_type": "code",
   "execution_count": 6,
   "id": "cddbea23",
   "metadata": {},
   "outputs": [
    {
     "data": {
      "text/plain": [
       "total_images            0.000000\n",
       "last_price              0.000000\n",
       "total_area              0.000000\n",
       "first_day_exposition    0.000000\n",
       "rooms                   0.000000\n",
       "ceiling_height          0.387991\n",
       "floors_total            0.003629\n",
       "living_area             0.080299\n",
       "floor                   0.000000\n",
       "is_apartment            0.882906\n",
       "studio                  0.000000\n",
       "open_plan               0.000000\n",
       "kitchen_area            0.096122\n",
       "balcony                 0.486054\n",
       "locality_name           0.002068\n",
       "airports_nearest        0.233850\n",
       "cityCenters_nearest     0.232879\n",
       "parks_around3000        0.232837\n",
       "parks_nearest           0.659100\n",
       "ponds_around3000        0.232837\n",
       "ponds_nearest           0.615596\n",
       "days_exposition         0.134225\n",
       "dtype: float64"
      ]
     },
     "execution_count": 6,
     "metadata": {},
     "output_type": "execute_result"
    }
   ],
   "source": [
    "df.isna().mean()"
   ]
  },
  {
   "cell_type": "markdown",
   "id": "2d0648e4",
   "metadata": {},
   "source": [
    "<b>Вывод:</b> Первичное изучение данных показало наличие проблем с форматами данных, а также наличие пустых значений"
   ]
  },
  {
   "cell_type": "markdown",
   "id": "e735610f",
   "metadata": {},
   "source": [
    "## 2.Предобработка данных"
   ]
  },
  {
   "cell_type": "code",
   "execution_count": 7,
   "id": "6a16a98c",
   "metadata": {},
   "outputs": [
    {
     "data": {
      "text/plain": [
       "0"
      ]
     },
     "execution_count": 7,
     "metadata": {},
     "output_type": "execute_result"
    }
   ],
   "source": [
    "df.duplicated().sum()"
   ]
  },
  {
   "cell_type": "code",
   "execution_count": 8,
   "id": "4de1b0c5",
   "metadata": {},
   "outputs": [
    {
     "data": {
      "text/plain": [
       "total_images                0\n",
       "last_price                  0\n",
       "total_area                  0\n",
       "first_day_exposition        0\n",
       "rooms                       0\n",
       "ceiling_height           9195\n",
       "floors_total               86\n",
       "living_area              1903\n",
       "floor                       0\n",
       "is_apartment            20924\n",
       "studio                      0\n",
       "open_plan                   0\n",
       "kitchen_area             2278\n",
       "balcony                 11519\n",
       "locality_name              49\n",
       "airports_nearest         5542\n",
       "cityCenters_nearest      5519\n",
       "parks_around3000         5518\n",
       "parks_nearest           15620\n",
       "ponds_around3000         5518\n",
       "ponds_nearest           14589\n",
       "days_exposition          3181\n",
       "dtype: int64"
      ]
     },
     "execution_count": 8,
     "metadata": {},
     "output_type": "execute_result"
    }
   ],
   "source": [
    "df.isna().sum()"
   ]
  },
  {
   "cell_type": "markdown",
   "id": "b3ede398",
   "metadata": {},
   "source": [
    "Если балкон не указан, то скорее всего его нет, поэтому можно заменить пустые значения на ноль и изменить формат на int"
   ]
  },
  {
   "cell_type": "code",
   "execution_count": 10,
   "id": "112d17a1",
   "metadata": {},
   "outputs": [
    {
     "name": "stdout",
     "output_type": "stream",
     "text": [
      "сумма пропусков: 0\n",
      "int32\n"
     ]
    }
   ],
   "source": [
    "df['balcony'] = df['balcony'].fillna(0).astype(int)\n",
    "print('сумма пропусков:',df['balcony'].isna().sum()) #Проверим выполнение операции\n",
    "print(df['balcony'].dtypes)"
   ]
  },
  {
   "cell_type": "markdown",
   "id": "c1024748",
   "metadata": {},
   "source": [
    "Нужно проверить пустые значения в parks_around3000. Судя по всему,отсутствие данных говорит о том, что парков в районе 3 км нет вовсе. Кроме того, отсутствие данных в parks_nearest связано с нулями в parks_around3000. Т.е. если парков в районе 3 км нет, то и расстояние до ближайшего нет. Поэтому пропуски в parks_around3000 можно заменить на ноль и привести к формату int."
   ]
  },
  {
   "cell_type": "code",
   "execution_count": 11,
   "id": "66eb6c6b",
   "metadata": {},
   "outputs": [
    {
     "data": {
      "text/html": [
       "<div>\n",
       "<style scoped>\n",
       "    .dataframe tbody tr th:only-of-type {\n",
       "        vertical-align: middle;\n",
       "    }\n",
       "\n",
       "    .dataframe tbody tr th {\n",
       "        vertical-align: top;\n",
       "    }\n",
       "\n",
       "    .dataframe thead th {\n",
       "        text-align: right;\n",
       "    }\n",
       "</style>\n",
       "<table border=\"1\" class=\"dataframe\">\n",
       "  <thead>\n",
       "    <tr style=\"text-align: right;\">\n",
       "      <th></th>\n",
       "      <th>total_images</th>\n",
       "      <th>last_price</th>\n",
       "      <th>total_area</th>\n",
       "      <th>first_day_exposition</th>\n",
       "      <th>rooms</th>\n",
       "      <th>ceiling_height</th>\n",
       "      <th>floors_total</th>\n",
       "      <th>living_area</th>\n",
       "      <th>floor</th>\n",
       "      <th>is_apartment</th>\n",
       "      <th>...</th>\n",
       "      <th>kitchen_area</th>\n",
       "      <th>balcony</th>\n",
       "      <th>locality_name</th>\n",
       "      <th>airports_nearest</th>\n",
       "      <th>cityCenters_nearest</th>\n",
       "      <th>parks_around3000</th>\n",
       "      <th>parks_nearest</th>\n",
       "      <th>ponds_around3000</th>\n",
       "      <th>ponds_nearest</th>\n",
       "      <th>days_exposition</th>\n",
       "    </tr>\n",
       "  </thead>\n",
       "  <tbody>\n",
       "    <tr>\n",
       "      <th>1</th>\n",
       "      <td>7</td>\n",
       "      <td>3350000.0</td>\n",
       "      <td>40.4</td>\n",
       "      <td>2018-12-04T00:00:00</td>\n",
       "      <td>1</td>\n",
       "      <td>NaN</td>\n",
       "      <td>11.0</td>\n",
       "      <td>18.6</td>\n",
       "      <td>1</td>\n",
       "      <td>NaN</td>\n",
       "      <td>...</td>\n",
       "      <td>11.0</td>\n",
       "      <td>2</td>\n",
       "      <td>посёлок Шушары</td>\n",
       "      <td>12817.0</td>\n",
       "      <td>18603.0</td>\n",
       "      <td>0.0</td>\n",
       "      <td>NaN</td>\n",
       "      <td>0.0</td>\n",
       "      <td>NaN</td>\n",
       "      <td>81.0</td>\n",
       "    </tr>\n",
       "    <tr>\n",
       "      <th>6</th>\n",
       "      <td>6</td>\n",
       "      <td>3700000.0</td>\n",
       "      <td>37.3</td>\n",
       "      <td>2017-11-02T00:00:00</td>\n",
       "      <td>1</td>\n",
       "      <td>NaN</td>\n",
       "      <td>26.0</td>\n",
       "      <td>10.6</td>\n",
       "      <td>6</td>\n",
       "      <td>NaN</td>\n",
       "      <td>...</td>\n",
       "      <td>14.4</td>\n",
       "      <td>1</td>\n",
       "      <td>посёлок Парголово</td>\n",
       "      <td>52996.0</td>\n",
       "      <td>19143.0</td>\n",
       "      <td>0.0</td>\n",
       "      <td>NaN</td>\n",
       "      <td>0.0</td>\n",
       "      <td>NaN</td>\n",
       "      <td>155.0</td>\n",
       "    </tr>\n",
       "    <tr>\n",
       "      <th>7</th>\n",
       "      <td>5</td>\n",
       "      <td>7915000.0</td>\n",
       "      <td>71.6</td>\n",
       "      <td>2019-04-18T00:00:00</td>\n",
       "      <td>2</td>\n",
       "      <td>NaN</td>\n",
       "      <td>24.0</td>\n",
       "      <td>NaN</td>\n",
       "      <td>22</td>\n",
       "      <td>NaN</td>\n",
       "      <td>...</td>\n",
       "      <td>18.9</td>\n",
       "      <td>2</td>\n",
       "      <td>Санкт-Петербург</td>\n",
       "      <td>23982.0</td>\n",
       "      <td>11634.0</td>\n",
       "      <td>0.0</td>\n",
       "      <td>NaN</td>\n",
       "      <td>0.0</td>\n",
       "      <td>NaN</td>\n",
       "      <td>NaN</td>\n",
       "    </tr>\n",
       "    <tr>\n",
       "      <th>9</th>\n",
       "      <td>18</td>\n",
       "      <td>5400000.0</td>\n",
       "      <td>61.0</td>\n",
       "      <td>2017-02-26T00:00:00</td>\n",
       "      <td>3</td>\n",
       "      <td>2.50</td>\n",
       "      <td>9.0</td>\n",
       "      <td>43.6</td>\n",
       "      <td>7</td>\n",
       "      <td>NaN</td>\n",
       "      <td>...</td>\n",
       "      <td>6.5</td>\n",
       "      <td>2</td>\n",
       "      <td>Санкт-Петербург</td>\n",
       "      <td>50898.0</td>\n",
       "      <td>15008.0</td>\n",
       "      <td>0.0</td>\n",
       "      <td>NaN</td>\n",
       "      <td>0.0</td>\n",
       "      <td>NaN</td>\n",
       "      <td>289.0</td>\n",
       "    </tr>\n",
       "    <tr>\n",
       "      <th>11</th>\n",
       "      <td>9</td>\n",
       "      <td>3300000.0</td>\n",
       "      <td>44.0</td>\n",
       "      <td>2018-08-27T00:00:00</td>\n",
       "      <td>2</td>\n",
       "      <td>NaN</td>\n",
       "      <td>5.0</td>\n",
       "      <td>31.0</td>\n",
       "      <td>4</td>\n",
       "      <td>False</td>\n",
       "      <td>...</td>\n",
       "      <td>6.0</td>\n",
       "      <td>1</td>\n",
       "      <td>Ломоносов</td>\n",
       "      <td>48252.0</td>\n",
       "      <td>51677.0</td>\n",
       "      <td>0.0</td>\n",
       "      <td>NaN</td>\n",
       "      <td>0.0</td>\n",
       "      <td>NaN</td>\n",
       "      <td>7.0</td>\n",
       "    </tr>\n",
       "    <tr>\n",
       "      <th>...</th>\n",
       "      <td>...</td>\n",
       "      <td>...</td>\n",
       "      <td>...</td>\n",
       "      <td>...</td>\n",
       "      <td>...</td>\n",
       "      <td>...</td>\n",
       "      <td>...</td>\n",
       "      <td>...</td>\n",
       "      <td>...</td>\n",
       "      <td>...</td>\n",
       "      <td>...</td>\n",
       "      <td>...</td>\n",
       "      <td>...</td>\n",
       "      <td>...</td>\n",
       "      <td>...</td>\n",
       "      <td>...</td>\n",
       "      <td>...</td>\n",
       "      <td>...</td>\n",
       "      <td>...</td>\n",
       "      <td>...</td>\n",
       "      <td>...</td>\n",
       "    </tr>\n",
       "    <tr>\n",
       "      <th>23684</th>\n",
       "      <td>20</td>\n",
       "      <td>21400000.0</td>\n",
       "      <td>145.0</td>\n",
       "      <td>2018-11-02T00:00:00</td>\n",
       "      <td>4</td>\n",
       "      <td>3.00</td>\n",
       "      <td>26.0</td>\n",
       "      <td>71.4</td>\n",
       "      <td>17</td>\n",
       "      <td>NaN</td>\n",
       "      <td>...</td>\n",
       "      <td>15.6</td>\n",
       "      <td>0</td>\n",
       "      <td>Санкт-Петербург</td>\n",
       "      <td>11827.0</td>\n",
       "      <td>11459.0</td>\n",
       "      <td>0.0</td>\n",
       "      <td>NaN</td>\n",
       "      <td>0.0</td>\n",
       "      <td>NaN</td>\n",
       "      <td>NaN</td>\n",
       "    </tr>\n",
       "    <tr>\n",
       "      <th>23685</th>\n",
       "      <td>15</td>\n",
       "      <td>2490000.0</td>\n",
       "      <td>31.0</td>\n",
       "      <td>2019-01-24T00:00:00</td>\n",
       "      <td>1</td>\n",
       "      <td>2.50</td>\n",
       "      <td>5.0</td>\n",
       "      <td>17.3</td>\n",
       "      <td>5</td>\n",
       "      <td>NaN</td>\n",
       "      <td>...</td>\n",
       "      <td>5.6</td>\n",
       "      <td>1</td>\n",
       "      <td>Ломоносов</td>\n",
       "      <td>48393.0</td>\n",
       "      <td>51818.0</td>\n",
       "      <td>0.0</td>\n",
       "      <td>NaN</td>\n",
       "      <td>0.0</td>\n",
       "      <td>NaN</td>\n",
       "      <td>NaN</td>\n",
       "    </tr>\n",
       "    <tr>\n",
       "      <th>23687</th>\n",
       "      <td>6</td>\n",
       "      <td>3200000.0</td>\n",
       "      <td>39.0</td>\n",
       "      <td>2017-12-16T00:00:00</td>\n",
       "      <td>1</td>\n",
       "      <td>NaN</td>\n",
       "      <td>9.0</td>\n",
       "      <td>20.0</td>\n",
       "      <td>6</td>\n",
       "      <td>NaN</td>\n",
       "      <td>...</td>\n",
       "      <td>11.0</td>\n",
       "      <td>2</td>\n",
       "      <td>Санкт-Петербург</td>\n",
       "      <td>40837.0</td>\n",
       "      <td>16704.0</td>\n",
       "      <td>0.0</td>\n",
       "      <td>NaN</td>\n",
       "      <td>0.0</td>\n",
       "      <td>NaN</td>\n",
       "      <td>38.0</td>\n",
       "    </tr>\n",
       "    <tr>\n",
       "      <th>23688</th>\n",
       "      <td>19</td>\n",
       "      <td>9200000.0</td>\n",
       "      <td>101.0</td>\n",
       "      <td>2019-04-01T00:00:00</td>\n",
       "      <td>3</td>\n",
       "      <td>3.05</td>\n",
       "      <td>15.0</td>\n",
       "      <td>63.0</td>\n",
       "      <td>12</td>\n",
       "      <td>NaN</td>\n",
       "      <td>...</td>\n",
       "      <td>15.0</td>\n",
       "      <td>0</td>\n",
       "      <td>Санкт-Петербург</td>\n",
       "      <td>15632.0</td>\n",
       "      <td>14428.0</td>\n",
       "      <td>0.0</td>\n",
       "      <td>NaN</td>\n",
       "      <td>0.0</td>\n",
       "      <td>NaN</td>\n",
       "      <td>23.0</td>\n",
       "    </tr>\n",
       "    <tr>\n",
       "      <th>23691</th>\n",
       "      <td>11</td>\n",
       "      <td>9470000.0</td>\n",
       "      <td>72.9</td>\n",
       "      <td>2016-10-13T00:00:00</td>\n",
       "      <td>2</td>\n",
       "      <td>2.75</td>\n",
       "      <td>25.0</td>\n",
       "      <td>40.3</td>\n",
       "      <td>7</td>\n",
       "      <td>NaN</td>\n",
       "      <td>...</td>\n",
       "      <td>10.6</td>\n",
       "      <td>1</td>\n",
       "      <td>Санкт-Петербург</td>\n",
       "      <td>19424.0</td>\n",
       "      <td>4489.0</td>\n",
       "      <td>0.0</td>\n",
       "      <td>NaN</td>\n",
       "      <td>1.0</td>\n",
       "      <td>806.0</td>\n",
       "      <td>519.0</td>\n",
       "    </tr>\n",
       "  </tbody>\n",
       "</table>\n",
       "<p>10106 rows × 22 columns</p>\n",
       "</div>"
      ],
      "text/plain": [
       "       total_images  last_price  total_area first_day_exposition  rooms  \\\n",
       "1                 7   3350000.0        40.4  2018-12-04T00:00:00      1   \n",
       "6                 6   3700000.0        37.3  2017-11-02T00:00:00      1   \n",
       "7                 5   7915000.0        71.6  2019-04-18T00:00:00      2   \n",
       "9                18   5400000.0        61.0  2017-02-26T00:00:00      3   \n",
       "11                9   3300000.0        44.0  2018-08-27T00:00:00      2   \n",
       "...             ...         ...         ...                  ...    ...   \n",
       "23684            20  21400000.0       145.0  2018-11-02T00:00:00      4   \n",
       "23685            15   2490000.0        31.0  2019-01-24T00:00:00      1   \n",
       "23687             6   3200000.0        39.0  2017-12-16T00:00:00      1   \n",
       "23688            19   9200000.0       101.0  2019-04-01T00:00:00      3   \n",
       "23691            11   9470000.0        72.9  2016-10-13T00:00:00      2   \n",
       "\n",
       "       ceiling_height  floors_total  living_area  floor is_apartment  ...  \\\n",
       "1                 NaN          11.0         18.6      1          NaN  ...   \n",
       "6                 NaN          26.0         10.6      6          NaN  ...   \n",
       "7                 NaN          24.0          NaN     22          NaN  ...   \n",
       "9                2.50           9.0         43.6      7          NaN  ...   \n",
       "11                NaN           5.0         31.0      4        False  ...   \n",
       "...               ...           ...          ...    ...          ...  ...   \n",
       "23684            3.00          26.0         71.4     17          NaN  ...   \n",
       "23685            2.50           5.0         17.3      5          NaN  ...   \n",
       "23687             NaN           9.0         20.0      6          NaN  ...   \n",
       "23688            3.05          15.0         63.0     12          NaN  ...   \n",
       "23691            2.75          25.0         40.3      7          NaN  ...   \n",
       "\n",
       "       kitchen_area  balcony      locality_name  airports_nearest  \\\n",
       "1              11.0        2     посёлок Шушары           12817.0   \n",
       "6              14.4        1  посёлок Парголово           52996.0   \n",
       "7              18.9        2    Санкт-Петербург           23982.0   \n",
       "9               6.5        2    Санкт-Петербург           50898.0   \n",
       "11              6.0        1          Ломоносов           48252.0   \n",
       "...             ...      ...                ...               ...   \n",
       "23684          15.6        0    Санкт-Петербург           11827.0   \n",
       "23685           5.6        1          Ломоносов           48393.0   \n",
       "23687          11.0        2    Санкт-Петербург           40837.0   \n",
       "23688          15.0        0    Санкт-Петербург           15632.0   \n",
       "23691          10.6        1    Санкт-Петербург           19424.0   \n",
       "\n",
       "      cityCenters_nearest  parks_around3000  parks_nearest  ponds_around3000  \\\n",
       "1                 18603.0               0.0            NaN               0.0   \n",
       "6                 19143.0               0.0            NaN               0.0   \n",
       "7                 11634.0               0.0            NaN               0.0   \n",
       "9                 15008.0               0.0            NaN               0.0   \n",
       "11                51677.0               0.0            NaN               0.0   \n",
       "...                   ...               ...            ...               ...   \n",
       "23684             11459.0               0.0            NaN               0.0   \n",
       "23685             51818.0               0.0            NaN               0.0   \n",
       "23687             16704.0               0.0            NaN               0.0   \n",
       "23688             14428.0               0.0            NaN               0.0   \n",
       "23691              4489.0               0.0            NaN               1.0   \n",
       "\n",
       "       ponds_nearest  days_exposition  \n",
       "1                NaN             81.0  \n",
       "6                NaN            155.0  \n",
       "7                NaN              NaN  \n",
       "9                NaN            289.0  \n",
       "11               NaN              7.0  \n",
       "...              ...              ...  \n",
       "23684            NaN              NaN  \n",
       "23685            NaN              NaN  \n",
       "23687            NaN             38.0  \n",
       "23688            NaN             23.0  \n",
       "23691          806.0            519.0  \n",
       "\n",
       "[10106 rows x 22 columns]"
      ]
     },
     "execution_count": 11,
     "metadata": {},
     "output_type": "execute_result"
    }
   ],
   "source": [
    "df[df['parks_around3000']==0]"
   ]
  },
  {
   "cell_type": "markdown",
   "id": "887ac3c6",
   "metadata": {},
   "source": [
    "Далее заменим пропущенные значения на ноль в других столбцах. При необходимости в дальнейшем нулевые значения можно отфильтровать."
   ]
  },
  {
   "cell_type": "code",
   "execution_count": 12,
   "id": "c4ef5dfe",
   "metadata": {},
   "outputs": [],
   "source": [
    "df[['parks_around3000', 'parks_nearest', 'ponds_around3000','ponds_nearest','airports_nearest', 'cityCenters_nearest','floors_total']] = df[['parks_around3000', 'parks_nearest', 'ponds_around3000','ponds_nearest','airports_nearest', 'cityCenters_nearest','floors_total']].fillna(0).astype(int)"
   ]
  },
  {
   "cell_type": "markdown",
   "id": "3a3d9f22",
   "metadata": {},
   "source": [
    "Пропуски в ceiling_height заменим на медианное значение, а пропуски в is_apartment на False"
   ]
  },
  {
   "cell_type": "code",
   "execution_count": 14,
   "id": "5d6c5422",
   "metadata": {},
   "outputs": [],
   "source": [
    "df['ceiling_height'] = df['ceiling_height'].fillna(df['ceiling_height'].median())\n",
    "df['is_apartment'] = df['is_apartment'].fillna(False)\n",
    "df['ceiling_height'] = df['ceiling_height'].astype(int) "
   ]
  },
  {
   "cell_type": "code",
   "execution_count": 15,
   "id": "0b270d59",
   "metadata": {},
   "outputs": [
    {
     "data": {
      "text/plain": [
       "total_images              int64\n",
       "last_price              float64\n",
       "total_area              float64\n",
       "first_day_exposition     object\n",
       "rooms                     int64\n",
       "ceiling_height            int32\n",
       "floors_total              int32\n",
       "living_area             float64\n",
       "floor                     int64\n",
       "is_apartment               bool\n",
       "studio                     bool\n",
       "open_plan                  bool\n",
       "kitchen_area            float64\n",
       "balcony                   int32\n",
       "locality_name            object\n",
       "airports_nearest          int32\n",
       "cityCenters_nearest       int32\n",
       "parks_around3000          int32\n",
       "parks_nearest             int32\n",
       "ponds_around3000          int32\n",
       "ponds_nearest             int32\n",
       "days_exposition         float64\n",
       "dtype: object"
      ]
     },
     "execution_count": 15,
     "metadata": {},
     "output_type": "execute_result"
    }
   ],
   "source": [
    "df.dtypes"
   ]
  },
  {
   "cell_type": "code",
   "execution_count": 16,
   "id": "4d755169",
   "metadata": {},
   "outputs": [
    {
     "data": {
      "text/plain": [
       "total_images               0\n",
       "last_price                 0\n",
       "total_area                 0\n",
       "first_day_exposition       0\n",
       "rooms                      0\n",
       "ceiling_height             0\n",
       "floors_total               0\n",
       "living_area             1903\n",
       "floor                      0\n",
       "is_apartment               0\n",
       "studio                     0\n",
       "open_plan                  0\n",
       "kitchen_area            2278\n",
       "balcony                    0\n",
       "locality_name             49\n",
       "airports_nearest           0\n",
       "cityCenters_nearest        0\n",
       "parks_around3000           0\n",
       "parks_nearest              0\n",
       "ponds_around3000           0\n",
       "ponds_nearest              0\n",
       "days_exposition         3181\n",
       "dtype: int64"
      ]
     },
     "execution_count": 16,
     "metadata": {},
     "output_type": "execute_result"
    }
   ],
   "source": [
    "df.isna().sum()"
   ]
  },
  {
   "cell_type": "markdown",
   "id": "310346dc",
   "metadata": {},
   "source": [
    "Поменяем формат данных в first_day_exposition на datetime"
   ]
  },
  {
   "cell_type": "code",
   "execution_count": 18,
   "id": "e8f65917",
   "metadata": {},
   "outputs": [],
   "source": [
    "df['first_day_exposition'] = pd.to_datetime(df['first_day_exposition'], format='%Y-%m-%dT%H:%M:%S')\n",
    "df['last_price'] = df['last_price'].astype(int)"
   ]
  },
  {
   "cell_type": "markdown",
   "id": "57da093b",
   "metadata": {},
   "source": [
    "<b>Вывод:</b> На этапе предобработки данных были заполнены пропуски в зависимости от содержимого, а также изменены форматы данных"
   ]
  },
  {
   "cell_type": "markdown",
   "id": "39daa477",
   "metadata": {},
   "source": [
    "## 3. Декомпозиция "
   ]
  },
  {
   "cell_type": "markdown",
   "id": "02fc1abd",
   "metadata": {},
   "source": [
    "Добавим столбец со значениями цены за квадратный метр"
   ]
  },
  {
   "cell_type": "code",
   "execution_count": 19,
   "id": "b43ee058",
   "metadata": {},
   "outputs": [],
   "source": [
    "df['price_per_square'] = (df['last_price'] / df['total_area']).astype(int)"
   ]
  },
  {
   "cell_type": "markdown",
   "id": "dbc16710",
   "metadata": {},
   "source": [
    "Далее добавим столбцы с днями недели, месяцами и годами размещения объявления, опираясь на данные датафрейма."
   ]
  },
  {
   "cell_type": "code",
   "execution_count": 21,
   "id": "781583d6",
   "metadata": {},
   "outputs": [],
   "source": [
    "df['weekday_exposition'] = pd.DatetimeIndex(df['first_day_exposition']).weekday\n",
    "df['month_exposition'] = pd.DatetimeIndex(df['first_day_exposition']).month\n",
    "df['year_exposition'] = pd.DatetimeIndex(df['first_day_exposition']).year"
   ]
  },
  {
   "cell_type": "markdown",
   "id": "4acad221",
   "metadata": {},
   "source": [
    "Создадим функцию, которая присвоит категорию этажа "
   ]
  },
  {
   "cell_type": "code",
   "execution_count": 22,
   "id": "0a01e0a6",
   "metadata": {},
   "outputs": [],
   "source": [
    "def var(row):\n",
    "    floor = row['floor']\n",
    "    floors_total = row['floors_total']\n",
    "    if floor == 1:\n",
    "        return 'первый'\n",
    "    if floor == floors_total:\n",
    "        return 'последний'\n",
    "    else:\n",
    "        return 'другой'"
   ]
  },
  {
   "cell_type": "code",
   "execution_count": 23,
   "id": "7c9b2af9",
   "metadata": {},
   "outputs": [],
   "source": [
    "df['floor_var'] = df.apply(var, axis=1) #Выполняем функцию для строки"
   ]
  },
  {
   "cell_type": "markdown",
   "id": "bfb3fc7b",
   "metadata": {},
   "source": [
    "Далее нужно добавить столбцы с необходимыми соотношениями"
   ]
  },
  {
   "cell_type": "code",
   "execution_count": 26,
   "id": "414da297",
   "metadata": {},
   "outputs": [],
   "source": [
    "df['living_to_total%'] = (df['living_area'] / df['total_area']).round(2) # Отношение жилой площади к общей с округлением \n",
    "df['kitchen_to_total%'] = (df['kitchen_area'] / df['total_area']).round(2)# Отношение  площади кухни к общей с округлением "
   ]
  },
  {
   "cell_type": "markdown",
   "id": "02689cc9",
   "metadata": {},
   "source": [
    "<b>Вывод:</b>\n",
    "На данном этапе были добавлены в основной датафрейм необходимые расчеты. С помощью pd.DatetimeIndex были выведены в отдельные столбцы день недели, месяц и год публикации. Затем была создана функция var для того чтобы присвоить категорию этажа. После были проведены расчеты, результатом которых стали отношения жилой площади к общей с округлением и площади кухни к общей с округлением."
   ]
  },
  {
   "cell_type": "markdown",
   "id": "6946e506",
   "metadata": {},
   "source": [
    "## 4.EDA"
   ]
  },
  {
   "cell_type": "markdown",
   "id": "e6784e2d",
   "metadata": {},
   "source": [
    "Необходимо рассмотреть характер распеределения значений общей площади "
   ]
  },
  {
   "cell_type": "code",
   "execution_count": 27,
   "id": "c497cdd1",
   "metadata": {},
   "outputs": [
    {
     "name": "stdout",
     "output_type": "stream",
     "text": [
      "\n"
     ]
    },
    {
     "data": {
      "image/png": "[encoded data removed]",
      "text/plain": [
       "<Figure size 576x576 with 1 Axes>"
      ]
     },
     "metadata": {
      "needs_background": "light"
     },
     "output_type": "display_data"
    }
   ],
   "source": [
    "df['total_area'].plot( kind='hist', bins=400, grid=True,figsize=(8,8), xlim=(1,300))\n",
    "print('')"
   ]
  },
  {
   "cell_type": "markdown",
   "id": "792e05ed",
   "metadata": {},
   "source": [
    "Распределение имеет черты нормального"
   ]
  },
  {
   "cell_type": "code",
   "execution_count": 28,
   "id": "f4568a9b",
   "metadata": {},
   "outputs": [
    {
     "name": "stdout",
     "output_type": "stream",
     "text": [
      "\n"
     ]
    },
    {
     "data": {
      "image/png": "[encoded data removed]",
      "text/plain": [
       "<Figure size 360x720 with 1 Axes>"
      ]
     },
     "metadata": {
      "needs_background": "light"
     },
     "output_type": "display_data"
    }
   ],
   "source": [
    "df.boxplot('total_area', grid=True, figsize=(5,10)) # Определяем выбросы\n",
    "print('')"
   ]
  },
  {
   "cell_type": "markdown",
   "id": "740746f9",
   "metadata": {},
   "source": [
    "Определим  верхнюю границу выбросов "
   ]
  },
  {
   "cell_type": "code",
   "execution_count": 31,
   "id": "20753a0d",
   "metadata": {},
   "outputs": [
    {
     "data": {
      "text/plain": [
       "115.0"
      ]
     },
     "execution_count": 31,
     "metadata": {},
     "output_type": "execute_result"
    }
   ],
   "source": [
    "upper_bound_total_area = df['total_area'].quantile(0.75)+1.5*(df['total_area'].quantile(0.75) - df['total_area'].quantile(0.25))\n",
    "upper_bound_total_area.round() # Значения выше этой границы можно отсеять"
   ]
  },
  {
   "cell_type": "code",
   "execution_count": 34,
   "id": "eee7cd91",
   "metadata": {},
   "outputs": [
    {
     "data": {
      "text/html": [
       "<div>\n",
       "<style scoped>\n",
       "    .dataframe tbody tr th:only-of-type {\n",
       "        vertical-align: middle;\n",
       "    }\n",
       "\n",
       "    .dataframe tbody tr th {\n",
       "        vertical-align: top;\n",
       "    }\n",
       "\n",
       "    .dataframe thead th {\n",
       "        text-align: right;\n",
       "    }\n",
       "</style>\n",
       "<table border=\"1\" class=\"dataframe\">\n",
       "  <thead>\n",
       "    <tr style=\"text-align: right;\">\n",
       "      <th></th>\n",
       "      <th>total_images</th>\n",
       "      <th>last_price</th>\n",
       "      <th>total_area</th>\n",
       "      <th>first_day_exposition</th>\n",
       "      <th>rooms</th>\n",
       "      <th>ceiling_height</th>\n",
       "      <th>floors_total</th>\n",
       "      <th>living_area</th>\n",
       "      <th>floor</th>\n",
       "      <th>is_apartment</th>\n",
       "      <th>...</th>\n",
       "      <th>ponds_around3000</th>\n",
       "      <th>ponds_nearest</th>\n",
       "      <th>days_exposition</th>\n",
       "      <th>price_per_square</th>\n",
       "      <th>weekday_exposition</th>\n",
       "      <th>month_exposition</th>\n",
       "      <th>year_exposition</th>\n",
       "      <th>floor_var</th>\n",
       "      <th>living_to_total%</th>\n",
       "      <th>kitchen_to_total%</th>\n",
       "    </tr>\n",
       "  </thead>\n",
       "  <tbody>\n",
       "    <tr>\n",
       "      <th>0</th>\n",
       "      <td>20</td>\n",
       "      <td>13000000</td>\n",
       "      <td>108.0</td>\n",
       "      <td>2019-03-07</td>\n",
       "      <td>3</td>\n",
       "      <td>2</td>\n",
       "      <td>16</td>\n",
       "      <td>51.0</td>\n",
       "      <td>8</td>\n",
       "      <td>False</td>\n",
       "      <td>...</td>\n",
       "      <td>2</td>\n",
       "      <td>755</td>\n",
       "      <td>NaN</td>\n",
       "      <td>120370</td>\n",
       "      <td>3</td>\n",
       "      <td>3</td>\n",
       "      <td>2019</td>\n",
       "      <td>другой</td>\n",
       "      <td>0.47</td>\n",
       "      <td>0.23</td>\n",
       "    </tr>\n",
       "    <tr>\n",
       "      <th>1</th>\n",
       "      <td>7</td>\n",
       "      <td>3350000</td>\n",
       "      <td>40.4</td>\n",
       "      <td>2018-12-04</td>\n",
       "      <td>1</td>\n",
       "      <td>2</td>\n",
       "      <td>11</td>\n",
       "      <td>18.6</td>\n",
       "      <td>1</td>\n",
       "      <td>False</td>\n",
       "      <td>...</td>\n",
       "      <td>0</td>\n",
       "      <td>0</td>\n",
       "      <td>81.0</td>\n",
       "      <td>82920</td>\n",
       "      <td>1</td>\n",
       "      <td>12</td>\n",
       "      <td>2018</td>\n",
       "      <td>первый</td>\n",
       "      <td>0.46</td>\n",
       "      <td>0.27</td>\n",
       "    </tr>\n",
       "    <tr>\n",
       "      <th>2</th>\n",
       "      <td>10</td>\n",
       "      <td>5196000</td>\n",
       "      <td>56.0</td>\n",
       "      <td>2015-08-20</td>\n",
       "      <td>2</td>\n",
       "      <td>2</td>\n",
       "      <td>5</td>\n",
       "      <td>34.3</td>\n",
       "      <td>4</td>\n",
       "      <td>False</td>\n",
       "      <td>...</td>\n",
       "      <td>2</td>\n",
       "      <td>574</td>\n",
       "      <td>558.0</td>\n",
       "      <td>92785</td>\n",
       "      <td>3</td>\n",
       "      <td>8</td>\n",
       "      <td>2015</td>\n",
       "      <td>другой</td>\n",
       "      <td>0.61</td>\n",
       "      <td>0.15</td>\n",
       "    </tr>\n",
       "    <tr>\n",
       "      <th>4</th>\n",
       "      <td>2</td>\n",
       "      <td>10000000</td>\n",
       "      <td>100.0</td>\n",
       "      <td>2018-06-19</td>\n",
       "      <td>2</td>\n",
       "      <td>3</td>\n",
       "      <td>14</td>\n",
       "      <td>32.0</td>\n",
       "      <td>13</td>\n",
       "      <td>False</td>\n",
       "      <td>...</td>\n",
       "      <td>1</td>\n",
       "      <td>48</td>\n",
       "      <td>121.0</td>\n",
       "      <td>100000</td>\n",
       "      <td>1</td>\n",
       "      <td>6</td>\n",
       "      <td>2018</td>\n",
       "      <td>другой</td>\n",
       "      <td>0.32</td>\n",
       "      <td>0.41</td>\n",
       "    </tr>\n",
       "    <tr>\n",
       "      <th>5</th>\n",
       "      <td>10</td>\n",
       "      <td>2890000</td>\n",
       "      <td>30.4</td>\n",
       "      <td>2018-09-10</td>\n",
       "      <td>1</td>\n",
       "      <td>2</td>\n",
       "      <td>12</td>\n",
       "      <td>14.4</td>\n",
       "      <td>5</td>\n",
       "      <td>False</td>\n",
       "      <td>...</td>\n",
       "      <td>0</td>\n",
       "      <td>0</td>\n",
       "      <td>55.0</td>\n",
       "      <td>95065</td>\n",
       "      <td>0</td>\n",
       "      <td>9</td>\n",
       "      <td>2018</td>\n",
       "      <td>другой</td>\n",
       "      <td>0.47</td>\n",
       "      <td>0.30</td>\n",
       "    </tr>\n",
       "  </tbody>\n",
       "</table>\n",
       "<p>5 rows × 29 columns</p>\n",
       "</div>"
      ],
      "text/plain": [
       "   total_images  last_price  total_area first_day_exposition  rooms  \\\n",
       "0            20    13000000       108.0           2019-03-07      3   \n",
       "1             7     3350000        40.4           2018-12-04      1   \n",
       "2            10     5196000        56.0           2015-08-20      2   \n",
       "4             2    10000000       100.0           2018-06-19      2   \n",
       "5            10     2890000        30.4           2018-09-10      1   \n",
       "\n",
       "   ceiling_height  floors_total  living_area  floor  is_apartment  ...  \\\n",
       "0               2            16         51.0      8         False  ...   \n",
       "1               2            11         18.6      1         False  ...   \n",
       "2               2             5         34.3      4         False  ...   \n",
       "4               3            14         32.0     13         False  ...   \n",
       "5               2            12         14.4      5         False  ...   \n",
       "\n",
       "   ponds_around3000  ponds_nearest  days_exposition  price_per_square  \\\n",
       "0                 2            755              NaN            120370   \n",
       "1                 0              0             81.0             82920   \n",
       "2                 2            574            558.0             92785   \n",
       "4                 1             48            121.0            100000   \n",
       "5                 0              0             55.0             95065   \n",
       "\n",
       "  weekday_exposition  month_exposition  year_exposition  floor_var  \\\n",
       "0                  3                 3             2019     другой   \n",
       "1                  1                12             2018     первый   \n",
       "2                  3                 8             2015     другой   \n",
       "4                  1                 6             2018     другой   \n",
       "5                  0                 9             2018     другой   \n",
       "\n",
       "   living_to_total%  kitchen_to_total%  \n",
       "0              0.47               0.23  \n",
       "1              0.46               0.27  \n",
       "2              0.61               0.15  \n",
       "4              0.32               0.41  \n",
       "5              0.47               0.30  \n",
       "\n",
       "[5 rows x 29 columns]"
      ]
     },
     "execution_count": 34,
     "metadata": {},
     "output_type": "execute_result"
    }
   ],
   "source": [
    "good_df = df[df['total_area'] < 115] # Создаем переменную в которой будем хранить базу данных без выбросов \n",
    "good_df.head()"
   ]
  },
  {
   "cell_type": "code",
   "execution_count": 35,
   "id": "46f18184",
   "metadata": {},
   "outputs": [
    {
     "name": "stdout",
     "output_type": "stream",
     "text": [
      "\n"
     ]
    },
    {
     "data": {
      "image/png": "[encoded data removed]",
      "text/plain": [
       "<Figure size 576x576 with 1 Axes>"
      ]
     },
     "metadata": {
      "needs_background": "light"
     },
     "output_type": "display_data"
    }
   ],
   "source": [
    "df['last_price'].plot(kind='hist', bins=4000, figsize=(8,8), grid=True,xlim=(1,30000000))\n",
    "print('')"
   ]
  },
  {
   "cell_type": "markdown",
   "id": "d63c7a07",
   "metadata": {},
   "source": [
    "Данное распределение также похоже на нормальное. Имеется длинный хвост значений "
   ]
  },
  {
   "cell_type": "code",
   "execution_count": 36,
   "id": "fc4ce1f8",
   "metadata": {},
   "outputs": [
    {
     "name": "stdout",
     "output_type": "stream",
     "text": [
      "\n"
     ]
    },
    {
     "data": {
      "image/png": "[encoded data removed]",
      "text/plain": [
       "<Figure size 360x720 with 1 Axes>"
      ]
     },
     "metadata": {
      "needs_background": "light"
     },
     "output_type": "display_data"
    }
   ],
   "source": [
    "df.boxplot('last_price', grid=True, figsize=(5,10)) # Определяем выбросы\n",
    "print('')"
   ]
  },
  {
   "cell_type": "code",
   "execution_count": 38,
   "id": "9f904aa2",
   "metadata": {},
   "outputs": [
    {
     "data": {
      "text/plain": [
       "11900000.0"
      ]
     },
     "execution_count": 38,
     "metadata": {},
     "output_type": "execute_result"
    }
   ],
   "source": [
    "upper_bound_last_price = df['last_price'].quantile(0.75)+1.5*(df['last_price'].quantile(0.75) - df['last_price'].quantile(0.25))\n",
    "upper_bound_last_price # Верхняя граница с которой начинаются выбросы"
   ]
  },
  {
   "cell_type": "code",
   "execution_count": 39,
   "id": "0235e076",
   "metadata": {},
   "outputs": [],
   "source": [
    "good_df = good_df[good_df['last_price'] < 11900000]"
   ]
  },
  {
   "cell_type": "code",
   "execution_count": 40,
   "id": "739399fa",
   "metadata": {},
   "outputs": [
    {
     "data": {
      "text/plain": [
       "1     8047\n",
       "2     7940\n",
       "3     5814\n",
       "4     1180\n",
       "5      326\n",
       "0      197\n",
       "6      105\n",
       "7       59\n",
       "8       12\n",
       "9        8\n",
       "10       3\n",
       "11       2\n",
       "14       2\n",
       "15       1\n",
       "19       1\n",
       "16       1\n",
       "12       1\n",
       "Name: rooms, dtype: int64"
      ]
     },
     "execution_count": 40,
     "metadata": {},
     "output_type": "execute_result"
    }
   ],
   "source": [
    "df['rooms'].value_counts()"
   ]
  },
  {
   "cell_type": "code",
   "execution_count": 41,
   "id": "27ff0a52",
   "metadata": {},
   "outputs": [
    {
     "name": "stdout",
     "output_type": "stream",
     "text": [
      "\n"
     ]
    },
    {
     "data": {
      "image/png": "[encoded data removed]",
      "text/plain": [
       "<Figure size 432x288 with 1 Axes>"
      ]
     },
     "metadata": {
      "needs_background": "light"
     },
     "output_type": "display_data"
    }
   ],
   "source": [
    "df['rooms'].plot(kind='hist', bins=df['rooms'].max(), xlim=(0,10), grid=True)\n",
    "print('')"
   ]
  },
  {
   "cell_type": "code",
   "execution_count": 42,
   "id": "f2d3e1ea",
   "metadata": {},
   "outputs": [
    {
     "name": "stdout",
     "output_type": "stream",
     "text": [
      "\n"
     ]
    },
    {
     "data": {
      "image/png": "[encoded data removed]",
      "text/plain": [
       "<Figure size 576x576 with 1 Axes>"
      ]
     },
     "metadata": {
      "needs_background": "light"
     },
     "output_type": "display_data"
    }
   ],
   "source": [
    "df.boxplot('rooms', grid=True, figsize=(8,8)) # Определяем выбросы\n",
    "print('')"
   ]
  },
  {
   "cell_type": "code",
   "execution_count": 43,
   "id": "d8f72fdf",
   "metadata": {},
   "outputs": [
    {
     "data": {
      "text/plain": [
       "6.0"
      ]
     },
     "execution_count": 43,
     "metadata": {},
     "output_type": "execute_result"
    }
   ],
   "source": [
    "upper_bound_rooms = df['rooms'].quantile(0.75)+1.5*(df['rooms'].quantile(0.75) - df['rooms'].quantile(0.25)) #Определяем точное значение квантиля\n",
    "upper_bound_rooms"
   ]
  },
  {
   "cell_type": "markdown",
   "id": "4c89b942",
   "metadata": {},
   "source": [
    "^ Здесь можно увидеть, что большая часть жилья это квартиры с количеством комнат от 1 до 3. Принимая во внимание то, что нулевые значения это  могут быть квартиры студии, значения, больше 6  можно принять за выбросы."
   ]
  },
  {
   "cell_type": "code",
   "execution_count": 45,
   "id": "9de82c09",
   "metadata": {},
   "outputs": [],
   "source": [
    "good_df = good_df.query('not (rooms == 0 and studio == False)') # Исключим те пустые занчения в rooms, которые не являются студиями\n",
    "good_df = good_df.query('rooms <= 6') # Отфильтруем данные, приняв за порог значение с которого начинаются выбросы "
   ]
  },
  {
   "cell_type": "code",
   "execution_count": 46,
   "id": "04ec25ee",
   "metadata": {},
   "outputs": [
    {
     "name": "stdout",
     "output_type": "stream",
     "text": [
      "\n"
     ]
    },
    {
     "data": {
      "image/png": "[encoded data removed]",
      "text/plain": [
       "<Figure size 432x288 with 1 Axes>"
      ]
     },
     "metadata": {
      "needs_background": "light"
     },
     "output_type": "display_data"
    }
   ],
   "source": [
    "good_df['rooms'].plot(kind='hist', bins=good_df['rooms'].max(), xlim=(0,10), grid=True)\n",
    "print('')"
   ]
  },
  {
   "cell_type": "markdown",
   "id": "07697e70",
   "metadata": {},
   "source": [
    "Оценим высоту потолков"
   ]
  },
  {
   "cell_type": "code",
   "execution_count": 47,
   "id": "6c7e7c9e",
   "metadata": {},
   "outputs": [
    {
     "name": "stdout",
     "output_type": "stream",
     "text": [
      "\n"
     ]
    },
    {
     "data": {
      "image/png": "[encoded data removed]",
      "text/plain": [
       "<Figure size 504x504 with 1 Axes>"
      ]
     },
     "metadata": {
      "needs_background": "light"
     },
     "output_type": "display_data"
    }
   ],
   "source": [
    "ceiling_height_plot = df['ceiling_height'] \n",
    "ceiling_height_plot.plot(kind='hist', bins=ceiling_height_plot.max(), xlim=(0,6), figsize=(7,7), grid=True)\n",
    "print('')\n"
   ]
  },
  {
   "cell_type": "markdown",
   "id": "59efdfc3",
   "metadata": {},
   "source": [
    " В соответствии с нормами жилого строительства высота потолков должна быть не менее 2.5 метров. Высота больше 4 метров встречается очень редко. Однако, мы имеем много медианных значений вместо пропусков, которые ровняются двум. Поэтому границы придется установить исходя из этого(от 2 до 4)"
   ]
  },
  {
   "cell_type": "code",
   "execution_count": 48,
   "id": "338d8dfd",
   "metadata": {},
   "outputs": [],
   "source": [
    "good_df = good_df.query('ceiling_height >= 2 and ceiling_height < 4')"
   ]
  },
  {
   "cell_type": "markdown",
   "id": "0d07be04",
   "metadata": {},
   "source": [
    "Оценим как распределено количество дней размещения объявлений до снятия "
   ]
  },
  {
   "cell_type": "code",
   "execution_count": 49,
   "id": "1e9aa0eb",
   "metadata": {},
   "outputs": [
    {
     "name": "stdout",
     "output_type": "stream",
     "text": [
      "\n"
     ]
    },
    {
     "data": {
      "image/png": "[encoded data removed]",
      "text/plain": [
       "<Figure size 648x648 with 1 Axes>"
      ]
     },
     "metadata": {
      "needs_background": "light"
     },
     "output_type": "display_data"
    }
   ],
   "source": [
    "df['days_exposition'].plot(kind='hist', bins=20, xlim=(-100,1050), figsize=(9,9), grid=True)\n",
    "print('')"
   ]
  },
  {
   "cell_type": "markdown",
   "id": "385de418",
   "metadata": {},
   "source": [
    "Распределение похоже на распределение Пуассона."
   ]
  },
  {
   "cell_type": "code",
   "execution_count": 50,
   "id": "0eceeb0e",
   "metadata": {},
   "outputs": [
    {
     "name": "stdout",
     "output_type": "stream",
     "text": [
      "\n"
     ]
    },
    {
     "data": {
      "image/png": "[encoded data removed]",
      "text/plain": [
       "<Figure size 576x576 with 1 Axes>"
      ]
     },
     "metadata": {
      "needs_background": "light"
     },
     "output_type": "display_data"
    }
   ],
   "source": [
    "df.boxplot('days_exposition', grid=True, figsize=(8,8))# Проверим данные на выбросы с помощью ящика с усами \n",
    "print('')"
   ]
  },
  {
   "cell_type": "code",
   "execution_count": 51,
   "id": "2e2fe6e1",
   "metadata": {},
   "outputs": [
    {
     "data": {
      "text/plain": [
       "512.5"
      ]
     },
     "execution_count": 51,
     "metadata": {},
     "output_type": "execute_result"
    }
   ],
   "source": [
    "upper_bound_days = df['days_exposition'].quantile(0.75)+1.5*(df['days_exposition'].quantile(0.75) - df['days_exposition'].quantile(0.25))\n",
    "upper_bound_days"
   ]
  },
  {
   "cell_type": "code",
   "execution_count": 52,
   "id": "1b75237a",
   "metadata": {},
   "outputs": [],
   "source": [
    "good_df = good_df.query('days_exposition < 512')"
   ]
  },
  {
   "cell_type": "markdown",
   "id": "4f71cdec",
   "metadata": {},
   "source": [
    "Далее необходимо проанализировать зависимость цены от других значений. Для этого можно использовать коофициент корреляции "
   ]
  },
  {
   "cell_type": "code",
   "execution_count": 55,
   "id": "0ef3ddfd",
   "metadata": {},
   "outputs": [
    {
     "data": {
      "text/html": [
       "<div>\n",
       "<style scoped>\n",
       "    .dataframe tbody tr th:only-of-type {\n",
       "        vertical-align: middle;\n",
       "    }\n",
       "\n",
       "    .dataframe tbody tr th {\n",
       "        vertical-align: top;\n",
       "    }\n",
       "\n",
       "    .dataframe thead th {\n",
       "        text-align: right;\n",
       "    }\n",
       "</style>\n",
       "<table border=\"1\" class=\"dataframe\">\n",
       "  <thead>\n",
       "    <tr style=\"text-align: right;\">\n",
       "      <th></th>\n",
       "      <th>last_price</th>\n",
       "      <th>total_area</th>\n",
       "      <th>rooms</th>\n",
       "      <th>cityCenters_nearest</th>\n",
       "    </tr>\n",
       "  </thead>\n",
       "  <tbody>\n",
       "    <tr>\n",
       "      <th>last_price</th>\n",
       "      <td>1.0</td>\n",
       "      <td>0.699418</td>\n",
       "      <td>0.438752</td>\n",
       "      <td>0.103474</td>\n",
       "    </tr>\n",
       "  </tbody>\n",
       "</table>\n",
       "</div>"
      ],
      "text/plain": [
       "            last_price  total_area     rooms  cityCenters_nearest\n",
       "last_price         1.0    0.699418  0.438752             0.103474"
      ]
     },
     "execution_count": 55,
     "metadata": {},
     "output_type": "execute_result"
    }
   ],
   "source": [
    "stat_multi = good_df[['last_price','total_area', 'rooms', 'cityCenters_nearest']]\n",
    "stat_for_matrix = stat_multi.corr().drop(labels=['total_area', 'rooms', 'cityCenters_nearest'], axis=0)\n",
    "stat_for_matrix\n"
   ]
  },
  {
   "cell_type": "markdown",
   "id": "5abf4e7e",
   "metadata": {},
   "source": [
    "Цена на жилье имеет среднюю положительную корреляцию с общей площадью.(Чем больше площадь,тем выше цена)Можно сказать, что цена на жилье имеет небольшую положительную корреляцию с количеством комнат(чем больше комнат,тем выше цена)."
   ]
  },
  {
   "cell_type": "code",
   "execution_count": 58,
   "id": "041db6aa",
   "metadata": {},
   "outputs": [
    {
     "name": "stdout",
     "output_type": "stream",
     "text": [
      "\n"
     ]
    },
    {
     "data": {
      "image/png": "[encoded data removed]",
      "text/plain": [
       "<Figure size 360x360 with 1 Axes>"
      ]
     },
     "metadata": {
      "needs_background": "light"
     },
     "output_type": "display_data"
    }
   ],
   "source": [
    "datetime_pivot = good_df.pivot_table(index=['weekday_exposition'], values='last_price', aggfunc=['mean', 'count', 'sum', 'median'])\n",
    "datetime_pivot.columns = ['mean', 'count', 'sum', 'median']\n",
    "datetime_pivot = datetime_pivot.sort_values(by='median' , ascending=False)\n",
    "datetime_pivot['median'].plot(kind='bar', grid=True, figsize=(5,5))\n",
    "print('')"
   ]
  },
  {
   "cell_type": "markdown",
   "id": "08c9cc40",
   "metadata": {},
   "source": [
    "Медианы показывают определенные  различия в зависимости от дня недели. Тем не менее можно сказать, что в воскресенье  медианное значение цены самое низкое. "
   ]
  },
  {
   "cell_type": "code",
   "execution_count": 59,
   "id": "9db2b697",
   "metadata": {},
   "outputs": [
    {
     "name": "stdout",
     "output_type": "stream",
     "text": [
      "\n"
     ]
    },
    {
     "data": {
      "image/png": "[encoded data removed]",
      "text/plain": [
       "<Figure size 360x360 with 1 Axes>"
      ]
     },
     "metadata": {
      "needs_background": "light"
     },
     "output_type": "display_data"
    }
   ],
   "source": [
    "datetime_pivot = datetime_pivot.sort_values(by='mean', ascending=False)\n",
    "datetime_pivot['mean'].plot(kind='bar', grid=True, figsize=(5,5))\n",
    "print('')"
   ]
  },
  {
   "cell_type": "markdown",
   "id": "ae1cbe24",
   "metadata": {},
   "source": [
    "В четверг среднее значение наибольшее, а в воскресенье наименьшее "
   ]
  },
  {
   "cell_type": "code",
   "execution_count": 60,
   "id": "308b88ec",
   "metadata": {},
   "outputs": [
    {
     "name": "stdout",
     "output_type": "stream",
     "text": [
      "\n"
     ]
    },
    {
     "data": {
      "image/png": "[encoded data removed]",
      "text/plain": [
       "<Figure size 360x360 with 1 Axes>"
      ]
     },
     "metadata": {
      "needs_background": "light"
     },
     "output_type": "display_data"
    }
   ],
   "source": [
    "datetime_month_pivot = good_df.pivot_table(index=['month_exposition'], values='last_price', aggfunc=['mean', 'count', 'sum', 'median'])\n",
    "datetime_month_pivot.columns = ['mean', 'count', 'sum', 'median']\n",
    "datetime_month_pivot = datetime_month_pivot.sort_values(by='median' , ascending=False)\n",
    "datetime_month_pivot['median'].plot(kind='bar', grid=True, figsize=(5,5))\n",
    "print('')"
   ]
  },
  {
   "cell_type": "code",
   "execution_count": 61,
   "id": "45efff65",
   "metadata": {},
   "outputs": [
    {
     "name": "stdout",
     "output_type": "stream",
     "text": [
      "\n"
     ]
    },
    {
     "data": {
      "image/png": "[encoded data removed]",
      "text/plain": [
       "<Figure size 360x360 with 1 Axes>"
      ]
     },
     "metadata": {
      "needs_background": "light"
     },
     "output_type": "display_data"
    }
   ],
   "source": [
    "datetime_month_pivot = datetime_month_pivot.sort_values(by='mean', ascending=False)\n",
    "datetime_month_pivot['mean'].plot(kind='bar', grid=True, figsize=(5,5))\n",
    "print('')"
   ]
  },
  {
   "cell_type": "code",
   "execution_count": 62,
   "id": "491b2d01",
   "metadata": {},
   "outputs": [
    {
     "name": "stdout",
     "output_type": "stream",
     "text": [
      "\n"
     ]
    },
    {
     "data": {
      "image/png": "[encoded data removed]",
      "text/plain": [
       "<Figure size 360x360 with 1 Axes>"
      ]
     },
     "metadata": {
      "needs_background": "light"
     },
     "output_type": "display_data"
    }
   ],
   "source": [
    "datetime_year_pivot = good_df.pivot_table(index=['year_exposition'], values='last_price', aggfunc=['mean', 'count', 'sum', 'median'])\n",
    "datetime_year_pivot.columns = ['mean', 'count', 'sum', 'median']\n",
    "datetime_year_pivot = datetime_year_pivot.sort_values(by='median' , ascending=False)\n",
    "datetime_year_pivot['median'].plot(kind='bar', grid=True, figsize=(5,5))\n",
    "print('')"
   ]
  },
  {
   "cell_type": "code",
   "execution_count": 63,
   "id": "b38c7803",
   "metadata": {},
   "outputs": [
    {
     "name": "stdout",
     "output_type": "stream",
     "text": [
      "\n"
     ]
    },
    {
     "data": {
      "image/png": "[encoded data removed]",
      "text/plain": [
       "<Figure size 360x360 with 1 Axes>"
      ]
     },
     "metadata": {
      "needs_background": "light"
     },
     "output_type": "display_data"
    }
   ],
   "source": [
    "datetime_year_pivot = datetime_year_pivot.sort_values(by='mean' , ascending=False)\n",
    "datetime_year_pivot['mean'].plot(kind='bar', grid=True, figsize=(5,5))\n",
    "print('')"
   ]
  },
  {
   "cell_type": "markdown",
   "id": "104ff167",
   "metadata": {},
   "source": [
    "Далее рассмотрим статистику в зависимости от этажа "
   ]
  },
  {
   "cell_type": "code",
   "execution_count": 64,
   "id": "53b773a0",
   "metadata": {},
   "outputs": [
    {
     "data": {
      "text/html": [
       "<div>\n",
       "<style scoped>\n",
       "    .dataframe tbody tr th:only-of-type {\n",
       "        vertical-align: middle;\n",
       "    }\n",
       "\n",
       "    .dataframe tbody tr th {\n",
       "        vertical-align: top;\n",
       "    }\n",
       "\n",
       "    .dataframe thead th {\n",
       "        text-align: right;\n",
       "    }\n",
       "</style>\n",
       "<table border=\"1\" class=\"dataframe\">\n",
       "  <thead>\n",
       "    <tr style=\"text-align: right;\">\n",
       "      <th></th>\n",
       "      <th>mean</th>\n",
       "      <th>count</th>\n",
       "      <th>sum</th>\n",
       "      <th>median</th>\n",
       "    </tr>\n",
       "    <tr>\n",
       "      <th>floor_var</th>\n",
       "      <th></th>\n",
       "      <th></th>\n",
       "      <th></th>\n",
       "      <th></th>\n",
       "    </tr>\n",
       "  </thead>\n",
       "  <tbody>\n",
       "    <tr>\n",
       "      <th>другой</th>\n",
       "      <td>4.899790e+06</td>\n",
       "      <td>12892</td>\n",
       "      <td>6.316809e+10</td>\n",
       "      <td>4500000</td>\n",
       "    </tr>\n",
       "    <tr>\n",
       "      <th>первый</th>\n",
       "      <td>3.944396e+06</td>\n",
       "      <td>2150</td>\n",
       "      <td>8.480450e+09</td>\n",
       "      <td>3700000</td>\n",
       "    </tr>\n",
       "    <tr>\n",
       "      <th>последний</th>\n",
       "      <td>4.380456e+06</td>\n",
       "      <td>2307</td>\n",
       "      <td>1.010571e+10</td>\n",
       "      <td>4000000</td>\n",
       "    </tr>\n",
       "  </tbody>\n",
       "</table>\n",
       "</div>"
      ],
      "text/plain": [
       "                   mean  count           sum   median\n",
       "floor_var                                            \n",
       "другой     4.899790e+06  12892  6.316809e+10  4500000\n",
       "первый     3.944396e+06   2150  8.480450e+09  3700000\n",
       "последний  4.380456e+06   2307  1.010571e+10  4000000"
      ]
     },
     "execution_count": 64,
     "metadata": {},
     "output_type": "execute_result"
    }
   ],
   "source": [
    "floor_var_pivot = good_df.pivot_table(index='floor_var', values='last_price', aggfunc=['mean', 'count', 'sum', 'median'])\n",
    "floor_var_pivot.columns = ['mean', 'count', 'sum', 'median']\n",
    "floor_var_pivot"
   ]
  },
  {
   "cell_type": "markdown",
   "id": "5009aee0",
   "metadata": {},
   "source": [
    "При сравнительно близких частотах жилье на первом этаже в среднем дешевле, чем жилье на последнем."
   ]
  },
  {
   "cell_type": "markdown",
   "id": "994f79fe",
   "metadata": {},
   "source": [
    "Теперь можно перейти к изучению локаций. Для этого создадим переменную в которую поместим срез из датафрейма и расчитаем нужные метрики"
   ]
  },
  {
   "cell_type": "code",
   "execution_count": 65,
   "id": "8888ae63",
   "metadata": {},
   "outputs": [
    {
     "data": {
      "text/html": [
       "<div>\n",
       "<style scoped>\n",
       "    .dataframe tbody tr th:only-of-type {\n",
       "        vertical-align: middle;\n",
       "    }\n",
       "\n",
       "    .dataframe tbody tr th {\n",
       "        vertical-align: top;\n",
       "    }\n",
       "\n",
       "    .dataframe thead th {\n",
       "        text-align: right;\n",
       "    }\n",
       "</style>\n",
       "<table border=\"1\" class=\"dataframe\">\n",
       "  <thead>\n",
       "    <tr style=\"text-align: right;\">\n",
       "      <th></th>\n",
       "      <th>count</th>\n",
       "      <th>mean</th>\n",
       "      <th>max</th>\n",
       "      <th>min</th>\n",
       "    </tr>\n",
       "    <tr>\n",
       "      <th>locality_name</th>\n",
       "      <th></th>\n",
       "      <th></th>\n",
       "      <th></th>\n",
       "      <th></th>\n",
       "    </tr>\n",
       "  </thead>\n",
       "  <tbody>\n",
       "    <tr>\n",
       "      <th>Санкт-Петербург</th>\n",
       "      <td>11108</td>\n",
       "      <td>104399.014494</td>\n",
       "      <td>312240</td>\n",
       "      <td>111</td>\n",
       "    </tr>\n",
       "    <tr>\n",
       "      <th>посёлок Мурино</th>\n",
       "      <td>478</td>\n",
       "      <td>85890.935146</td>\n",
       "      <td>138580</td>\n",
       "      <td>50000</td>\n",
       "    </tr>\n",
       "    <tr>\n",
       "      <th>посёлок Шушары</th>\n",
       "      <td>385</td>\n",
       "      <td>77939.374026</td>\n",
       "      <td>147826</td>\n",
       "      <td>47833</td>\n",
       "    </tr>\n",
       "    <tr>\n",
       "      <th>Всеволожск</th>\n",
       "      <td>303</td>\n",
       "      <td>66661.155116</td>\n",
       "      <td>136125</td>\n",
       "      <td>31400</td>\n",
       "    </tr>\n",
       "    <tr>\n",
       "      <th>Колпино</th>\n",
       "      <td>291</td>\n",
       "      <td>74507.917526</td>\n",
       "      <td>118694</td>\n",
       "      <td>47957</td>\n",
       "    </tr>\n",
       "    <tr>\n",
       "      <th>посёлок Парголово</th>\n",
       "      <td>284</td>\n",
       "      <td>89345.038732</td>\n",
       "      <td>138522</td>\n",
       "      <td>48405</td>\n",
       "    </tr>\n",
       "    <tr>\n",
       "      <th>Пушкин</th>\n",
       "      <td>257</td>\n",
       "      <td>99274.941634</td>\n",
       "      <td>166666</td>\n",
       "      <td>59836</td>\n",
       "    </tr>\n",
       "    <tr>\n",
       "      <th>деревня Кудрово</th>\n",
       "      <td>255</td>\n",
       "      <td>92424.474510</td>\n",
       "      <td>142857</td>\n",
       "      <td>54160</td>\n",
       "    </tr>\n",
       "    <tr>\n",
       "      <th>Гатчина</th>\n",
       "      <td>240</td>\n",
       "      <td>68287.612500</td>\n",
       "      <td>105818</td>\n",
       "      <td>10897</td>\n",
       "    </tr>\n",
       "    <tr>\n",
       "      <th>Выборг</th>\n",
       "      <td>188</td>\n",
       "      <td>57286.643617</td>\n",
       "      <td>93181</td>\n",
       "      <td>18750</td>\n",
       "    </tr>\n",
       "  </tbody>\n",
       "</table>\n",
       "</div>"
      ],
      "text/plain": [
       "                   count           mean     max    min\n",
       "locality_name                                         \n",
       "Санкт-Петербург    11108  104399.014494  312240    111\n",
       "посёлок Мурино       478   85890.935146  138580  50000\n",
       "посёлок Шушары       385   77939.374026  147826  47833\n",
       "Всеволожск           303   66661.155116  136125  31400\n",
       "Колпино              291   74507.917526  118694  47957\n",
       "посёлок Парголово    284   89345.038732  138522  48405\n",
       "Пушкин               257   99274.941634  166666  59836\n",
       "деревня Кудрово      255   92424.474510  142857  54160\n",
       "Гатчина              240   68287.612500  105818  10897\n",
       "Выборг               188   57286.643617   93181  18750"
      ]
     },
     "metadata": {},
     "output_type": "display_data"
    }
   ],
   "source": [
    "locality_pivot = good_df.pivot_table(index='locality_name', values='price_per_square', aggfunc=['count', 'mean','max','min'])# Создаем переменную и расчитаем метрики для цены на квадратный метр\n",
    "locality_pivot.columns=['count', 'mean','max','min'] # Переименуем столбцы \n",
    "locality_top_count = locality_pivot.sort_values(by='count', ascending=False) # Отсортируем по убыванию \n",
    "display(locality_top_count.head(10))"
   ]
  },
  {
   "cell_type": "code",
   "execution_count": 66,
   "id": "134ff7a5",
   "metadata": {},
   "outputs": [],
   "source": [
    "locality_top_count = locality_top_count.query('count > 187') # Поместим в переменную данные топ-10 локаций по частоте появления в датафрейме\n",
    "locality_top_count = locality_top_count.sort_values(by='mean', ascending=False) # Отсортируем данные по среднему значению цены "
   ]
  },
  {
   "cell_type": "code",
   "execution_count": 67,
   "id": "d083e0a2",
   "metadata": {},
   "outputs": [
    {
     "name": "stdout",
     "output_type": "stream",
     "text": [
      "\n"
     ]
    },
    {
     "data": {
      "image/png": "[encoded data removed]",
      "text/plain": [
       "<Figure size 720x576 with 1 Axes>"
      ]
     },
     "metadata": {
      "needs_background": "light"
     },
     "output_type": "display_data"
    }
   ],
   "source": [
    "locality_top_count['mean'].plot(kind='bar', rot=50, figsize=(10,8))\n",
    "print('')"
   ]
  },
  {
   "cell_type": "markdown",
   "id": "064b7fcf",
   "metadata": {},
   "source": [
    "Теперь рассмотрим расстояние до центра объектов недвижимости в Санкт-Петербурге"
   ]
  },
  {
   "cell_type": "code",
   "execution_count": 68,
   "id": "3fc2a885",
   "metadata": {},
   "outputs": [
    {
     "data": {
      "text/html": [
       "<div>\n",
       "<style scoped>\n",
       "    .dataframe tbody tr th:only-of-type {\n",
       "        vertical-align: middle;\n",
       "    }\n",
       "\n",
       "    .dataframe tbody tr th {\n",
       "        vertical-align: top;\n",
       "    }\n",
       "\n",
       "    .dataframe thead th {\n",
       "        text-align: right;\n",
       "    }\n",
       "</style>\n",
       "<table border=\"1\" class=\"dataframe\">\n",
       "  <thead>\n",
       "    <tr style=\"text-align: right;\">\n",
       "      <th></th>\n",
       "      <th>locality_name</th>\n",
       "      <th>cityCenters_nearest</th>\n",
       "      <th>last_price</th>\n",
       "      <th>price_per_km</th>\n",
       "    </tr>\n",
       "  </thead>\n",
       "  <tbody>\n",
       "    <tr>\n",
       "      <th>4</th>\n",
       "      <td>Санкт-Петербург</td>\n",
       "      <td>8098</td>\n",
       "      <td>10000000</td>\n",
       "      <td>1235</td>\n",
       "    </tr>\n",
       "    <tr>\n",
       "      <th>9</th>\n",
       "      <td>Санкт-Петербург</td>\n",
       "      <td>15008</td>\n",
       "      <td>5400000</td>\n",
       "      <td>360</td>\n",
       "    </tr>\n",
       "    <tr>\n",
       "      <th>10</th>\n",
       "      <td>Санкт-Петербург</td>\n",
       "      <td>13878</td>\n",
       "      <td>5050000</td>\n",
       "      <td>364</td>\n",
       "    </tr>\n",
       "    <tr>\n",
       "      <th>15</th>\n",
       "      <td>Санкт-Петербург</td>\n",
       "      <td>14259</td>\n",
       "      <td>4650000</td>\n",
       "      <td>326</td>\n",
       "    </tr>\n",
       "    <tr>\n",
       "      <th>16</th>\n",
       "      <td>Санкт-Петербург</td>\n",
       "      <td>10698</td>\n",
       "      <td>6700000</td>\n",
       "      <td>626</td>\n",
       "    </tr>\n",
       "    <tr>\n",
       "      <th>...</th>\n",
       "      <td>...</td>\n",
       "      <td>...</td>\n",
       "      <td>...</td>\n",
       "      <td>...</td>\n",
       "    </tr>\n",
       "    <tr>\n",
       "      <th>23686</th>\n",
       "      <td>Санкт-Петербург</td>\n",
       "      <td>11602</td>\n",
       "      <td>3300000</td>\n",
       "      <td>284</td>\n",
       "    </tr>\n",
       "    <tr>\n",
       "      <th>23687</th>\n",
       "      <td>Санкт-Петербург</td>\n",
       "      <td>16704</td>\n",
       "      <td>3200000</td>\n",
       "      <td>192</td>\n",
       "    </tr>\n",
       "    <tr>\n",
       "      <th>23688</th>\n",
       "      <td>Санкт-Петербург</td>\n",
       "      <td>14428</td>\n",
       "      <td>9200000</td>\n",
       "      <td>638</td>\n",
       "    </tr>\n",
       "    <tr>\n",
       "      <th>23689</th>\n",
       "      <td>Санкт-Петербург</td>\n",
       "      <td>16081</td>\n",
       "      <td>3550000</td>\n",
       "      <td>221</td>\n",
       "    </tr>\n",
       "    <tr>\n",
       "      <th>23690</th>\n",
       "      <td>Санкт-Петербург</td>\n",
       "      <td>6263</td>\n",
       "      <td>5500000</td>\n",
       "      <td>878</td>\n",
       "    </tr>\n",
       "  </tbody>\n",
       "</table>\n",
       "<p>11092 rows × 4 columns</p>\n",
       "</div>"
      ],
      "text/plain": [
       "         locality_name  cityCenters_nearest  last_price  price_per_km\n",
       "4      Санкт-Петербург                 8098    10000000          1235\n",
       "9      Санкт-Петербург                15008     5400000           360\n",
       "10     Санкт-Петербург                13878     5050000           364\n",
       "15     Санкт-Петербург                14259     4650000           326\n",
       "16     Санкт-Петербург                10698     6700000           626\n",
       "...                ...                  ...         ...           ...\n",
       "23686  Санкт-Петербург                11602     3300000           284\n",
       "23687  Санкт-Петербург                16704     3200000           192\n",
       "23688  Санкт-Петербург                14428     9200000           638\n",
       "23689  Санкт-Петербург                16081     3550000           221\n",
       "23690  Санкт-Петербург                 6263     5500000           878\n",
       "\n",
       "[11092 rows x 4 columns]"
      ]
     },
     "execution_count": 68,
     "metadata": {},
     "output_type": "execute_result"
    }
   ],
   "source": [
    "spb_locality = good_df[good_df['locality_name'] == 'Санкт-Петербург']\n",
    "spb_locality = spb_locality[['locality_name', 'cityCenters_nearest','last_price']]\n",
    "spb_locality = spb_locality.query('cityCenters_nearest != 0') # Исключим нулевые значения \n",
    "spb_locality['price_per_km'] =  (spb_locality['last_price'] / spb_locality['cityCenters_nearest']).round().astype(int)\n",
    "spb_locality"
   ]
  },
  {
   "cell_type": "code",
   "execution_count": 69,
   "id": "a63ea410",
   "metadata": {},
   "outputs": [
    {
     "name": "stdout",
     "output_type": "stream",
     "text": [
      "\n"
     ]
    },
    {
     "data": {
      "image/png": "[encoded data removed]",
      "text/plain": [
       "<Figure size 720x720 with 1 Axes>"
      ]
     },
     "metadata": {
      "needs_background": "light"
     },
     "output_type": "display_data"
    }
   ],
   "source": [
    "spb_locality.plot(kind='scatter', x='cityCenters_nearest', y='price_per_km', figsize=(10,10), grid=True)\n",
    "print('')"
   ]
  },
  {
   "cell_type": "markdown",
   "id": "d7fbb6fe",
   "metadata": {},
   "source": [
    "Линия перегиба заметно выражена в пределе 5-6 км .Можно заметить, что  там цена начинает  расти быстрее чем при больших значениях. Можно предположить, что центр находится в радиусе 5 км."
   ]
  },
  {
   "cell_type": "markdown",
   "id": "f720dd06",
   "metadata": {},
   "source": [
    "Проанализируем показатели объектов недвижимости в центре Санкт-Петербурга"
   ]
  },
  {
   "cell_type": "code",
   "execution_count": 70,
   "id": "9ec210dd",
   "metadata": {},
   "outputs": [],
   "source": [
    "spb_center = good_df.query('cityCenters_nearest <= 5000') # Поместим в перменную срез данных с необходимыми условиями"
   ]
  },
  {
   "cell_type": "code",
   "execution_count": 71,
   "id": "a23a2eb0",
   "metadata": {},
   "outputs": [
    {
     "data": {
      "text/html": [
       "<div>\n",
       "<style scoped>\n",
       "    .dataframe tbody tr th:only-of-type {\n",
       "        vertical-align: middle;\n",
       "    }\n",
       "\n",
       "    .dataframe tbody tr th {\n",
       "        vertical-align: top;\n",
       "    }\n",
       "\n",
       "    .dataframe thead th {\n",
       "        text-align: right;\n",
       "    }\n",
       "</style>\n",
       "<table border=\"1\" class=\"dataframe\">\n",
       "  <thead>\n",
       "    <tr style=\"text-align: right;\">\n",
       "      <th></th>\n",
       "      <th>last_price</th>\n",
       "      <th>total_area</th>\n",
       "      <th>rooms</th>\n",
       "      <th>cityCenters_nearest</th>\n",
       "    </tr>\n",
       "  </thead>\n",
       "  <tbody>\n",
       "    <tr>\n",
       "      <th>last_price</th>\n",
       "      <td>1.0</td>\n",
       "      <td>0.657677</td>\n",
       "      <td>0.418082</td>\n",
       "      <td>0.686822</td>\n",
       "    </tr>\n",
       "  </tbody>\n",
       "</table>\n",
       "</div>"
      ],
      "text/plain": [
       "            last_price  total_area     rooms  cityCenters_nearest\n",
       "last_price         1.0    0.657677  0.418082             0.686822"
      ]
     },
     "execution_count": 71,
     "metadata": {},
     "output_type": "execute_result"
    }
   ],
   "source": [
    "spb_center_stat = spb_center[['last_price','total_area', 'rooms', 'cityCenters_nearest']]\n",
    "center_for_matrix = spb_center_stat.corr().drop(labels=['total_area', 'rooms', 'cityCenters_nearest',], axis=0)\n",
    "center_for_matrix\n"
   ]
  },
  {
   "cell_type": "code",
   "execution_count": 72,
   "id": "e1bada98",
   "metadata": {},
   "outputs": [
    {
     "data": {
      "text/html": [
       "<div>\n",
       "<style scoped>\n",
       "    .dataframe tbody tr th:only-of-type {\n",
       "        vertical-align: middle;\n",
       "    }\n",
       "\n",
       "    .dataframe tbody tr th {\n",
       "        vertical-align: top;\n",
       "    }\n",
       "\n",
       "    .dataframe thead th {\n",
       "        text-align: right;\n",
       "    }\n",
       "</style>\n",
       "<table border=\"1\" class=\"dataframe\">\n",
       "  <thead>\n",
       "    <tr style=\"text-align: right;\">\n",
       "      <th></th>\n",
       "      <th>mean</th>\n",
       "      <th>count</th>\n",
       "      <th>sum</th>\n",
       "      <th>median</th>\n",
       "    </tr>\n",
       "    <tr>\n",
       "      <th>floor_var</th>\n",
       "      <th></th>\n",
       "      <th></th>\n",
       "      <th></th>\n",
       "      <th></th>\n",
       "    </tr>\n",
       "  </thead>\n",
       "  <tbody>\n",
       "    <tr>\n",
       "      <th>другой</th>\n",
       "      <td>3.976333e+06</td>\n",
       "      <td>3425</td>\n",
       "      <td>1.361894e+10</td>\n",
       "      <td>3330000</td>\n",
       "    </tr>\n",
       "    <tr>\n",
       "      <th>первый</th>\n",
       "      <td>3.066113e+06</td>\n",
       "      <td>840</td>\n",
       "      <td>2.575535e+09</td>\n",
       "      <td>2592500</td>\n",
       "    </tr>\n",
       "    <tr>\n",
       "      <th>последний</th>\n",
       "      <td>3.550331e+06</td>\n",
       "      <td>889</td>\n",
       "      <td>3.156244e+09</td>\n",
       "      <td>2750000</td>\n",
       "    </tr>\n",
       "  </tbody>\n",
       "</table>\n",
       "</div>"
      ],
      "text/plain": [
       "                   mean  count           sum   median\n",
       "floor_var                                            \n",
       "другой     3.976333e+06   3425  1.361894e+10  3330000\n",
       "первый     3.066113e+06    840  2.575535e+09  2592500\n",
       "последний  3.550331e+06    889  3.156244e+09  2750000"
      ]
     },
     "execution_count": 72,
     "metadata": {},
     "output_type": "execute_result"
    }
   ],
   "source": [
    "center_floor_var_pivot = spb_center.pivot_table(index='floor_var', values='last_price', aggfunc=['mean', 'count', 'sum', 'median'])\n",
    "center_floor_var_pivot.columns=['mean', 'count', 'sum','median']\n",
    "center_floor_var_pivot"
   ]
  },
  {
   "cell_type": "code",
   "execution_count": 73,
   "id": "1153e6cb",
   "metadata": {},
   "outputs": [
    {
     "data": {
      "text/html": [
       "<div>\n",
       "<style scoped>\n",
       "    .dataframe tbody tr th:only-of-type {\n",
       "        vertical-align: middle;\n",
       "    }\n",
       "\n",
       "    .dataframe tbody tr th {\n",
       "        vertical-align: top;\n",
       "    }\n",
       "\n",
       "    .dataframe thead th {\n",
       "        text-align: right;\n",
       "    }\n",
       "</style>\n",
       "<table border=\"1\" class=\"dataframe\">\n",
       "  <thead>\n",
       "    <tr style=\"text-align: right;\">\n",
       "      <th></th>\n",
       "      <th>last_price</th>\n",
       "      <th>total_area</th>\n",
       "      <th>rooms</th>\n",
       "      <th>cityCenters_nearest</th>\n",
       "    </tr>\n",
       "  </thead>\n",
       "  <tbody>\n",
       "    <tr>\n",
       "      <th>last_price</th>\n",
       "      <td>1.0</td>\n",
       "      <td>0.699418</td>\n",
       "      <td>0.438752</td>\n",
       "      <td>0.103474</td>\n",
       "    </tr>\n",
       "  </tbody>\n",
       "</table>\n",
       "</div>"
      ],
      "text/plain": [
       "            last_price  total_area     rooms  cityCenters_nearest\n",
       "last_price         1.0    0.699418  0.438752             0.103474"
      ]
     },
     "metadata": {},
     "output_type": "display_data"
    },
    {
     "data": {
      "text/html": [
       "<div>\n",
       "<style scoped>\n",
       "    .dataframe tbody tr th:only-of-type {\n",
       "        vertical-align: middle;\n",
       "    }\n",
       "\n",
       "    .dataframe tbody tr th {\n",
       "        vertical-align: top;\n",
       "    }\n",
       "\n",
       "    .dataframe thead th {\n",
       "        text-align: right;\n",
       "    }\n",
       "</style>\n",
       "<table border=\"1\" class=\"dataframe\">\n",
       "  <thead>\n",
       "    <tr style=\"text-align: right;\">\n",
       "      <th></th>\n",
       "      <th>last_price</th>\n",
       "      <th>total_area</th>\n",
       "      <th>rooms</th>\n",
       "      <th>cityCenters_nearest</th>\n",
       "    </tr>\n",
       "  </thead>\n",
       "  <tbody>\n",
       "    <tr>\n",
       "      <th>last_price</th>\n",
       "      <td>1.0</td>\n",
       "      <td>0.657677</td>\n",
       "      <td>0.418082</td>\n",
       "      <td>0.686822</td>\n",
       "    </tr>\n",
       "  </tbody>\n",
       "</table>\n",
       "</div>"
      ],
      "text/plain": [
       "            last_price  total_area     rooms  cityCenters_nearest\n",
       "last_price         1.0    0.657677  0.418082             0.686822"
      ]
     },
     "metadata": {},
     "output_type": "display_data"
    }
   ],
   "source": [
    "display(stat_for_matrix) # корреляция по общей базе\n",
    "display(center_for_matrix) # корреляция по центру"
   ]
  },
  {
   "cell_type": "markdown",
   "id": "34b254e1",
   "metadata": {},
   "source": [
    "Можно заметить, что корреляция цены и общей площади  в центре не сильно отличается от корреляции по общей базе. Здесь наблюдается положительная выраженная корреляция(чем больше общая площадь, тем выше цена). Корреляция цены и количества комнат схожа. Корреляция цены и расстояния до центра резко отличается.Она здесь средняя положительная(чем дальше от центра в пределах центра, тем выше цена). Скорее всего это связано с тем, что объектов недвижимости находящихся дальше от центра центра спб значительно больше и они перевешивают значение. "
   ]
  },
  {
   "cell_type": "code",
   "execution_count": 74,
   "id": "4eed5001",
   "metadata": {},
   "outputs": [
    {
     "data": {
      "text/html": [
       "<div>\n",
       "<style scoped>\n",
       "    .dataframe tbody tr th:only-of-type {\n",
       "        vertical-align: middle;\n",
       "    }\n",
       "\n",
       "    .dataframe tbody tr th {\n",
       "        vertical-align: top;\n",
       "    }\n",
       "\n",
       "    .dataframe thead th {\n",
       "        text-align: right;\n",
       "    }\n",
       "</style>\n",
       "<table border=\"1\" class=\"dataframe\">\n",
       "  <thead>\n",
       "    <tr style=\"text-align: right;\">\n",
       "      <th></th>\n",
       "      <th>mean</th>\n",
       "      <th>count</th>\n",
       "      <th>sum</th>\n",
       "      <th>median</th>\n",
       "    </tr>\n",
       "    <tr>\n",
       "      <th>floor_var</th>\n",
       "      <th></th>\n",
       "      <th></th>\n",
       "      <th></th>\n",
       "      <th></th>\n",
       "    </tr>\n",
       "  </thead>\n",
       "  <tbody>\n",
       "    <tr>\n",
       "      <th>другой</th>\n",
       "      <td>4.899790e+06</td>\n",
       "      <td>12892</td>\n",
       "      <td>6.316809e+10</td>\n",
       "      <td>4500000</td>\n",
       "    </tr>\n",
       "    <tr>\n",
       "      <th>первый</th>\n",
       "      <td>3.944396e+06</td>\n",
       "      <td>2150</td>\n",
       "      <td>8.480450e+09</td>\n",
       "      <td>3700000</td>\n",
       "    </tr>\n",
       "    <tr>\n",
       "      <th>последний</th>\n",
       "      <td>4.380456e+06</td>\n",
       "      <td>2307</td>\n",
       "      <td>1.010571e+10</td>\n",
       "      <td>4000000</td>\n",
       "    </tr>\n",
       "  </tbody>\n",
       "</table>\n",
       "</div>"
      ],
      "text/plain": [
       "                   mean  count           sum   median\n",
       "floor_var                                            \n",
       "другой     4.899790e+06  12892  6.316809e+10  4500000\n",
       "первый     3.944396e+06   2150  8.480450e+09  3700000\n",
       "последний  4.380456e+06   2307  1.010571e+10  4000000"
      ]
     },
     "metadata": {},
     "output_type": "display_data"
    },
    {
     "data": {
      "text/html": [
       "<div>\n",
       "<style scoped>\n",
       "    .dataframe tbody tr th:only-of-type {\n",
       "        vertical-align: middle;\n",
       "    }\n",
       "\n",
       "    .dataframe tbody tr th {\n",
       "        vertical-align: top;\n",
       "    }\n",
       "\n",
       "    .dataframe thead th {\n",
       "        text-align: right;\n",
       "    }\n",
       "</style>\n",
       "<table border=\"1\" class=\"dataframe\">\n",
       "  <thead>\n",
       "    <tr style=\"text-align: right;\">\n",
       "      <th></th>\n",
       "      <th>mean</th>\n",
       "      <th>count</th>\n",
       "      <th>sum</th>\n",
       "      <th>median</th>\n",
       "    </tr>\n",
       "    <tr>\n",
       "      <th>floor_var</th>\n",
       "      <th></th>\n",
       "      <th></th>\n",
       "      <th></th>\n",
       "      <th></th>\n",
       "    </tr>\n",
       "  </thead>\n",
       "  <tbody>\n",
       "    <tr>\n",
       "      <th>другой</th>\n",
       "      <td>3.976333e+06</td>\n",
       "      <td>3425</td>\n",
       "      <td>1.361894e+10</td>\n",
       "      <td>3330000</td>\n",
       "    </tr>\n",
       "    <tr>\n",
       "      <th>первый</th>\n",
       "      <td>3.066113e+06</td>\n",
       "      <td>840</td>\n",
       "      <td>2.575535e+09</td>\n",
       "      <td>2592500</td>\n",
       "    </tr>\n",
       "    <tr>\n",
       "      <th>последний</th>\n",
       "      <td>3.550331e+06</td>\n",
       "      <td>889</td>\n",
       "      <td>3.156244e+09</td>\n",
       "      <td>2750000</td>\n",
       "    </tr>\n",
       "  </tbody>\n",
       "</table>\n",
       "</div>"
      ],
      "text/plain": [
       "                   mean  count           sum   median\n",
       "floor_var                                            \n",
       "другой     3.976333e+06   3425  1.361894e+10  3330000\n",
       "первый     3.066113e+06    840  2.575535e+09  2592500\n",
       "последний  3.550331e+06    889  3.156244e+09  2750000"
      ]
     },
     "metadata": {},
     "output_type": "display_data"
    }
   ],
   "source": [
    "display(floor_var_pivot) # метрики для этажа по общей базе\n",
    "display(center_floor_var_pivot)# метрики для этажа по центру"
   ]
  },
  {
   "cell_type": "markdown",
   "id": "90481e67",
   "metadata": {},
   "source": [
    "Здесь мы можем увидеть, что средние значения  цены в центре  также различаются в зависимости от этажа как и по общей базе."
   ]
  },
  {
   "cell_type": "code",
   "execution_count": 75,
   "id": "2b773b80",
   "metadata": {},
   "outputs": [
    {
     "name": "stdout",
     "output_type": "stream",
     "text": [
      "Медианное значение цена/день по общей базе\n"
     ]
    },
    {
     "data": {
      "image/png": "[encoded data removed]",
      "text/plain": [
       "<Figure size 432x288 with 1 Axes>"
      ]
     },
     "metadata": {
      "needs_background": "light"
     },
     "output_type": "display_data"
    }
   ],
   "source": [
    "datetime_pivot = datetime_pivot.sort_values(by='median', ascending=False)\n",
    "datetime_pivot['median'].plot(kind='bar', grid=True)\n",
    "print('Медианное значение цена/день по общей базе')"
   ]
  },
  {
   "cell_type": "code",
   "execution_count": 76,
   "id": "1b2f509b",
   "metadata": {},
   "outputs": [
    {
     "name": "stdout",
     "output_type": "stream",
     "text": [
      "Медианное значение цена/день по базе центра спб\n"
     ]
    },
    {
     "data": {
      "image/png": "[encoded data removed]",
      "text/plain": [
       "<Figure size 432x288 with 1 Axes>"
      ]
     },
     "metadata": {
      "needs_background": "light"
     },
     "output_type": "display_data"
    }
   ],
   "source": [
    "spb_center_pivot = spb_center.pivot_table(index='weekday_exposition', values='last_price', aggfunc=['mean', 'count', 'sum', 'median'])\n",
    "spb_center_pivot.columns=['mean', 'count', 'sum', 'median']\n",
    "spb_center_pivot = spb_center_pivot.sort_values(by='median', ascending=False)\n",
    "spb_center_pivot['median'].plot(kind='bar',grid=True,)\n",
    "print('Медианное значение цена/день по базе центра спб')"
   ]
  },
  {
   "cell_type": "markdown",
   "id": "f991250a",
   "metadata": {},
   "source": [
    "Рейтинги медиан цена/день по общей базе и по центру спб имееют различия. В субботу самые низкие цены для двух баз. В центре спб-пятница самый дорогой день. По общей базе самый дорогой день это четверг."
   ]
  },
  {
   "cell_type": "code",
   "execution_count": 77,
   "id": "95a85a8b",
   "metadata": {},
   "outputs": [
    {
     "name": "stdout",
     "output_type": "stream",
     "text": [
      "Медианное значение цена/месяц по общей базе\n"
     ]
    },
    {
     "data": {
      "image/png": "[encoded data removed]",
      "text/plain": [
       "<Figure size 432x288 with 1 Axes>"
      ]
     },
     "metadata": {
      "needs_background": "light"
     },
     "output_type": "display_data"
    }
   ],
   "source": [
    "datetime_month_pivot = datetime_month_pivot.sort_values(by='median',ascending=False)\n",
    "datetime_month_pivot['median'].plot(kind='bar', grid=True)\n",
    "print('Медианное значение цена/месяц по общей базе')"
   ]
  },
  {
   "cell_type": "code",
   "execution_count": 78,
   "id": "e4f61e78",
   "metadata": {},
   "outputs": [
    {
     "name": "stdout",
     "output_type": "stream",
     "text": [
      "Медианное значение цена/месяц по базе центра спб\n"
     ]
    },
    {
     "data": {
      "image/png": "[encoded data removed]",
      "text/plain": [
       "<Figure size 432x288 with 1 Axes>"
      ]
     },
     "metadata": {
      "needs_background": "light"
     },
     "output_type": "display_data"
    }
   ],
   "source": [
    "spb_center_pivot = spb_center.pivot_table(index='month_exposition', values='last_price', aggfunc=['mean', 'count', 'sum', 'median'])\n",
    "spb_center_pivot.columns=['mean', 'count', 'sum', 'median']\n",
    "spb_center_pivot = spb_center_pivot.sort_values(by='median', ascending=False)\n",
    "spb_center_pivot['median'].plot(kind='bar', grid=True)\n",
    "print('Медианное значение цена/месяц по базе центра спб')"
   ]
  },
  {
   "cell_type": "markdown",
   "id": "d58c584e",
   "metadata": {},
   "source": [
    "Рейтинг по месяцам тоже очень схож. Крайние значения совпадают.Есть некоторые различия в середине. В ноябре самые высокие цены, а в июне самые низкие как для центра так и для общей базы"
   ]
  },
  {
   "cell_type": "code",
   "execution_count": 79,
   "id": "d7bd2082",
   "metadata": {},
   "outputs": [
    {
     "name": "stdout",
     "output_type": "stream",
     "text": [
      "Медианное значение цена/год по общей базе\n"
     ]
    },
    {
     "data": {
      "image/png": "[encoded data removed]",
      "text/plain": [
       "<Figure size 432x288 with 1 Axes>"
      ]
     },
     "metadata": {
      "needs_background": "light"
     },
     "output_type": "display_data"
    }
   ],
   "source": [
    "datetime_year_pivot = datetime_year_pivot.sort_values(by='median',ascending=False)\n",
    "datetime_year_pivot['median'].plot(kind='bar', grid=True)\n",
    "print('Медианное значение цена/год по общей базе')"
   ]
  },
  {
   "cell_type": "code",
   "execution_count": 80,
   "id": "b487c9c4",
   "metadata": {},
   "outputs": [
    {
     "name": "stdout",
     "output_type": "stream",
     "text": [
      "Медианное значение цена/год по базе спб\n"
     ]
    },
    {
     "data": {
      "image/png": "[encoded data removed]",
      "text/plain": [
       "<Figure size 432x288 with 1 Axes>"
      ]
     },
     "metadata": {
      "needs_background": "light"
     },
     "output_type": "display_data"
    }
   ],
   "source": [
    "spb_center_pivot = spb_center.pivot_table(index='year_exposition', values='last_price', aggfunc=['mean', 'count', 'sum', 'median'])\n",
    "spb_center_pivot.columns=['mean', 'count', 'sum', 'median']\n",
    "spb_center_pivot = spb_center_pivot.sort_values(by='median', ascending=False)\n",
    "spb_center_pivot['median'].plot(kind='bar', grid=True)\n",
    "print('Медианное значение цена/год по базе спб')"
   ]
  },
  {
   "cell_type": "markdown",
   "id": "0b6dd31a",
   "metadata": {},
   "source": [
    "Рейтинг годов различается. Самый дорогой год  для общей базы был 2019, дешевлее жилье стоило в 2016. Для базы спб самый дорогой год 2015, а в 2018 цены ниже всех."
   ]
  },
  {
   "cell_type": "markdown",
   "id": "40515eba",
   "metadata": {},
   "source": [
    "## 4.Итоги исследования"
   ]
  },
  {
   "cell_type": "markdown",
   "id": "44f8c5f2",
   "metadata": {},
   "source": [
    "* В процессе работы над проектом на этапе предобработки данных были заполнены пропуски в зависимости от содержимого, а также изменены форматы данных. На следующем этапе  были добавлены в основной датафрейм необходимые расчеты. \n",
    "* С помощью pd.DatetimeIndex были выведены в отдельные столбцы день недели, месяц и год публикации. Затем была создана функция var для того чтобы присвоить категорию. На этапе исследовательского анализа данных было посчитано и добавлено в таблицу: цена квадратного метра\n",
    "* посчитано и добавлено в таблицу: день недели, месяц и год публикации объявления.\n",
    "* Посчитано и добавлено в таблицу: этаж квартиры; варианты — первый, последний, другой.\n",
    "* Посчитано и добавлено в таблицу: соотношение жилой и общей площади, а также отношение площади кухни к общей. \n",
    "* Также были изучены следующие параметры: площадь, цена, число комнат, высота потолков построены гистограммы для каждого параметра. Были выявлены некоторые аномальные значения и проведена работа над этим. \n",
    "* Затем был проанализровано время продажи объектов недвижимости и определены границы. Определенные в ходе работы границы значений различных показателей недвижимости могут лечь в основу системы обработки базы недвижимости. \n",
    "* После этого был проведен анализ факторов влияющих на стоимость объектов недвижимости. Для этого были составлены матрицы корреляции. А затем, после выделения объектов недвижимости, расположенных в центре Петербурга, было проведено сопоставление матриц зависимости цены от различных факторов общей базы данных и базы объектов в центре города.\n",
    "* Анализ связи цены и времени размещения объявления выявил значительную схожесть и некоторые различия в показателях между общей базой и базой по центру спб. Конкретные выводы были приведены после каждого шага, требующего внимания."
   ]
  },
  {
   "cell_type": "code",
   "execution_count": null,
   "id": "0daf991c",
   "metadata": {},
   "outputs": [],
   "source": []
  }
 ],
 "metadata": {
  "kernelspec": {
   "display_name": "Python 3 (ipykernel)",
   "language": "python",
   "name": "python3"
  },
  "language_info": {
   "codemirror_mode": {
    "name": "ipython",
    "version": 3
   },
   "file_extension": ".py",
   "mimetype": "text/x-python",
   "name": "python",
   "nbconvert_exporter": "python",
   "pygments_lexer": "ipython3",
   "version": "3.9.7"
  }
 },
 "nbformat": 4,
 "nbformat_minor": 5
}
