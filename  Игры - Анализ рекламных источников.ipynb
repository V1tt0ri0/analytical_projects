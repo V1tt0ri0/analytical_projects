{
 "cells": [
  {
   "cell_type": "markdown",
   "id": "7111d88a",
   "metadata": {},
   "source": [
    "# Игры - Анализ рекламных источников"
   ]
  },
  {
   "cell_type": "markdown",
   "id": "4bf1d239",
   "metadata": {},
   "source": [
    "<b>Описание проекта, цель и задачи"
   ]
  },
  {
   "cell_type": "markdown",
   "id": "27caa0ed",
   "metadata": {},
   "source": [
    "\n",
    "Основной датасет содержит данные о событиях, совершенных в мобильной игре «Космические братья». В ней пользователи строят свою космическую программу и пытаются преуспеть в нелёгком деле колонизации галактики.\n",
    "\n",
    "Основная монетизация игры — только планируется. Но предполагается, что в приложении будет происходить показ рекламы на экране с выбором типа объекта для постройки.\n",
    "\n",
    "В датасете представлены данные по игре пользователей на первом уровне. Завершение первого уровня требует от игрока выполнения одного из двух условий:\n",
    "\n",
    "- Победа над первым врагом\n",
    "- Реализация проекта - разработка орбитальной сборки спутников\n",
    "\n",
    "В датасете содержатся данные первых пользователей приложения — когорты пользователей, которые начали пользоваться приложением в период с 4 по 10 мая включительно."
   ]
  },
  {
   "cell_type": "markdown",
   "id": "48760afc",
   "metadata": {},
   "source": [
    "Цель:проанализировать поведение игроков в зависимости от источника перехода. "
   ]
  },
  {
   "cell_type": "markdown",
   "id": "eed8899b",
   "metadata": {},
   "source": [
    "Задачи:\n",
    "   * Провести предобработку данных и декомпозицию\n",
    "   * Разбить пользователей на когорты в зависимости от стратегии прохождения игры\n",
    "   * Проанализировать влияние источника перехода на поведения игроков(сравнить нужные метрики)\n",
    "   * Оценить уровень затрат и эффективность рекламных каналов\n",
    "   * Оценить значимость"
   ]
  },
  {
   "cell_type": "code",
   "execution_count": 1,
   "id": "2729999e",
   "metadata": {},
   "outputs": [],
   "source": [
    "import pandas as pd\n",
    "import seaborn as sns\n",
    "import matplotlib.pyplot as plt\n",
    "import scipy.stats as st\n",
    "import numpy as np"
   ]
  },
  {
   "cell_type": "markdown",
   "id": "dfc79737",
   "metadata": {},
   "source": [
    "##  Предобработка данных"
   ]
  },
  {
   "cell_type": "markdown",
   "id": "0e33f6ea",
   "metadata": {},
   "source": [
    "### Открыть файлы с данными и изучить общую информацию"
   ]
  },
  {
   "cell_type": "code",
   "execution_count": 2,
   "id": "a5b7a237",
   "metadata": {},
   "outputs": [],
   "source": [
    "from io import BytesIO\n",
    "import requests\n",
    "spreadsheet_id = '1uW6nOMDSILe8vwMyUmkKNzO_qcoy5an8hFty5n7xCqU'\n",
    "file_name = 'https://docs.google.com/spreadsheets/d/{}/export?format=csv'.format(spreadsheet_id)\n",
    "r = requests.get(file_name)\n",
    "ad_costs = pd.read_csv(BytesIO(r.content))"
   ]
  },
  {
   "cell_type": "code",
   "execution_count": 3,
   "id": "feba82c6",
   "metadata": {},
   "outputs": [],
   "source": [
    "spreadsheet_id = '10dEeCHb0cA_XQn94Nt9uzF90WmVGHuZJFVZ_Yeb7HW0'\n",
    "file_name = 'https://docs.google.com/spreadsheets/d/{}/export?format=csv'.format(spreadsheet_id)\n",
    "r = requests.get(file_name)\n",
    "game_actions = pd.read_csv(BytesIO(r.content))"
   ]
  },
  {
   "cell_type": "code",
   "execution_count": 4,
   "id": "721fe7a4",
   "metadata": {},
   "outputs": [],
   "source": [
    "spreadsheet_id = '1gUycgtBNUqgnfH7wDf1ov-UQnN_uKtNPft45db_5xD4'\n",
    "file_name = 'https://docs.google.com/spreadsheets/d/{}/export?format=csv'.format(spreadsheet_id)\n",
    "r = requests.get(file_name)\n",
    "user_source = pd.read_csv(BytesIO(r.content))"
   ]
  },
  {
   "cell_type": "code",
   "execution_count": 5,
   "id": "b56f5ed4",
   "metadata": {},
   "outputs": [],
   "source": [
    "def review(df):\n",
    "    print('---------------------------------')\n",
    "    print('DESCRIBE')\n",
    "    print('---------------------------------')\n",
    "    print(df.describe()),\n",
    "    print('---------------------------------')\n",
    "    print('VALUE_COUNTS')\n",
    "    print('---------------------------------')\n",
    "    print(df.value_counts()),\n",
    "    print('---------------------------------')\n",
    "    print('INFO')\n",
    "    print('---------------------------------')\n",
    "    print(df.info()),\n",
    "    print('---------------------------------')\n",
    "    print('FRAME_HEAD')\n",
    "    print('---------------------------------')\n",
    "    print(df.head())"
   ]
  },
  {
   "cell_type": "code",
   "execution_count": 6,
   "id": "20d0a699",
   "metadata": {},
   "outputs": [
    {
     "name": "stdout",
     "output_type": "stream",
     "text": [
      "---------------------------------\n",
      "DESCRIBE\n",
      "---------------------------------\n",
      "             cost\n",
      "count   28.000000\n",
      "mean   271.556321\n",
      "std    286.867650\n",
      "min     23.314669\n",
      "25%     66.747365\n",
      "50%    160.056443\n",
      "75%    349.034473\n",
      "max    969.139394\n",
      "---------------------------------\n",
      "VALUE_COUNTS\n",
      "---------------------------------\n",
      "source                   day         cost      \n",
      "facebook_ads             2020-05-03  935.882786    1\n",
      "                         2020-05-04  548.354480    1\n",
      "youtube_channel_reklama  2020-05-08  40.217907     1\n",
      "                         2020-05-07  55.740645     1\n",
      "                         2020-05-06  88.506074     1\n",
      "                         2020-05-05  147.041741    1\n",
      "                         2020-05-04  259.073224    1\n",
      "                         2020-05-03  454.224943    1\n",
      "yandex_direct            2020-05-09  42.779505     1\n",
      "                         2020-05-08  62.961630     1\n",
      "                         2020-05-07  114.429338    1\n",
      "                         2020-05-06  180.917099    1\n",
      "                         2020-05-05  308.232990    1\n",
      "                         2020-05-04  554.651494    1\n",
      "                         2020-05-03  969.139394    1\n",
      "instagram_new_adverts    2020-05-09  46.775400     1\n",
      "                         2020-05-08  71.578739     1\n",
      "                         2020-05-07  109.915254    1\n",
      "                         2020-05-06  173.071145    1\n",
      "                         2020-05-05  313.970984    1\n",
      "                         2020-05-04  502.925451    1\n",
      "                         2020-05-03  943.204717    1\n",
      "facebook_ads             2020-05-09  38.723350     1\n",
      "                         2020-05-08  68.009276     1\n",
      "                         2020-05-07  111.766796    1\n",
      "                         2020-05-06  177.982200    1\n",
      "                         2020-05-05  260.185754    1\n",
      "youtube_channel_reklama  2020-05-09  23.314669     1\n",
      "dtype: int64\n",
      "---------------------------------\n",
      "INFO\n",
      "---------------------------------\n",
      "<class 'pandas.core.frame.DataFrame'>\n",
      "RangeIndex: 28 entries, 0 to 27\n",
      "Data columns (total 3 columns):\n",
      " #   Column  Non-Null Count  Dtype  \n",
      "---  ------  --------------  -----  \n",
      " 0   source  28 non-null     object \n",
      " 1   day     28 non-null     object \n",
      " 2   cost    28 non-null     float64\n",
      "dtypes: float64(1), object(2)\n",
      "memory usage: 800.0+ bytes\n",
      "None\n",
      "---------------------------------\n",
      "FRAME_HEAD\n",
      "---------------------------------\n",
      "         source         day        cost\n",
      "0  facebook_ads  2020-05-03  935.882786\n",
      "1  facebook_ads  2020-05-04  548.354480\n",
      "2  facebook_ads  2020-05-05  260.185754\n",
      "3  facebook_ads  2020-05-06  177.982200\n",
      "4  facebook_ads  2020-05-07  111.766796\n"
     ]
    }
   ],
   "source": [
    "review(ad_costs)"
   ]
  },
  {
   "cell_type": "code",
   "execution_count": 7,
   "id": "6f18d462",
   "metadata": {},
   "outputs": [
    {
     "name": "stdout",
     "output_type": "stream",
     "text": [
      "---------------------------------\n",
      "DESCRIBE\n",
      "---------------------------------\n",
      "             event_datetime     event building_type  \\\n",
      "count                135640    135640        127957   \n",
      "unique               128790         3             3   \n",
      "top     2020-05-09 12:35:56  building     spaceport   \n",
      "freq                      4    127957         59325   \n",
      "\n",
      "                                     user_id                project_type  \n",
      "count                                 135640                        1866  \n",
      "unique                                 13576                           1  \n",
      "top     bf542075-e3a2-4e79-82d8-3838e86d2a25  satellite_orbital_assembly  \n",
      "freq                                      22                        1866  \n",
      "---------------------------------\n",
      "VALUE_COUNTS\n",
      "---------------------------------\n",
      "Series([], dtype: int64)\n",
      "---------------------------------\n",
      "INFO\n",
      "---------------------------------\n",
      "<class 'pandas.core.frame.DataFrame'>\n",
      "RangeIndex: 135640 entries, 0 to 135639\n",
      "Data columns (total 5 columns):\n",
      " #   Column          Non-Null Count   Dtype \n",
      "---  ------          --------------   ----- \n",
      " 0   event_datetime  135640 non-null  object\n",
      " 1   event           135640 non-null  object\n",
      " 2   building_type   127957 non-null  object\n",
      " 3   user_id         135640 non-null  object\n",
      " 4   project_type    1866 non-null    object\n",
      "dtypes: object(5)\n",
      "memory usage: 5.2+ MB\n",
      "None\n",
      "---------------------------------\n",
      "FRAME_HEAD\n",
      "---------------------------------\n",
      "       event_datetime     event  building_type  \\\n",
      "0  2020-05-04 0:00:01  building  assembly_shop   \n",
      "1  2020-05-04 0:00:03  building  assembly_shop   \n",
      "2  2020-05-04 0:00:16  building  assembly_shop   \n",
      "3  2020-05-04 0:00:16  building  assembly_shop   \n",
      "4  2020-05-04 0:00:35  building  assembly_shop   \n",
      "\n",
      "                                user_id project_type  \n",
      "0  55e92310-cb8e-4754-b622-597e124b03de          NaN  \n",
      "1  c07b1c10-f477-44dc-81dc-ec82254b1347          NaN  \n",
      "2  6edd42cc-e753-4ff6-a947-2107cd560710          NaN  \n",
      "3  92c69003-d60a-444a-827f-8cc51bf6bf4c          NaN  \n",
      "4  cdc6bb92-0ccb-4490-9866-ef142f09139d          NaN  \n"
     ]
    }
   ],
   "source": [
    "review(game_actions)"
   ]
  },
  {
   "cell_type": "code",
   "execution_count": 8,
   "id": "774da94b",
   "metadata": {},
   "outputs": [
    {
     "name": "stdout",
     "output_type": "stream",
     "text": [
      "---------------------------------\n",
      "DESCRIBE\n",
      "---------------------------------\n",
      "                                     user_id         source\n",
      "count                                  13576          13576\n",
      "unique                                 13576              4\n",
      "top     0001f83c-c6ac-4621-b7f0-8a28b283ac30  yandex_direct\n",
      "freq                                       1           4817\n",
      "---------------------------------\n",
      "VALUE_COUNTS\n",
      "---------------------------------\n",
      "user_id                               source                 \n",
      "0001f83c-c6ac-4621-b7f0-8a28b283ac30  facebook_ads               1\n",
      "a9ff93bd-0b96-4e89-bef7-c29326643faf  youtube_channel_reklama    1\n",
      "aa08dc9a-f199-483d-aa43-2781abb889fc  instagram_new_adverts      1\n",
      "aa0d0a62-0ba5-4d87-9467-4eb39d6b2d17  facebook_ads               1\n",
      "aa122ae2-5e98-4d93-96dc-fdcf7016398e  facebook_ads               1\n",
      "                                                                ..\n",
      "53c5f5cc-975b-4be6-9a60-2a8fe0fc226f  instagram_new_adverts      1\n",
      "53d146cf-1b2a-4038-8326-7900b021f418  yandex_direct              1\n",
      "53d59f09-9745-4bdd-b6e5-56f98a5228d4  instagram_new_adverts      1\n",
      "53d8dfd2-d601-461b-a4fd-890be5b45d27  yandex_direct              1\n",
      "ffff69cc-fec1-4fd3-9f98-93be1112a6b8  facebook_ads               1\n",
      "Length: 13576, dtype: int64\n",
      "---------------------------------\n",
      "INFO\n",
      "---------------------------------\n",
      "<class 'pandas.core.frame.DataFrame'>\n",
      "RangeIndex: 13576 entries, 0 to 13575\n",
      "Data columns (total 2 columns):\n",
      " #   Column   Non-Null Count  Dtype \n",
      "---  ------   --------------  ----- \n",
      " 0   user_id  13576 non-null  object\n",
      " 1   source   13576 non-null  object\n",
      "dtypes: object(2)\n",
      "memory usage: 212.2+ KB\n",
      "None\n",
      "---------------------------------\n",
      "FRAME_HEAD\n",
      "---------------------------------\n",
      "                                user_id                   source\n",
      "0  0001f83c-c6ac-4621-b7f0-8a28b283ac30             facebook_ads\n",
      "1  00151b4f-ba38-44a8-a650-d7cf130a0105            yandex_direct\n",
      "2  001aaea6-3d14-43f1-8ca8-7f48820f17aa  youtube_channel_reklama\n",
      "3  001d39dc-366c-4021-9604-6a3b9ff01e25    instagram_new_adverts\n",
      "4  002f508f-67b6-479f-814b-b05f00d4e995             facebook_ads\n"
     ]
    }
   ],
   "source": [
    "review(user_source)"
   ]
  },
  {
   "cell_type": "markdown",
   "id": "21dea6a3",
   "metadata": {},
   "source": [
    "### Проверить форматы данных и привести их к нужному если необходимо"
   ]
  },
  {
   "cell_type": "code",
   "execution_count": 9,
   "id": "0bd323d9",
   "metadata": {},
   "outputs": [
    {
     "data": {
      "text/plain": [
       "event_datetime    object\n",
       "event             object\n",
       "building_type     object\n",
       "user_id           object\n",
       "project_type      object\n",
       "dtype: object"
      ]
     },
     "execution_count": 9,
     "metadata": {},
     "output_type": "execute_result"
    }
   ],
   "source": [
    "game_actions.dtypes"
   ]
  },
  {
   "cell_type": "code",
   "execution_count": 10,
   "id": "5b93ab05",
   "metadata": {},
   "outputs": [
    {
     "data": {
      "text/html": [
       "<div>\n",
       "<style scoped>\n",
       "    .dataframe tbody tr th:only-of-type {\n",
       "        vertical-align: middle;\n",
       "    }\n",
       "\n",
       "    .dataframe tbody tr th {\n",
       "        vertical-align: top;\n",
       "    }\n",
       "\n",
       "    .dataframe thead th {\n",
       "        text-align: right;\n",
       "    }\n",
       "</style>\n",
       "<table border=\"1\" class=\"dataframe\">\n",
       "  <thead>\n",
       "    <tr style=\"text-align: right;\">\n",
       "      <th></th>\n",
       "      <th>event_datetime</th>\n",
       "      <th>event</th>\n",
       "      <th>building_type</th>\n",
       "      <th>user_id</th>\n",
       "      <th>project_type</th>\n",
       "    </tr>\n",
       "  </thead>\n",
       "  <tbody>\n",
       "    <tr>\n",
       "      <th>0</th>\n",
       "      <td>2020-05-04 0:00:01</td>\n",
       "      <td>building</td>\n",
       "      <td>assembly_shop</td>\n",
       "      <td>55e92310-cb8e-4754-b622-597e124b03de</td>\n",
       "      <td>NaN</td>\n",
       "    </tr>\n",
       "    <tr>\n",
       "      <th>1</th>\n",
       "      <td>2020-05-04 0:00:03</td>\n",
       "      <td>building</td>\n",
       "      <td>assembly_shop</td>\n",
       "      <td>c07b1c10-f477-44dc-81dc-ec82254b1347</td>\n",
       "      <td>NaN</td>\n",
       "    </tr>\n",
       "    <tr>\n",
       "      <th>2</th>\n",
       "      <td>2020-05-04 0:00:16</td>\n",
       "      <td>building</td>\n",
       "      <td>assembly_shop</td>\n",
       "      <td>6edd42cc-e753-4ff6-a947-2107cd560710</td>\n",
       "      <td>NaN</td>\n",
       "    </tr>\n",
       "    <tr>\n",
       "      <th>3</th>\n",
       "      <td>2020-05-04 0:00:16</td>\n",
       "      <td>building</td>\n",
       "      <td>assembly_shop</td>\n",
       "      <td>92c69003-d60a-444a-827f-8cc51bf6bf4c</td>\n",
       "      <td>NaN</td>\n",
       "    </tr>\n",
       "    <tr>\n",
       "      <th>4</th>\n",
       "      <td>2020-05-04 0:00:35</td>\n",
       "      <td>building</td>\n",
       "      <td>assembly_shop</td>\n",
       "      <td>cdc6bb92-0ccb-4490-9866-ef142f09139d</td>\n",
       "      <td>NaN</td>\n",
       "    </tr>\n",
       "  </tbody>\n",
       "</table>\n",
       "</div>"
      ],
      "text/plain": [
       "       event_datetime     event  building_type  \\\n",
       "0  2020-05-04 0:00:01  building  assembly_shop   \n",
       "1  2020-05-04 0:00:03  building  assembly_shop   \n",
       "2  2020-05-04 0:00:16  building  assembly_shop   \n",
       "3  2020-05-04 0:00:16  building  assembly_shop   \n",
       "4  2020-05-04 0:00:35  building  assembly_shop   \n",
       "\n",
       "                                user_id project_type  \n",
       "0  55e92310-cb8e-4754-b622-597e124b03de          NaN  \n",
       "1  c07b1c10-f477-44dc-81dc-ec82254b1347          NaN  \n",
       "2  6edd42cc-e753-4ff6-a947-2107cd560710          NaN  \n",
       "3  92c69003-d60a-444a-827f-8cc51bf6bf4c          NaN  \n",
       "4  cdc6bb92-0ccb-4490-9866-ef142f09139d          NaN  "
      ]
     },
     "execution_count": 10,
     "metadata": {},
     "output_type": "execute_result"
    }
   ],
   "source": [
    "game_actions.head()"
   ]
  },
  {
   "cell_type": "code",
   "execution_count": 11,
   "id": "bda8c250",
   "metadata": {},
   "outputs": [],
   "source": [
    "game_actions['event_datetime'] = pd.to_datetime(game_actions['event_datetime'])"
   ]
  },
  {
   "cell_type": "code",
   "execution_count": 12,
   "id": "ed54d9aa",
   "metadata": {},
   "outputs": [
    {
     "data": {
      "text/plain": [
       "source     object\n",
       "day        object\n",
       "cost      float64\n",
       "dtype: object"
      ]
     },
     "execution_count": 12,
     "metadata": {},
     "output_type": "execute_result"
    }
   ],
   "source": [
    "ad_costs.dtypes"
   ]
  },
  {
   "cell_type": "code",
   "execution_count": 13,
   "id": "b2f2049e",
   "metadata": {},
   "outputs": [],
   "source": [
    "ad_costs['day'] = pd.to_datetime(ad_costs['day'])"
   ]
  },
  {
   "cell_type": "code",
   "execution_count": 14,
   "id": "16cc3861",
   "metadata": {},
   "outputs": [
    {
     "data": {
      "text/plain": [
       "user_id    object\n",
       "source     object\n",
       "dtype: object"
      ]
     },
     "execution_count": 14,
     "metadata": {},
     "output_type": "execute_result"
    }
   ],
   "source": [
    "user_source.dtypes"
   ]
  },
  {
   "cell_type": "markdown",
   "id": "60b2a184",
   "metadata": {},
   "source": [
    "### Проверить на пропуски"
   ]
  },
  {
   "cell_type": "code",
   "execution_count": 15,
   "id": "7d4fdf68",
   "metadata": {},
   "outputs": [
    {
     "name": "stdout",
     "output_type": "stream",
     "text": [
      "event_datetime         0\n",
      "event                  0\n",
      "building_type       7683\n",
      "user_id                0\n",
      "project_type      133774\n",
      "dtype: int64\n",
      "source    0\n",
      "day       0\n",
      "cost      0\n",
      "dtype: int64\n",
      "user_id    0\n",
      "source     0\n",
      "dtype: int64\n"
     ]
    }
   ],
   "source": [
    "for i in [game_actions, ad_costs, user_source]:\n",
    "    result = i.isna().sum()\n",
    "    print(result)"
   ]
  },
  {
   "cell_type": "markdown",
   "id": "427dba81",
   "metadata": {},
   "source": [
    "Пропуски можно заменить на категориальное значение \"no building\" для признака 'buildung_type'. Вполне логично, что тип постройки определяется только для события building. Это технический пропуск вызванный особенностью сбора данных. В ходе дальнейшей работы над проектом было принято решение оставить пропуски так как замена на категориальные значения мешает необходимым расчетам и проверке гипотез."
   ]
  },
  {
   "cell_type": "markdown",
   "id": "f1572118",
   "metadata": {},
   "source": [
    "Пропуски в 'project_type' тоже технические так как тип проекта на первом уровне игры только один и присваевается для события project. Эти пропуски можно тоже заменить на категорию. Например на 'not project'"
   ]
  },
  {
   "cell_type": "code",
   "execution_count": 16,
   "id": "3ae79fb6",
   "metadata": {},
   "outputs": [
    {
     "data": {
      "text/plain": [
       "event_datetime         0\n",
       "event                  0\n",
       "building_type       7683\n",
       "user_id                0\n",
       "project_type      133774\n",
       "dtype: int64"
      ]
     },
     "execution_count": 16,
     "metadata": {},
     "output_type": "execute_result"
    }
   ],
   "source": [
    "game_actions.isna().sum()"
   ]
  },
  {
   "cell_type": "markdown",
   "id": "b056f1cf",
   "metadata": {},
   "source": [
    "### Проверить на дубликаты"
   ]
  },
  {
   "cell_type": "code",
   "execution_count": 17,
   "id": "1a80733f",
   "metadata": {},
   "outputs": [
    {
     "data": {
      "text/plain": [
       "1"
      ]
     },
     "execution_count": 17,
     "metadata": {},
     "output_type": "execute_result"
    }
   ],
   "source": [
    "game_actions.duplicated().sum()"
   ]
  },
  {
   "cell_type": "code",
   "execution_count": 18,
   "id": "4e6f3686",
   "metadata": {},
   "outputs": [],
   "source": [
    "game_actions.drop_duplicates(inplace=True)"
   ]
  },
  {
   "cell_type": "markdown",
   "id": "8efc3aeb",
   "metadata": {},
   "source": [
    "###  Преобразовать и объединить датасеты"
   ]
  },
  {
   "cell_type": "markdown",
   "id": "b9817e32",
   "metadata": {},
   "source": [
    "Далее для дальнейшего удобства анализа нужно объединить датасеты и провести необходимые группировки "
   ]
  },
  {
   "cell_type": "code",
   "execution_count": 19,
   "id": "9cf53500",
   "metadata": {},
   "outputs": [
    {
     "data": {
      "text/html": [
       "<div>\n",
       "<style scoped>\n",
       "    .dataframe tbody tr th:only-of-type {\n",
       "        vertical-align: middle;\n",
       "    }\n",
       "\n",
       "    .dataframe tbody tr th {\n",
       "        vertical-align: top;\n",
       "    }\n",
       "\n",
       "    .dataframe thead th {\n",
       "        text-align: right;\n",
       "    }\n",
       "</style>\n",
       "<table border=\"1\" class=\"dataframe\">\n",
       "  <thead>\n",
       "    <tr style=\"text-align: right;\">\n",
       "      <th></th>\n",
       "      <th>event_datetime</th>\n",
       "      <th>event</th>\n",
       "      <th>building_type</th>\n",
       "      <th>user_id</th>\n",
       "      <th>project_type</th>\n",
       "    </tr>\n",
       "  </thead>\n",
       "  <tbody>\n",
       "    <tr>\n",
       "      <th>0</th>\n",
       "      <td>2020-05-04 00:00:01</td>\n",
       "      <td>building</td>\n",
       "      <td>assembly_shop</td>\n",
       "      <td>55e92310-cb8e-4754-b622-597e124b03de</td>\n",
       "      <td>NaN</td>\n",
       "    </tr>\n",
       "    <tr>\n",
       "      <th>1</th>\n",
       "      <td>2020-05-04 00:00:03</td>\n",
       "      <td>building</td>\n",
       "      <td>assembly_shop</td>\n",
       "      <td>c07b1c10-f477-44dc-81dc-ec82254b1347</td>\n",
       "      <td>NaN</td>\n",
       "    </tr>\n",
       "    <tr>\n",
       "      <th>2</th>\n",
       "      <td>2020-05-04 00:00:16</td>\n",
       "      <td>building</td>\n",
       "      <td>assembly_shop</td>\n",
       "      <td>6edd42cc-e753-4ff6-a947-2107cd560710</td>\n",
       "      <td>NaN</td>\n",
       "    </tr>\n",
       "    <tr>\n",
       "      <th>3</th>\n",
       "      <td>2020-05-04 00:00:16</td>\n",
       "      <td>building</td>\n",
       "      <td>assembly_shop</td>\n",
       "      <td>92c69003-d60a-444a-827f-8cc51bf6bf4c</td>\n",
       "      <td>NaN</td>\n",
       "    </tr>\n",
       "    <tr>\n",
       "      <th>4</th>\n",
       "      <td>2020-05-04 00:00:35</td>\n",
       "      <td>building</td>\n",
       "      <td>assembly_shop</td>\n",
       "      <td>cdc6bb92-0ccb-4490-9866-ef142f09139d</td>\n",
       "      <td>NaN</td>\n",
       "    </tr>\n",
       "  </tbody>\n",
       "</table>\n",
       "</div>"
      ],
      "text/plain": [
       "       event_datetime     event  building_type  \\\n",
       "0 2020-05-04 00:00:01  building  assembly_shop   \n",
       "1 2020-05-04 00:00:03  building  assembly_shop   \n",
       "2 2020-05-04 00:00:16  building  assembly_shop   \n",
       "3 2020-05-04 00:00:16  building  assembly_shop   \n",
       "4 2020-05-04 00:00:35  building  assembly_shop   \n",
       "\n",
       "                                user_id project_type  \n",
       "0  55e92310-cb8e-4754-b622-597e124b03de          NaN  \n",
       "1  c07b1c10-f477-44dc-81dc-ec82254b1347          NaN  \n",
       "2  6edd42cc-e753-4ff6-a947-2107cd560710          NaN  \n",
       "3  92c69003-d60a-444a-827f-8cc51bf6bf4c          NaN  \n",
       "4  cdc6bb92-0ccb-4490-9866-ef142f09139d          NaN  "
      ]
     },
     "execution_count": 19,
     "metadata": {},
     "output_type": "execute_result"
    }
   ],
   "source": [
    "game_actions.head()"
   ]
  },
  {
   "cell_type": "code",
   "execution_count": 20,
   "id": "9d0b91e6",
   "metadata": {},
   "outputs": [
    {
     "data": {
      "text/plain": [
       "Timestamp('2020-05-04 00:00:01')"
      ]
     },
     "execution_count": 20,
     "metadata": {},
     "output_type": "execute_result"
    }
   ],
   "source": [
    "game_actions['event_datetime'].min()"
   ]
  },
  {
   "cell_type": "code",
   "execution_count": 21,
   "id": "4c1f24b7",
   "metadata": {},
   "outputs": [
    {
     "data": {
      "text/plain": [
       "Timestamp('2020-06-05 12:32:49')"
      ]
     },
     "execution_count": 21,
     "metadata": {},
     "output_type": "execute_result"
    }
   ],
   "source": [
    "game_actions['event_datetime'].max()"
   ]
  },
  {
   "cell_type": "markdown",
   "id": "bbcfae66",
   "metadata": {},
   "source": [
    "В базе данных на одного уникального пользователя может приходится несколько событий "
   ]
  },
  {
   "cell_type": "code",
   "execution_count": 22,
   "id": "ff3ddfbf",
   "metadata": {},
   "outputs": [
    {
     "data": {
      "text/plain": [
       "13576"
      ]
     },
     "execution_count": 22,
     "metadata": {},
     "output_type": "execute_result"
    }
   ],
   "source": [
    "game_actions['user_id'].nunique()"
   ]
  },
  {
   "cell_type": "code",
   "execution_count": 23,
   "id": "71d6eccf",
   "metadata": {},
   "outputs": [],
   "source": [
    "actions_source = game_actions.merge(user_source, on='user_id', how='left')"
   ]
  },
  {
   "cell_type": "markdown",
   "id": "f6385daf",
   "metadata": {},
   "source": [
    "Теперь мы знаем с какого рекламного канала пришел тот или иной пользователь "
   ]
  },
  {
   "cell_type": "code",
   "execution_count": 24,
   "id": "7d5f0e37",
   "metadata": {},
   "outputs": [
    {
     "data": {
      "text/plain": [
       "event_datetime         0\n",
       "event                  0\n",
       "building_type       7683\n",
       "user_id                0\n",
       "project_type      133773\n",
       "source                 0\n",
       "dtype: int64"
      ]
     },
     "execution_count": 24,
     "metadata": {},
     "output_type": "execute_result"
    }
   ],
   "source": [
    "actions_source.isna().sum() # Ничего не потеряли "
   ]
  },
  {
   "cell_type": "code",
   "execution_count": 25,
   "id": "5c48c971",
   "metadata": {},
   "outputs": [],
   "source": [
    "actions_source['day'] = actions_source['event_datetime'].dt.date\n",
    "actions_source['day'] = pd.to_datetime(actions_source['day'])"
   ]
  },
  {
   "cell_type": "code",
   "execution_count": 26,
   "id": "30884c2d",
   "metadata": {},
   "outputs": [
    {
     "data": {
      "text/plain": [
       "source\n",
       "facebook_ads               2726\n",
       "instagram_new_adverts      3347\n",
       "yandex_direct              4817\n",
       "youtube_channel_reklama    2686\n",
       "Name: user_id, dtype: int64"
      ]
     },
     "execution_count": 26,
     "metadata": {},
     "output_type": "execute_result"
    }
   ],
   "source": [
    "actions_source.groupby(['source'])['user_id'].nunique() #Число уникальных пользователей в разбивке по каналам за весь период "
   ]
  },
  {
   "cell_type": "markdown",
   "id": "b1718c15",
   "metadata": {},
   "source": [
    "Если считать, что первое действие пользователя следует сразу за привлечением , то проследить динамику привлечения пользователей по дням для разных каналов можно преобразовав данные следующим образом"
   ]
  },
  {
   "cell_type": "code",
   "execution_count": 27,
   "id": "2999e687",
   "metadata": {},
   "outputs": [],
   "source": [
    "user_source_cost = actions_source.groupby(['user_id','source'], as_index=False)['day'].min().merge(ad_costs, on=['day', 'source'], how='left')"
   ]
  },
  {
   "cell_type": "code",
   "execution_count": 28,
   "id": "dfe43957",
   "metadata": {},
   "outputs": [
    {
     "data": {
      "text/html": [
       "<div>\n",
       "<style scoped>\n",
       "    .dataframe tbody tr th:only-of-type {\n",
       "        vertical-align: middle;\n",
       "    }\n",
       "\n",
       "    .dataframe tbody tr th {\n",
       "        vertical-align: top;\n",
       "    }\n",
       "\n",
       "    .dataframe thead th {\n",
       "        text-align: right;\n",
       "    }\n",
       "</style>\n",
       "<table border=\"1\" class=\"dataframe\">\n",
       "  <thead>\n",
       "    <tr style=\"text-align: right;\">\n",
       "      <th></th>\n",
       "      <th>day</th>\n",
       "      <th>source</th>\n",
       "      <th>cost</th>\n",
       "      <th>user_id</th>\n",
       "    </tr>\n",
       "  </thead>\n",
       "  <tbody>\n",
       "    <tr>\n",
       "      <th>0</th>\n",
       "      <td>2020-05-04</td>\n",
       "      <td>facebook_ads</td>\n",
       "      <td>548.354480</td>\n",
       "      <td>1184</td>\n",
       "    </tr>\n",
       "    <tr>\n",
       "      <th>1</th>\n",
       "      <td>2020-05-04</td>\n",
       "      <td>instagram_new_adverts</td>\n",
       "      <td>502.925451</td>\n",
       "      <td>1452</td>\n",
       "    </tr>\n",
       "    <tr>\n",
       "      <th>2</th>\n",
       "      <td>2020-05-04</td>\n",
       "      <td>yandex_direct</td>\n",
       "      <td>554.651494</td>\n",
       "      <td>2078</td>\n",
       "    </tr>\n",
       "    <tr>\n",
       "      <th>3</th>\n",
       "      <td>2020-05-04</td>\n",
       "      <td>youtube_channel_reklama</td>\n",
       "      <td>259.073224</td>\n",
       "      <td>1146</td>\n",
       "    </tr>\n",
       "    <tr>\n",
       "      <th>4</th>\n",
       "      <td>2020-05-05</td>\n",
       "      <td>facebook_ads</td>\n",
       "      <td>260.185754</td>\n",
       "      <td>694</td>\n",
       "    </tr>\n",
       "    <tr>\n",
       "      <th>5</th>\n",
       "      <td>2020-05-05</td>\n",
       "      <td>instagram_new_adverts</td>\n",
       "      <td>313.970984</td>\n",
       "      <td>796</td>\n",
       "    </tr>\n",
       "    <tr>\n",
       "      <th>6</th>\n",
       "      <td>2020-05-05</td>\n",
       "      <td>yandex_direct</td>\n",
       "      <td>308.232990</td>\n",
       "      <td>1208</td>\n",
       "    </tr>\n",
       "    <tr>\n",
       "      <th>7</th>\n",
       "      <td>2020-05-05</td>\n",
       "      <td>youtube_channel_reklama</td>\n",
       "      <td>147.041741</td>\n",
       "      <td>663</td>\n",
       "    </tr>\n",
       "    <tr>\n",
       "      <th>8</th>\n",
       "      <td>2020-05-06</td>\n",
       "      <td>facebook_ads</td>\n",
       "      <td>177.982200</td>\n",
       "      <td>345</td>\n",
       "    </tr>\n",
       "    <tr>\n",
       "      <th>9</th>\n",
       "      <td>2020-05-06</td>\n",
       "      <td>instagram_new_adverts</td>\n",
       "      <td>173.071145</td>\n",
       "      <td>472</td>\n",
       "    </tr>\n",
       "    <tr>\n",
       "      <th>10</th>\n",
       "      <td>2020-05-06</td>\n",
       "      <td>yandex_direct</td>\n",
       "      <td>180.917099</td>\n",
       "      <td>664</td>\n",
       "    </tr>\n",
       "    <tr>\n",
       "      <th>11</th>\n",
       "      <td>2020-05-06</td>\n",
       "      <td>youtube_channel_reklama</td>\n",
       "      <td>88.506074</td>\n",
       "      <td>366</td>\n",
       "    </tr>\n",
       "    <tr>\n",
       "      <th>12</th>\n",
       "      <td>2020-05-07</td>\n",
       "      <td>facebook_ads</td>\n",
       "      <td>111.766796</td>\n",
       "      <td>224</td>\n",
       "    </tr>\n",
       "    <tr>\n",
       "      <th>13</th>\n",
       "      <td>2020-05-07</td>\n",
       "      <td>instagram_new_adverts</td>\n",
       "      <td>109.915254</td>\n",
       "      <td>270</td>\n",
       "    </tr>\n",
       "    <tr>\n",
       "      <th>14</th>\n",
       "      <td>2020-05-07</td>\n",
       "      <td>yandex_direct</td>\n",
       "      <td>114.429338</td>\n",
       "      <td>395</td>\n",
       "    </tr>\n",
       "    <tr>\n",
       "      <th>15</th>\n",
       "      <td>2020-05-07</td>\n",
       "      <td>youtube_channel_reklama</td>\n",
       "      <td>55.740645</td>\n",
       "      <td>220</td>\n",
       "    </tr>\n",
       "    <tr>\n",
       "      <th>16</th>\n",
       "      <td>2020-05-08</td>\n",
       "      <td>facebook_ads</td>\n",
       "      <td>68.009276</td>\n",
       "      <td>139</td>\n",
       "    </tr>\n",
       "    <tr>\n",
       "      <th>17</th>\n",
       "      <td>2020-05-08</td>\n",
       "      <td>instagram_new_adverts</td>\n",
       "      <td>71.578739</td>\n",
       "      <td>175</td>\n",
       "    </tr>\n",
       "    <tr>\n",
       "      <th>18</th>\n",
       "      <td>2020-05-08</td>\n",
       "      <td>yandex_direct</td>\n",
       "      <td>62.961630</td>\n",
       "      <td>239</td>\n",
       "    </tr>\n",
       "    <tr>\n",
       "      <th>19</th>\n",
       "      <td>2020-05-08</td>\n",
       "      <td>youtube_channel_reklama</td>\n",
       "      <td>40.217907</td>\n",
       "      <td>135</td>\n",
       "    </tr>\n",
       "    <tr>\n",
       "      <th>20</th>\n",
       "      <td>2020-05-09</td>\n",
       "      <td>facebook_ads</td>\n",
       "      <td>38.723350</td>\n",
       "      <td>84</td>\n",
       "    </tr>\n",
       "    <tr>\n",
       "      <th>21</th>\n",
       "      <td>2020-05-09</td>\n",
       "      <td>instagram_new_adverts</td>\n",
       "      <td>46.775400</td>\n",
       "      <td>112</td>\n",
       "    </tr>\n",
       "    <tr>\n",
       "      <th>22</th>\n",
       "      <td>2020-05-09</td>\n",
       "      <td>yandex_direct</td>\n",
       "      <td>42.779505</td>\n",
       "      <td>144</td>\n",
       "    </tr>\n",
       "    <tr>\n",
       "      <th>23</th>\n",
       "      <td>2020-05-09</td>\n",
       "      <td>youtube_channel_reklama</td>\n",
       "      <td>23.314669</td>\n",
       "      <td>100</td>\n",
       "    </tr>\n",
       "  </tbody>\n",
       "</table>\n",
       "</div>"
      ],
      "text/plain": [
       "          day                   source        cost  user_id\n",
       "0  2020-05-04             facebook_ads  548.354480     1184\n",
       "1  2020-05-04    instagram_new_adverts  502.925451     1452\n",
       "2  2020-05-04            yandex_direct  554.651494     2078\n",
       "3  2020-05-04  youtube_channel_reklama  259.073224     1146\n",
       "4  2020-05-05             facebook_ads  260.185754      694\n",
       "5  2020-05-05    instagram_new_adverts  313.970984      796\n",
       "6  2020-05-05            yandex_direct  308.232990     1208\n",
       "7  2020-05-05  youtube_channel_reklama  147.041741      663\n",
       "8  2020-05-06             facebook_ads  177.982200      345\n",
       "9  2020-05-06    instagram_new_adverts  173.071145      472\n",
       "10 2020-05-06            yandex_direct  180.917099      664\n",
       "11 2020-05-06  youtube_channel_reklama   88.506074      366\n",
       "12 2020-05-07             facebook_ads  111.766796      224\n",
       "13 2020-05-07    instagram_new_adverts  109.915254      270\n",
       "14 2020-05-07            yandex_direct  114.429338      395\n",
       "15 2020-05-07  youtube_channel_reklama   55.740645      220\n",
       "16 2020-05-08             facebook_ads   68.009276      139\n",
       "17 2020-05-08    instagram_new_adverts   71.578739      175\n",
       "18 2020-05-08            yandex_direct   62.961630      239\n",
       "19 2020-05-08  youtube_channel_reklama   40.217907      135\n",
       "20 2020-05-09             facebook_ads   38.723350       84\n",
       "21 2020-05-09    instagram_new_adverts   46.775400      112\n",
       "22 2020-05-09            yandex_direct   42.779505      144\n",
       "23 2020-05-09  youtube_channel_reklama   23.314669      100"
      ]
     },
     "execution_count": 28,
     "metadata": {},
     "output_type": "execute_result"
    }
   ],
   "source": [
    "user_source_cost.groupby(['day','source','cost'], as_index=False)['user_id'].nunique()"
   ]
  },
  {
   "cell_type": "markdown",
   "id": "f91a34d6",
   "metadata": {},
   "source": [
    "Думаю, что лучше оставить две таблицы для дальнейшего анализа:\n",
    "* actions_source с данными о действиях игроков и метками о каналах с которых они были привлечены. В дальнейшем эта таблица понадобится для проверки второй гипотезы об отличиях характера привлечения игроков с разными игровыми стратегиями  для разных каналов трафика. \n",
    "* user_source_cost поможет оценить затраты на привлечение "
   ]
  },
  {
   "cell_type": "markdown",
   "id": "481520fd",
   "metadata": {},
   "source": [
    "### Разбить пользователей на когорты по условным признакам(стратегия игрового поведения)"
   ]
  },
  {
   "cell_type": "markdown",
   "id": "b090e9e5",
   "metadata": {},
   "source": [
    "Пользовтелей игры можно разделить на две категории:\n",
    "* Исследователи. Это те, кто предпочел строительство и выполнение исследовательского проекта для прохождения первого уровня\n",
    "* Воители. Это те, кто прошел уровень, сразившись с первым врагом.\n",
    "* Также есть те пользователи, которые еще не прошли уровень"
   ]
  },
  {
   "cell_type": "code",
   "execution_count": 29,
   "id": "8883df39",
   "metadata": {},
   "outputs": [],
   "source": [
    "actions_source_by_events = actions_source.groupby('user_id', as_index=False)['event'].agg(['unique']).reset_index()"
   ]
  },
  {
   "cell_type": "code",
   "execution_count": 30,
   "id": "24123f45",
   "metadata": {},
   "outputs": [],
   "source": [
    "def row(df):\n",
    "    if 'building' in df['unique'] and 'project' in df['unique'] and 'finished_stage_1' in df['unique']:\n",
    "        return 'explorer'\n",
    "    if 'building' in df['unique'] and 'finished_stage_1' in df['unique']:\n",
    "        return 'warrior'\n",
    "    else:\n",
    "        return 'unfinished_stage_1'"
   ]
  },
  {
   "cell_type": "code",
   "execution_count": 31,
   "id": "ff62ddd4",
   "metadata": {},
   "outputs": [],
   "source": [
    "actions_source_by_events['game_strategy'] = actions_source_by_events.apply(row, axis=1)\n",
    "actions_source_by_events = actions_source_by_events.drop(['unique'], axis=1)"
   ]
  },
  {
   "cell_type": "code",
   "execution_count": 32,
   "id": "0a6b6f4b",
   "metadata": {},
   "outputs": [],
   "source": [
    "actions_source_strategy = actions_source.merge(actions_source_by_events, on='user_id', how='left')"
   ]
  },
  {
   "cell_type": "code",
   "execution_count": 33,
   "id": "d429ef3b",
   "metadata": {},
   "outputs": [
    {
     "data": {
      "text/plain": [
       "event_datetime         0\n",
       "event                  0\n",
       "building_type       7683\n",
       "user_id                0\n",
       "project_type      133773\n",
       "source                 0\n",
       "day                    0\n",
       "game_strategy          0\n",
       "dtype: int64"
      ]
     },
     "execution_count": 33,
     "metadata": {},
     "output_type": "execute_result"
    }
   ],
   "source": [
    "actions_source_strategy.isna().sum()"
   ]
  },
  {
   "cell_type": "markdown",
   "id": "d84a5647",
   "metadata": {},
   "source": [
    "Теперь мы знаем откуда пришли наши пользователи и какой игровой стратегии придерживались,а также завершили ли вообще уровень к моменту исследования "
   ]
  },
  {
   "cell_type": "markdown",
   "id": "0b50d295",
   "metadata": {},
   "source": [
    "<b>Вывод:</b>  На данном этапе была проведена предворительная работа над данными. Данные были приведены к нужным форматам, проверены на пропуски и дубликаты, а также декомпозированы для удобства дальнейшего анализа. В итоге было принято решение составить два базовых датасета."
   ]
  },
  {
   "cell_type": "markdown",
   "id": "926ce0d3",
   "metadata": {},
   "source": [
    "## EDA"
   ]
  },
  {
   "cell_type": "markdown",
   "id": "3f59caa6",
   "metadata": {},
   "source": [
    "### Оценить количество пользователей по источникам перехода"
   ]
  },
  {
   "cell_type": "code",
   "execution_count": 34,
   "id": "33b2a02e",
   "metadata": {},
   "outputs": [
    {
     "data": {
      "text/html": [
       "<div>\n",
       "<style scoped>\n",
       "    .dataframe tbody tr th:only-of-type {\n",
       "        vertical-align: middle;\n",
       "    }\n",
       "\n",
       "    .dataframe tbody tr th {\n",
       "        vertical-align: top;\n",
       "    }\n",
       "\n",
       "    .dataframe thead th {\n",
       "        text-align: right;\n",
       "    }\n",
       "</style>\n",
       "<table border=\"1\" class=\"dataframe\">\n",
       "  <thead>\n",
       "    <tr style=\"text-align: right;\">\n",
       "      <th></th>\n",
       "      <th>source</th>\n",
       "      <th>user_id</th>\n",
       "    </tr>\n",
       "  </thead>\n",
       "  <tbody>\n",
       "    <tr>\n",
       "      <th>0</th>\n",
       "      <td>facebook_ads</td>\n",
       "      <td>2726</td>\n",
       "    </tr>\n",
       "    <tr>\n",
       "      <th>1</th>\n",
       "      <td>instagram_new_adverts</td>\n",
       "      <td>3347</td>\n",
       "    </tr>\n",
       "    <tr>\n",
       "      <th>2</th>\n",
       "      <td>yandex_direct</td>\n",
       "      <td>4817</td>\n",
       "    </tr>\n",
       "    <tr>\n",
       "      <th>3</th>\n",
       "      <td>youtube_channel_reklama</td>\n",
       "      <td>2686</td>\n",
       "    </tr>\n",
       "  </tbody>\n",
       "</table>\n",
       "</div>"
      ],
      "text/plain": [
       "                    source  user_id\n",
       "0             facebook_ads     2726\n",
       "1    instagram_new_adverts     3347\n",
       "2            yandex_direct     4817\n",
       "3  youtube_channel_reklama     2686"
      ]
     },
     "execution_count": 34,
     "metadata": {},
     "output_type": "execute_result"
    }
   ],
   "source": [
    "actions_source_strategy.groupby('source', as_index=False)['user_id'].nunique()"
   ]
  },
  {
   "cell_type": "code",
   "execution_count": 35,
   "id": "62a9f6f6",
   "metadata": {},
   "outputs": [
    {
     "data": {
      "image/png": "[encoded data removed]",
      "text/plain": [
       "<Figure size 432x288 with 1 Axes>"
      ]
     },
     "metadata": {
      "needs_background": "light"
     },
     "output_type": "display_data"
    }
   ],
   "source": [
    "sns.barplot(x=actions_source_strategy.groupby('source', as_index=False)['user_id'].nunique()['source'], y=actions_source_strategy.groupby('source', as_index=False)['user_id'].nunique()['user_id'])\n",
    "plt.title('Количество пользователей в разбивке по каналам привлечения')\n",
    "plt.xticks(rotation=20)\n",
    "plt.ylabel('Количество уникальных пользователей')\n",
    "plt.xlabel('Источник перехода')\n",
    "plt.show()"
   ]
  },
  {
   "cell_type": "markdown",
   "id": "92f09e07",
   "metadata": {},
   "source": [
    "Больше всего пользователей пришло с Яндекс.Директ"
   ]
  },
  {
   "cell_type": "markdown",
   "id": "ed8c3876",
   "metadata": {},
   "source": [
    "### Оценить активность пользователей в зависимости от источника перехода "
   ]
  },
  {
   "cell_type": "code",
   "execution_count": 36,
   "id": "756152da",
   "metadata": {},
   "outputs": [
    {
     "data": {
      "text/html": [
       "<div>\n",
       "<style scoped>\n",
       "    .dataframe tbody tr th:only-of-type {\n",
       "        vertical-align: middle;\n",
       "    }\n",
       "\n",
       "    .dataframe tbody tr th {\n",
       "        vertical-align: top;\n",
       "    }\n",
       "\n",
       "    .dataframe thead th {\n",
       "        text-align: right;\n",
       "    }\n",
       "</style>\n",
       "<table border=\"1\" class=\"dataframe\">\n",
       "  <thead>\n",
       "    <tr style=\"text-align: right;\">\n",
       "      <th></th>\n",
       "      <th>source</th>\n",
       "      <th>event</th>\n",
       "    </tr>\n",
       "  </thead>\n",
       "  <tbody>\n",
       "    <tr>\n",
       "      <th>0</th>\n",
       "      <td>facebook_ads</td>\n",
       "      <td>27672</td>\n",
       "    </tr>\n",
       "    <tr>\n",
       "      <th>1</th>\n",
       "      <td>instagram_new_adverts</td>\n",
       "      <td>33757</td>\n",
       "    </tr>\n",
       "    <tr>\n",
       "      <th>2</th>\n",
       "      <td>yandex_direct</td>\n",
       "      <td>47694</td>\n",
       "    </tr>\n",
       "    <tr>\n",
       "      <th>3</th>\n",
       "      <td>youtube_channel_reklama</td>\n",
       "      <td>26516</td>\n",
       "    </tr>\n",
       "  </tbody>\n",
       "</table>\n",
       "</div>"
      ],
      "text/plain": [
       "                    source  event\n",
       "0             facebook_ads  27672\n",
       "1    instagram_new_adverts  33757\n",
       "2            yandex_direct  47694\n",
       "3  youtube_channel_reklama  26516"
      ]
     },
     "execution_count": 36,
     "metadata": {},
     "output_type": "execute_result"
    }
   ],
   "source": [
    "actions_source_strategy.groupby('source', as_index=False)['event'].count()"
   ]
  },
  {
   "cell_type": "code",
   "execution_count": 37,
   "id": "dd52a1df",
   "metadata": {},
   "outputs": [
    {
     "data": {
      "image/png": "[encoded data removed]",
      "text/plain": [
       "<Figure size 432x288 with 1 Axes>"
      ]
     },
     "metadata": {
      "needs_background": "light"
     },
     "output_type": "display_data"
    }
   ],
   "source": [
    "sns.barplot(x=actions_source_strategy.groupby('source', as_index=False)['event'].count()['source'], y=actions_source_strategy.groupby('source', as_index=False)['event'].count()['event'])\n",
    "plt.title('Количество событий по источникам перехода')\n",
    "plt.xticks(rotation=20)\n",
    "plt.ylabel('Количество событий')\n",
    "plt.xlabel('Источник перехода')\n",
    "plt.show()"
   ]
  },
  {
   "cell_type": "markdown",
   "id": "6ab7191a",
   "metadata": {},
   "source": [
    "График повторяет предыдущий, что логично. Чем больше пользователей,тем больше действий совершено в итоге."
   ]
  },
  {
   "cell_type": "code",
   "execution_count": 38,
   "id": "79869a38",
   "metadata": {},
   "outputs": [
    {
     "data": {
      "text/html": [
       "<div>\n",
       "<style scoped>\n",
       "    .dataframe tbody tr th:only-of-type {\n",
       "        vertical-align: middle;\n",
       "    }\n",
       "\n",
       "    .dataframe tbody tr th {\n",
       "        vertical-align: top;\n",
       "    }\n",
       "\n",
       "    .dataframe thead th {\n",
       "        text-align: right;\n",
       "    }\n",
       "</style>\n",
       "<table border=\"1\" class=\"dataframe\">\n",
       "  <thead>\n",
       "    <tr style=\"text-align: right;\">\n",
       "      <th></th>\n",
       "      <th>source</th>\n",
       "      <th>event</th>\n",
       "    </tr>\n",
       "  </thead>\n",
       "  <tbody>\n",
       "    <tr>\n",
       "      <th>0</th>\n",
       "      <td>facebook_ads</td>\n",
       "      <td>27672</td>\n",
       "    </tr>\n",
       "    <tr>\n",
       "      <th>1</th>\n",
       "      <td>instagram_new_adverts</td>\n",
       "      <td>33757</td>\n",
       "    </tr>\n",
       "    <tr>\n",
       "      <th>2</th>\n",
       "      <td>yandex_direct</td>\n",
       "      <td>47694</td>\n",
       "    </tr>\n",
       "    <tr>\n",
       "      <th>3</th>\n",
       "      <td>youtube_channel_reklama</td>\n",
       "      <td>26516</td>\n",
       "    </tr>\n",
       "  </tbody>\n",
       "</table>\n",
       "</div>"
      ],
      "text/plain": [
       "                    source  event\n",
       "0             facebook_ads  27672\n",
       "1    instagram_new_adverts  33757\n",
       "2            yandex_direct  47694\n",
       "3  youtube_channel_reklama  26516"
      ]
     },
     "execution_count": 38,
     "metadata": {},
     "output_type": "execute_result"
    }
   ],
   "source": [
    "actions_source_strategy.groupby('source', as_index=False)['event'].count()"
   ]
  },
  {
   "cell_type": "markdown",
   "id": "145a41d8",
   "metadata": {},
   "source": [
    "Можно оценить сколько в среднем событий приходится на одного пользователя"
   ]
  },
  {
   "cell_type": "code",
   "execution_count": 39,
   "id": "6d76a428",
   "metadata": {},
   "outputs": [
    {
     "data": {
      "text/html": [
       "<div>\n",
       "<style scoped>\n",
       "    .dataframe tbody tr th:only-of-type {\n",
       "        vertical-align: middle;\n",
       "    }\n",
       "\n",
       "    .dataframe tbody tr th {\n",
       "        vertical-align: top;\n",
       "    }\n",
       "\n",
       "    .dataframe thead th {\n",
       "        text-align: right;\n",
       "    }\n",
       "</style>\n",
       "<table border=\"1\" class=\"dataframe\">\n",
       "  <thead>\n",
       "    <tr style=\"text-align: right;\">\n",
       "      <th></th>\n",
       "      <th>source</th>\n",
       "      <th>user_id</th>\n",
       "      <th>event</th>\n",
       "      <th>event_on_user</th>\n",
       "    </tr>\n",
       "  </thead>\n",
       "  <tbody>\n",
       "    <tr>\n",
       "      <th>0</th>\n",
       "      <td>facebook_ads</td>\n",
       "      <td>2726</td>\n",
       "      <td>27672</td>\n",
       "      <td>10.15</td>\n",
       "    </tr>\n",
       "    <tr>\n",
       "      <th>1</th>\n",
       "      <td>instagram_new_adverts</td>\n",
       "      <td>3347</td>\n",
       "      <td>33757</td>\n",
       "      <td>10.09</td>\n",
       "    </tr>\n",
       "    <tr>\n",
       "      <th>2</th>\n",
       "      <td>yandex_direct</td>\n",
       "      <td>4817</td>\n",
       "      <td>47694</td>\n",
       "      <td>9.90</td>\n",
       "    </tr>\n",
       "    <tr>\n",
       "      <th>3</th>\n",
       "      <td>youtube_channel_reklama</td>\n",
       "      <td>2686</td>\n",
       "      <td>26516</td>\n",
       "      <td>9.87</td>\n",
       "    </tr>\n",
       "  </tbody>\n",
       "</table>\n",
       "</div>"
      ],
      "text/plain": [
       "                    source  user_id  event  event_on_user\n",
       "0             facebook_ads     2726  27672          10.15\n",
       "1    instagram_new_adverts     3347  33757          10.09\n",
       "2            yandex_direct     4817  47694           9.90\n",
       "3  youtube_channel_reklama     2686  26516           9.87"
      ]
     },
     "execution_count": 39,
     "metadata": {},
     "output_type": "execute_result"
    }
   ],
   "source": [
    "event_on_user = (actions_source_strategy.groupby('source', as_index=False)['user_id'].nunique().merge\n",
    "(actions_source_strategy.groupby('source', as_index=False)['event'].count(), on='source', how='left'))\n",
    "event_on_user['event_on_user'] = (event_on_user['event'] / event_on_user['user_id']).round(2)\n",
    "event_on_user"
   ]
  },
  {
   "cell_type": "markdown",
   "id": "55ad7108",
   "metadata": {},
   "source": [
    "В среднем пользователи совершают примерно одинаковое количество действий, несмотря на то,что выборки разные по количеству пользователей"
   ]
  },
  {
   "cell_type": "markdown",
   "id": "6179e12a",
   "metadata": {},
   "source": [
    "Можно оценить как отличаются уровни вовлеченности пользователей в игру в зависимости от источника перехода. Для этого можно сравнить доли прошедших уровень до конца в разбивке по каналам привлечения."
   ]
  },
  {
   "cell_type": "code",
   "execution_count": 40,
   "id": "3e55ece7",
   "metadata": {},
   "outputs": [],
   "source": [
    "users_finished_stage_1 = actions_source_strategy.query('game_strategy != \"unfinished_stage_1\"')"
   ]
  },
  {
   "cell_type": "code",
   "execution_count": 41,
   "id": "af625056",
   "metadata": {},
   "outputs": [
    {
     "data": {
      "text/html": [
       "<div>\n",
       "<style scoped>\n",
       "    .dataframe tbody tr th:only-of-type {\n",
       "        vertical-align: middle;\n",
       "    }\n",
       "\n",
       "    .dataframe tbody tr th {\n",
       "        vertical-align: top;\n",
       "    }\n",
       "\n",
       "    .dataframe thead th {\n",
       "        text-align: right;\n",
       "    }\n",
       "</style>\n",
       "<table border=\"1\" class=\"dataframe\">\n",
       "  <thead>\n",
       "    <tr style=\"text-align: right;\">\n",
       "      <th></th>\n",
       "      <th>source</th>\n",
       "      <th>users_finished_stage</th>\n",
       "      <th>users_total</th>\n",
       "      <th>share_of_total</th>\n",
       "    </tr>\n",
       "  </thead>\n",
       "  <tbody>\n",
       "    <tr>\n",
       "      <th>0</th>\n",
       "      <td>facebook_ads</td>\n",
       "      <td>1150</td>\n",
       "      <td>2726</td>\n",
       "      <td>0.42</td>\n",
       "    </tr>\n",
       "    <tr>\n",
       "      <th>1</th>\n",
       "      <td>instagram_new_adverts</td>\n",
       "      <td>1466</td>\n",
       "      <td>3347</td>\n",
       "      <td>0.44</td>\n",
       "    </tr>\n",
       "    <tr>\n",
       "      <th>2</th>\n",
       "      <td>yandex_direct</td>\n",
       "      <td>2042</td>\n",
       "      <td>4817</td>\n",
       "      <td>0.42</td>\n",
       "    </tr>\n",
       "    <tr>\n",
       "      <th>3</th>\n",
       "      <td>youtube_channel_reklama</td>\n",
       "      <td>1159</td>\n",
       "      <td>2686</td>\n",
       "      <td>0.43</td>\n",
       "    </tr>\n",
       "  </tbody>\n",
       "</table>\n",
       "</div>"
      ],
      "text/plain": [
       "                    source  users_finished_stage  users_total  share_of_total\n",
       "0             facebook_ads                  1150         2726            0.42\n",
       "1    instagram_new_adverts                  1466         3347            0.44\n",
       "2            yandex_direct                  2042         4817            0.42\n",
       "3  youtube_channel_reklama                  1159         2686            0.43"
      ]
     },
     "execution_count": 41,
     "metadata": {},
     "output_type": "execute_result"
    }
   ],
   "source": [
    "share_finished_stage_1 = (users_finished_stage_1.groupby('source', as_index=False)['user_id'].nunique().merge\n",
    " (actions_source_strategy.groupby('source', as_index=False)['user_id'].nunique(), on='source', how='outer'))\n",
    "share_finished_stage_1.columns = ['source', 'users_finished_stage', 'users_total']\n",
    "share_finished_stage_1['share_of_total'] = (share_finished_stage_1['users_finished_stage'] / share_finished_stage_1['users_total']).round(2)\n",
    "share_finished_stage_1"
   ]
  },
  {
   "cell_type": "markdown",
   "id": "ef93ea1d",
   "metadata": {},
   "source": [
    "Можно заметить, что процент пользователей прошедших уровень примерно одинаков для всех каналов привлечения. Немного опережают по показателю только пользователи, привлеченные через канал instagram_new_adverts \t"
   ]
  },
  {
   "cell_type": "markdown",
   "id": "3203cca9",
   "metadata": {},
   "source": [
    "Эти средние значения логичным образом близки  среднему общему"
   ]
  },
  {
   "cell_type": "code",
   "execution_count": 42,
   "id": "59fe39e5",
   "metadata": {},
   "outputs": [
    {
     "name": "stdout",
     "output_type": "stream",
     "text": [
      "Доля прошедших уровень пользователей: 0.43\n"
     ]
    }
   ],
   "source": [
    "print('Доля прошедших уровень пользователей:', round(users_finished_stage_1['user_id'].nunique() / actions_source['user_id'].nunique(), 2))"
   ]
  },
  {
   "cell_type": "code",
   "execution_count": 43,
   "id": "aaecb8ee",
   "metadata": {},
   "outputs": [
    {
     "name": "stderr",
     "output_type": "stream",
     "text": [
      "C:\\Users\\Vittorio\\AppData\\Local\\Temp/ipykernel_10808/3955615276.py:1: FutureWarning: Dropping of nuisance columns in DataFrame reductions (with 'numeric_only=None') is deprecated; in a future version this will raise TypeError.  Select only valid columns before calling the reduction.\n",
      "  actions_source_strategy.groupby('user_id', as_index=False)['event'].nunique().mean() # В среднем пользователи совершали полтора уникальных действия\n"
     ]
    },
    {
     "data": {
      "text/plain": [
       "event    1.565925\n",
       "dtype: float64"
      ]
     },
     "execution_count": 43,
     "metadata": {},
     "output_type": "execute_result"
    }
   ],
   "source": [
    "actions_source_strategy.groupby('user_id', as_index=False)['event'].nunique().mean() # В среднем пользователи совершали полтора уникальных действия"
   ]
  },
  {
   "cell_type": "markdown",
   "id": "04fc3377",
   "metadata": {},
   "source": [
    "### Оценить соотношение пользователей в зависимости от игрового поведения"
   ]
  },
  {
   "cell_type": "code",
   "execution_count": 44,
   "id": "560ba1d5",
   "metadata": {},
   "outputs": [
    {
     "data": {
      "text/html": [
       "<div>\n",
       "<style scoped>\n",
       "    .dataframe tbody tr th:only-of-type {\n",
       "        vertical-align: middle;\n",
       "    }\n",
       "\n",
       "    .dataframe tbody tr th {\n",
       "        vertical-align: top;\n",
       "    }\n",
       "\n",
       "    .dataframe thead th {\n",
       "        text-align: right;\n",
       "    }\n",
       "</style>\n",
       "<table border=\"1\" class=\"dataframe\">\n",
       "  <thead>\n",
       "    <tr style=\"text-align: right;\">\n",
       "      <th></th>\n",
       "      <th>game_strategy</th>\n",
       "      <th>user_id</th>\n",
       "    </tr>\n",
       "  </thead>\n",
       "  <tbody>\n",
       "    <tr>\n",
       "      <th>0</th>\n",
       "      <td>explorer</td>\n",
       "      <td>1866</td>\n",
       "    </tr>\n",
       "    <tr>\n",
       "      <th>1</th>\n",
       "      <td>unfinished_stage_1</td>\n",
       "      <td>7759</td>\n",
       "    </tr>\n",
       "    <tr>\n",
       "      <th>2</th>\n",
       "      <td>warrior</td>\n",
       "      <td>3951</td>\n",
       "    </tr>\n",
       "  </tbody>\n",
       "</table>\n",
       "</div>"
      ],
      "text/plain": [
       "        game_strategy  user_id\n",
       "0            explorer     1866\n",
       "1  unfinished_stage_1     7759\n",
       "2             warrior     3951"
      ]
     },
     "execution_count": 44,
     "metadata": {},
     "output_type": "execute_result"
    }
   ],
   "source": [
    "actions_source_strategy.groupby('game_strategy', as_index=False)['user_id'].nunique()"
   ]
  },
  {
   "cell_type": "code",
   "execution_count": 45,
   "id": "0b6f23a7",
   "metadata": {},
   "outputs": [
    {
     "data": {
      "image/png": "[encoded data removed]",
      "text/plain": [
       "<Figure size 720x720 with 1 Axes>"
      ]
     },
     "metadata": {},
     "output_type": "display_data"
    }
   ],
   "source": [
    "plt.figure(figsize=(10,10))\n",
    "plt.pie(actions_source_strategy.groupby('game_strategy', as_index=False)['user_id'].nunique()['user_id'], labels=actions_source_strategy.groupby('game_strategy', as_index=False)['user_id'].nunique()['game_strategy'], autopct='%.0f%%')\n",
    "plt.show()"
   ]
  },
  {
   "cell_type": "markdown",
   "id": "646c7231",
   "metadata": {},
   "source": [
    "Как можно увидеть среди 43% пользователей прошедших уровень, 29% оказались воинами по стратегии прохождения, а 14% исследователями. Похоже динамичность привлекает пользователей больше"
   ]
  },
  {
   "cell_type": "markdown",
   "id": "9105379e",
   "metadata": {},
   "source": [
    "### Оценить для каких типов игрового поведения какие источники перехода характерны"
   ]
  },
  {
   "cell_type": "code",
   "execution_count": 46,
   "id": "f8e5c0ca",
   "metadata": {},
   "outputs": [
    {
     "data": {
      "text/html": [
       "<div>\n",
       "<style scoped>\n",
       "    .dataframe tbody tr th:only-of-type {\n",
       "        vertical-align: middle;\n",
       "    }\n",
       "\n",
       "    .dataframe tbody tr th {\n",
       "        vertical-align: top;\n",
       "    }\n",
       "\n",
       "    .dataframe thead th {\n",
       "        text-align: right;\n",
       "    }\n",
       "</style>\n",
       "<table border=\"1\" class=\"dataframe\">\n",
       "  <thead>\n",
       "    <tr style=\"text-align: right;\">\n",
       "      <th></th>\n",
       "      <th>event_datetime</th>\n",
       "      <th>event</th>\n",
       "      <th>building_type</th>\n",
       "      <th>user_id</th>\n",
       "      <th>project_type</th>\n",
       "      <th>source</th>\n",
       "      <th>day</th>\n",
       "      <th>game_strategy</th>\n",
       "    </tr>\n",
       "  </thead>\n",
       "  <tbody>\n",
       "    <tr>\n",
       "      <th>0</th>\n",
       "      <td>2020-05-04 00:00:01</td>\n",
       "      <td>building</td>\n",
       "      <td>assembly_shop</td>\n",
       "      <td>55e92310-cb8e-4754-b622-597e124b03de</td>\n",
       "      <td>NaN</td>\n",
       "      <td>youtube_channel_reklama</td>\n",
       "      <td>2020-05-04</td>\n",
       "      <td>unfinished_stage_1</td>\n",
       "    </tr>\n",
       "    <tr>\n",
       "      <th>1</th>\n",
       "      <td>2020-05-04 00:00:03</td>\n",
       "      <td>building</td>\n",
       "      <td>assembly_shop</td>\n",
       "      <td>c07b1c10-f477-44dc-81dc-ec82254b1347</td>\n",
       "      <td>NaN</td>\n",
       "      <td>facebook_ads</td>\n",
       "      <td>2020-05-04</td>\n",
       "      <td>explorer</td>\n",
       "    </tr>\n",
       "    <tr>\n",
       "      <th>2</th>\n",
       "      <td>2020-05-04 00:00:16</td>\n",
       "      <td>building</td>\n",
       "      <td>assembly_shop</td>\n",
       "      <td>6edd42cc-e753-4ff6-a947-2107cd560710</td>\n",
       "      <td>NaN</td>\n",
       "      <td>instagram_new_adverts</td>\n",
       "      <td>2020-05-04</td>\n",
       "      <td>warrior</td>\n",
       "    </tr>\n",
       "    <tr>\n",
       "      <th>3</th>\n",
       "      <td>2020-05-04 00:00:16</td>\n",
       "      <td>building</td>\n",
       "      <td>assembly_shop</td>\n",
       "      <td>92c69003-d60a-444a-827f-8cc51bf6bf4c</td>\n",
       "      <td>NaN</td>\n",
       "      <td>facebook_ads</td>\n",
       "      <td>2020-05-04</td>\n",
       "      <td>unfinished_stage_1</td>\n",
       "    </tr>\n",
       "    <tr>\n",
       "      <th>4</th>\n",
       "      <td>2020-05-04 00:00:35</td>\n",
       "      <td>building</td>\n",
       "      <td>assembly_shop</td>\n",
       "      <td>cdc6bb92-0ccb-4490-9866-ef142f09139d</td>\n",
       "      <td>NaN</td>\n",
       "      <td>yandex_direct</td>\n",
       "      <td>2020-05-04</td>\n",
       "      <td>warrior</td>\n",
       "    </tr>\n",
       "  </tbody>\n",
       "</table>\n",
       "</div>"
      ],
      "text/plain": [
       "       event_datetime     event  building_type  \\\n",
       "0 2020-05-04 00:00:01  building  assembly_shop   \n",
       "1 2020-05-04 00:00:03  building  assembly_shop   \n",
       "2 2020-05-04 00:00:16  building  assembly_shop   \n",
       "3 2020-05-04 00:00:16  building  assembly_shop   \n",
       "4 2020-05-04 00:00:35  building  assembly_shop   \n",
       "\n",
       "                                user_id project_type                   source  \\\n",
       "0  55e92310-cb8e-4754-b622-597e124b03de          NaN  youtube_channel_reklama   \n",
       "1  c07b1c10-f477-44dc-81dc-ec82254b1347          NaN             facebook_ads   \n",
       "2  6edd42cc-e753-4ff6-a947-2107cd560710          NaN    instagram_new_adverts   \n",
       "3  92c69003-d60a-444a-827f-8cc51bf6bf4c          NaN             facebook_ads   \n",
       "4  cdc6bb92-0ccb-4490-9866-ef142f09139d          NaN            yandex_direct   \n",
       "\n",
       "         day       game_strategy  \n",
       "0 2020-05-04  unfinished_stage_1  \n",
       "1 2020-05-04            explorer  \n",
       "2 2020-05-04             warrior  \n",
       "3 2020-05-04  unfinished_stage_1  \n",
       "4 2020-05-04             warrior  "
      ]
     },
     "execution_count": 46,
     "metadata": {},
     "output_type": "execute_result"
    }
   ],
   "source": [
    "actions_source_strategy.head()"
   ]
  },
  {
   "cell_type": "code",
   "execution_count": 47,
   "id": "3e6c2696",
   "metadata": {},
   "outputs": [
    {
     "data": {
      "text/html": [
       "<div>\n",
       "<style scoped>\n",
       "    .dataframe tbody tr th:only-of-type {\n",
       "        vertical-align: middle;\n",
       "    }\n",
       "\n",
       "    .dataframe tbody tr th {\n",
       "        vertical-align: top;\n",
       "    }\n",
       "\n",
       "    .dataframe thead th {\n",
       "        text-align: right;\n",
       "    }\n",
       "</style>\n",
       "<table border=\"1\" class=\"dataframe\">\n",
       "  <thead>\n",
       "    <tr style=\"text-align: right;\">\n",
       "      <th></th>\n",
       "      <th>game_strategy</th>\n",
       "      <th>source</th>\n",
       "      <th>users_by_channel</th>\n",
       "      <th>users_total</th>\n",
       "      <th>share_of_total</th>\n",
       "    </tr>\n",
       "  </thead>\n",
       "  <tbody>\n",
       "    <tr>\n",
       "      <th>0</th>\n",
       "      <td>explorer</td>\n",
       "      <td>facebook_ads</td>\n",
       "      <td>391</td>\n",
       "      <td>1866</td>\n",
       "      <td>0.21</td>\n",
       "    </tr>\n",
       "    <tr>\n",
       "      <th>1</th>\n",
       "      <td>explorer</td>\n",
       "      <td>instagram_new_adverts</td>\n",
       "      <td>476</td>\n",
       "      <td>1866</td>\n",
       "      <td>0.26</td>\n",
       "    </tr>\n",
       "    <tr>\n",
       "      <th>2</th>\n",
       "      <td>explorer</td>\n",
       "      <td>yandex_direct</td>\n",
       "      <td>620</td>\n",
       "      <td>1866</td>\n",
       "      <td>0.33</td>\n",
       "    </tr>\n",
       "    <tr>\n",
       "      <th>3</th>\n",
       "      <td>explorer</td>\n",
       "      <td>youtube_channel_reklama</td>\n",
       "      <td>379</td>\n",
       "      <td>1866</td>\n",
       "      <td>0.20</td>\n",
       "    </tr>\n",
       "    <tr>\n",
       "      <th>4</th>\n",
       "      <td>unfinished_stage_1</td>\n",
       "      <td>facebook_ads</td>\n",
       "      <td>1576</td>\n",
       "      <td>7759</td>\n",
       "      <td>0.20</td>\n",
       "    </tr>\n",
       "    <tr>\n",
       "      <th>5</th>\n",
       "      <td>unfinished_stage_1</td>\n",
       "      <td>instagram_new_adverts</td>\n",
       "      <td>1881</td>\n",
       "      <td>7759</td>\n",
       "      <td>0.24</td>\n",
       "    </tr>\n",
       "    <tr>\n",
       "      <th>6</th>\n",
       "      <td>unfinished_stage_1</td>\n",
       "      <td>yandex_direct</td>\n",
       "      <td>2775</td>\n",
       "      <td>7759</td>\n",
       "      <td>0.36</td>\n",
       "    </tr>\n",
       "    <tr>\n",
       "      <th>7</th>\n",
       "      <td>unfinished_stage_1</td>\n",
       "      <td>youtube_channel_reklama</td>\n",
       "      <td>1527</td>\n",
       "      <td>7759</td>\n",
       "      <td>0.20</td>\n",
       "    </tr>\n",
       "    <tr>\n",
       "      <th>8</th>\n",
       "      <td>warrior</td>\n",
       "      <td>facebook_ads</td>\n",
       "      <td>759</td>\n",
       "      <td>3951</td>\n",
       "      <td>0.19</td>\n",
       "    </tr>\n",
       "    <tr>\n",
       "      <th>9</th>\n",
       "      <td>warrior</td>\n",
       "      <td>instagram_new_adverts</td>\n",
       "      <td>990</td>\n",
       "      <td>3951</td>\n",
       "      <td>0.25</td>\n",
       "    </tr>\n",
       "    <tr>\n",
       "      <th>10</th>\n",
       "      <td>warrior</td>\n",
       "      <td>yandex_direct</td>\n",
       "      <td>1422</td>\n",
       "      <td>3951</td>\n",
       "      <td>0.36</td>\n",
       "    </tr>\n",
       "    <tr>\n",
       "      <th>11</th>\n",
       "      <td>warrior</td>\n",
       "      <td>youtube_channel_reklama</td>\n",
       "      <td>780</td>\n",
       "      <td>3951</td>\n",
       "      <td>0.20</td>\n",
       "    </tr>\n",
       "  </tbody>\n",
       "</table>\n",
       "</div>"
      ],
      "text/plain": [
       "         game_strategy                   source  users_by_channel  \\\n",
       "0             explorer             facebook_ads               391   \n",
       "1             explorer    instagram_new_adverts               476   \n",
       "2             explorer            yandex_direct               620   \n",
       "3             explorer  youtube_channel_reklama               379   \n",
       "4   unfinished_stage_1             facebook_ads              1576   \n",
       "5   unfinished_stage_1    instagram_new_adverts              1881   \n",
       "6   unfinished_stage_1            yandex_direct              2775   \n",
       "7   unfinished_stage_1  youtube_channel_reklama              1527   \n",
       "8              warrior             facebook_ads               759   \n",
       "9              warrior    instagram_new_adverts               990   \n",
       "10             warrior            yandex_direct              1422   \n",
       "11             warrior  youtube_channel_reklama               780   \n",
       "\n",
       "    users_total  share_of_total  \n",
       "0          1866            0.21  \n",
       "1          1866            0.26  \n",
       "2          1866            0.33  \n",
       "3          1866            0.20  \n",
       "4          7759            0.20  \n",
       "5          7759            0.24  \n",
       "6          7759            0.36  \n",
       "7          7759            0.20  \n",
       "8          3951            0.19  \n",
       "9          3951            0.25  \n",
       "10         3951            0.36  \n",
       "11         3951            0.20  "
      ]
     },
     "execution_count": 47,
     "metadata": {},
     "output_type": "execute_result"
    }
   ],
   "source": [
    "share_by_strategy = actions_source_strategy.groupby(['game_strategy','source'], as_index=False)['user_id'].nunique().merge(actions_source_strategy.groupby(['game_strategy'], as_index=False)['user_id'].nunique(), on='game_strategy', how='left')\n",
    "share_by_strategy.columns = ['game_strategy','source','users_by_channel','users_total'] \n",
    "share_by_strategy['share_of_total'] = (share_by_strategy['users_by_channel'] / share_by_strategy['users_total']).round(2)\n",
    "share_by_strategy"
   ]
  },
  {
   "cell_type": "code",
   "execution_count": 48,
   "id": "d4dd7562",
   "metadata": {},
   "outputs": [
    {
     "data": {
      "image/png": "[encoded data removed]",
      "text/plain": [
       "<Figure size 720x720 with 1 Axes>"
      ]
     },
     "metadata": {
      "needs_background": "light"
     },
     "output_type": "display_data"
    }
   ],
   "source": [
    "plt.figure(figsize=(10,10))\n",
    "sns.barplot(x='game_strategy', y='share_of_total', hue='source', data=share_by_strategy)\n",
    "plt.show()"
   ]
  },
  {
   "cell_type": "code",
   "execution_count": 49,
   "id": "559b557c",
   "metadata": {},
   "outputs": [],
   "source": [
    "dist_source = share_by_strategy.query('game_strategy == \"explorer\"').drop('game_strategy', axis=1).merge(share_by_strategy.query('game_strategy == \"warrior\"').drop('game_strategy', axis=1), on='source')"
   ]
  },
  {
   "cell_type": "code",
   "execution_count": 50,
   "id": "4d0c813a",
   "metadata": {},
   "outputs": [
    {
     "data": {
      "text/html": [
       "<div>\n",
       "<style scoped>\n",
       "    .dataframe tbody tr th:only-of-type {\n",
       "        vertical-align: middle;\n",
       "    }\n",
       "\n",
       "    .dataframe tbody tr th {\n",
       "        vertical-align: top;\n",
       "    }\n",
       "\n",
       "    .dataframe thead th {\n",
       "        text-align: right;\n",
       "    }\n",
       "</style>\n",
       "<table border=\"1\" class=\"dataframe\">\n",
       "  <thead>\n",
       "    <tr style=\"text-align: right;\">\n",
       "      <th></th>\n",
       "      <th>source</th>\n",
       "      <th>explorer</th>\n",
       "      <th>explorer_total</th>\n",
       "      <th>share_channel_exp</th>\n",
       "      <th>warrior</th>\n",
       "      <th>warrior_total</th>\n",
       "      <th>share_channel_war</th>\n",
       "      <th>explorer_to_warrior</th>\n",
       "      <th>warrior_plus_explorer_total</th>\n",
       "      <th>percent_exp</th>\n",
       "      <th>percent_war</th>\n",
       "    </tr>\n",
       "  </thead>\n",
       "  <tbody>\n",
       "    <tr>\n",
       "      <th>0</th>\n",
       "      <td>facebook_ads</td>\n",
       "      <td>391</td>\n",
       "      <td>1866</td>\n",
       "      <td>0.21</td>\n",
       "      <td>759</td>\n",
       "      <td>3951</td>\n",
       "      <td>0.19</td>\n",
       "      <td>0.515152</td>\n",
       "      <td>5817</td>\n",
       "      <td>0.067217</td>\n",
       "      <td>0.130480</td>\n",
       "    </tr>\n",
       "    <tr>\n",
       "      <th>1</th>\n",
       "      <td>instagram_new_adverts</td>\n",
       "      <td>476</td>\n",
       "      <td>1866</td>\n",
       "      <td>0.26</td>\n",
       "      <td>990</td>\n",
       "      <td>3951</td>\n",
       "      <td>0.25</td>\n",
       "      <td>0.480808</td>\n",
       "      <td>5817</td>\n",
       "      <td>0.081829</td>\n",
       "      <td>0.170191</td>\n",
       "    </tr>\n",
       "    <tr>\n",
       "      <th>2</th>\n",
       "      <td>yandex_direct</td>\n",
       "      <td>620</td>\n",
       "      <td>1866</td>\n",
       "      <td>0.33</td>\n",
       "      <td>1422</td>\n",
       "      <td>3951</td>\n",
       "      <td>0.36</td>\n",
       "      <td>0.436006</td>\n",
       "      <td>5817</td>\n",
       "      <td>0.106584</td>\n",
       "      <td>0.244456</td>\n",
       "    </tr>\n",
       "    <tr>\n",
       "      <th>3</th>\n",
       "      <td>youtube_channel_reklama</td>\n",
       "      <td>379</td>\n",
       "      <td>1866</td>\n",
       "      <td>0.20</td>\n",
       "      <td>780</td>\n",
       "      <td>3951</td>\n",
       "      <td>0.20</td>\n",
       "      <td>0.485897</td>\n",
       "      <td>5817</td>\n",
       "      <td>0.065154</td>\n",
       "      <td>0.134090</td>\n",
       "    </tr>\n",
       "  </tbody>\n",
       "</table>\n",
       "</div>"
      ],
      "text/plain": [
       "                    source  explorer  explorer_total  share_channel_exp  \\\n",
       "0             facebook_ads       391            1866               0.21   \n",
       "1    instagram_new_adverts       476            1866               0.26   \n",
       "2            yandex_direct       620            1866               0.33   \n",
       "3  youtube_channel_reklama       379            1866               0.20   \n",
       "\n",
       "   warrior  warrior_total  share_channel_war  explorer_to_warrior  \\\n",
       "0      759           3951               0.19             0.515152   \n",
       "1      990           3951               0.25             0.480808   \n",
       "2     1422           3951               0.36             0.436006   \n",
       "3      780           3951               0.20             0.485897   \n",
       "\n",
       "   warrior_plus_explorer_total  percent_exp  percent_war  \n",
       "0                         5817     0.067217     0.130480  \n",
       "1                         5817     0.081829     0.170191  \n",
       "2                         5817     0.106584     0.244456  \n",
       "3                         5817     0.065154     0.134090  "
      ]
     },
     "execution_count": 50,
     "metadata": {},
     "output_type": "execute_result"
    }
   ],
   "source": [
    "dist_source.columns = ['source','explorer', 'explorer_total', 'share_channel_exp', 'warrior', 'warrior_total','share_channel_war']\n",
    "dist_source['explorer_to_warrior'] = dist_source['explorer'] / dist_source['warrior']\n",
    "dist_source['warrior_plus_explorer_total'] = dist_source['explorer_total']+dist_source['warrior_total']\n",
    "dist_source['percent_exp'] = dist_source['explorer'] / dist_source['warrior_plus_explorer_total']\n",
    "dist_source['percent_war'] = dist_source['warrior'] / dist_source['warrior_plus_explorer_total']\n",
    "dist_source"
   ]
  },
  {
   "cell_type": "markdown",
   "id": "7d9aa04f",
   "metadata": {},
   "source": [
    "Воителей привлекается больше на всех каналах. Как правило характерное соотношение исследователей к воителям примерно 1/2. Для yandex_direct присутствует небольшой перевес в сторону воителей. Т.е. пропорционально для этого канала характерно привлекать чуть больше воителей,чем для остальных каналов. Но речь лишь о единицах процентов."
   ]
  },
  {
   "cell_type": "markdown",
   "id": "f97afdb7",
   "metadata": {},
   "source": [
    "### Оценить затраты на привелечение пользователей"
   ]
  },
  {
   "cell_type": "code",
   "execution_count": 51,
   "id": "482d052a",
   "metadata": {},
   "outputs": [
    {
     "data": {
      "text/html": [
       "<div>\n",
       "<style scoped>\n",
       "    .dataframe tbody tr th:only-of-type {\n",
       "        vertical-align: middle;\n",
       "    }\n",
       "\n",
       "    .dataframe tbody tr th {\n",
       "        vertical-align: top;\n",
       "    }\n",
       "\n",
       "    .dataframe thead th {\n",
       "        text-align: right;\n",
       "    }\n",
       "</style>\n",
       "<table border=\"1\" class=\"dataframe\">\n",
       "  <thead>\n",
       "    <tr style=\"text-align: right;\">\n",
       "      <th></th>\n",
       "      <th>day</th>\n",
       "      <th>source</th>\n",
       "      <th>cost</th>\n",
       "      <th>user_id</th>\n",
       "      <th>CAC</th>\n",
       "    </tr>\n",
       "  </thead>\n",
       "  <tbody>\n",
       "    <tr>\n",
       "      <th>0</th>\n",
       "      <td>2020-05-04</td>\n",
       "      <td>facebook_ads</td>\n",
       "      <td>548.354480</td>\n",
       "      <td>1184</td>\n",
       "      <td>0.463137</td>\n",
       "    </tr>\n",
       "    <tr>\n",
       "      <th>1</th>\n",
       "      <td>2020-05-04</td>\n",
       "      <td>instagram_new_adverts</td>\n",
       "      <td>502.925451</td>\n",
       "      <td>1452</td>\n",
       "      <td>0.346367</td>\n",
       "    </tr>\n",
       "    <tr>\n",
       "      <th>2</th>\n",
       "      <td>2020-05-04</td>\n",
       "      <td>yandex_direct</td>\n",
       "      <td>554.651494</td>\n",
       "      <td>2078</td>\n",
       "      <td>0.266916</td>\n",
       "    </tr>\n",
       "    <tr>\n",
       "      <th>3</th>\n",
       "      <td>2020-05-04</td>\n",
       "      <td>youtube_channel_reklama</td>\n",
       "      <td>259.073224</td>\n",
       "      <td>1146</td>\n",
       "      <td>0.226067</td>\n",
       "    </tr>\n",
       "    <tr>\n",
       "      <th>4</th>\n",
       "      <td>2020-05-05</td>\n",
       "      <td>facebook_ads</td>\n",
       "      <td>260.185754</td>\n",
       "      <td>694</td>\n",
       "      <td>0.374907</td>\n",
       "    </tr>\n",
       "    <tr>\n",
       "      <th>5</th>\n",
       "      <td>2020-05-05</td>\n",
       "      <td>instagram_new_adverts</td>\n",
       "      <td>313.970984</td>\n",
       "      <td>796</td>\n",
       "      <td>0.394436</td>\n",
       "    </tr>\n",
       "    <tr>\n",
       "      <th>6</th>\n",
       "      <td>2020-05-05</td>\n",
       "      <td>yandex_direct</td>\n",
       "      <td>308.232990</td>\n",
       "      <td>1208</td>\n",
       "      <td>0.255160</td>\n",
       "    </tr>\n",
       "    <tr>\n",
       "      <th>7</th>\n",
       "      <td>2020-05-05</td>\n",
       "      <td>youtube_channel_reklama</td>\n",
       "      <td>147.041741</td>\n",
       "      <td>663</td>\n",
       "      <td>0.221782</td>\n",
       "    </tr>\n",
       "    <tr>\n",
       "      <th>8</th>\n",
       "      <td>2020-05-06</td>\n",
       "      <td>facebook_ads</td>\n",
       "      <td>177.982200</td>\n",
       "      <td>345</td>\n",
       "      <td>0.515890</td>\n",
       "    </tr>\n",
       "    <tr>\n",
       "      <th>9</th>\n",
       "      <td>2020-05-06</td>\n",
       "      <td>instagram_new_adverts</td>\n",
       "      <td>173.071145</td>\n",
       "      <td>472</td>\n",
       "      <td>0.366676</td>\n",
       "    </tr>\n",
       "    <tr>\n",
       "      <th>10</th>\n",
       "      <td>2020-05-06</td>\n",
       "      <td>yandex_direct</td>\n",
       "      <td>180.917099</td>\n",
       "      <td>664</td>\n",
       "      <td>0.272466</td>\n",
       "    </tr>\n",
       "    <tr>\n",
       "      <th>11</th>\n",
       "      <td>2020-05-06</td>\n",
       "      <td>youtube_channel_reklama</td>\n",
       "      <td>88.506074</td>\n",
       "      <td>366</td>\n",
       "      <td>0.241820</td>\n",
       "    </tr>\n",
       "    <tr>\n",
       "      <th>12</th>\n",
       "      <td>2020-05-07</td>\n",
       "      <td>facebook_ads</td>\n",
       "      <td>111.766796</td>\n",
       "      <td>224</td>\n",
       "      <td>0.498959</td>\n",
       "    </tr>\n",
       "    <tr>\n",
       "      <th>13</th>\n",
       "      <td>2020-05-07</td>\n",
       "      <td>instagram_new_adverts</td>\n",
       "      <td>109.915254</td>\n",
       "      <td>270</td>\n",
       "      <td>0.407094</td>\n",
       "    </tr>\n",
       "    <tr>\n",
       "      <th>14</th>\n",
       "      <td>2020-05-07</td>\n",
       "      <td>yandex_direct</td>\n",
       "      <td>114.429338</td>\n",
       "      <td>395</td>\n",
       "      <td>0.289695</td>\n",
       "    </tr>\n",
       "    <tr>\n",
       "      <th>15</th>\n",
       "      <td>2020-05-07</td>\n",
       "      <td>youtube_channel_reklama</td>\n",
       "      <td>55.740645</td>\n",
       "      <td>220</td>\n",
       "      <td>0.253367</td>\n",
       "    </tr>\n",
       "    <tr>\n",
       "      <th>16</th>\n",
       "      <td>2020-05-08</td>\n",
       "      <td>facebook_ads</td>\n",
       "      <td>68.009276</td>\n",
       "      <td>139</td>\n",
       "      <td>0.489275</td>\n",
       "    </tr>\n",
       "    <tr>\n",
       "      <th>17</th>\n",
       "      <td>2020-05-08</td>\n",
       "      <td>instagram_new_adverts</td>\n",
       "      <td>71.578739</td>\n",
       "      <td>175</td>\n",
       "      <td>0.409021</td>\n",
       "    </tr>\n",
       "    <tr>\n",
       "      <th>18</th>\n",
       "      <td>2020-05-08</td>\n",
       "      <td>yandex_direct</td>\n",
       "      <td>62.961630</td>\n",
       "      <td>239</td>\n",
       "      <td>0.263438</td>\n",
       "    </tr>\n",
       "    <tr>\n",
       "      <th>19</th>\n",
       "      <td>2020-05-08</td>\n",
       "      <td>youtube_channel_reklama</td>\n",
       "      <td>40.217907</td>\n",
       "      <td>135</td>\n",
       "      <td>0.297910</td>\n",
       "    </tr>\n",
       "    <tr>\n",
       "      <th>20</th>\n",
       "      <td>2020-05-09</td>\n",
       "      <td>facebook_ads</td>\n",
       "      <td>38.723350</td>\n",
       "      <td>84</td>\n",
       "      <td>0.460992</td>\n",
       "    </tr>\n",
       "    <tr>\n",
       "      <th>21</th>\n",
       "      <td>2020-05-09</td>\n",
       "      <td>instagram_new_adverts</td>\n",
       "      <td>46.775400</td>\n",
       "      <td>112</td>\n",
       "      <td>0.417637</td>\n",
       "    </tr>\n",
       "    <tr>\n",
       "      <th>22</th>\n",
       "      <td>2020-05-09</td>\n",
       "      <td>yandex_direct</td>\n",
       "      <td>42.779505</td>\n",
       "      <td>144</td>\n",
       "      <td>0.297080</td>\n",
       "    </tr>\n",
       "    <tr>\n",
       "      <th>23</th>\n",
       "      <td>2020-05-09</td>\n",
       "      <td>youtube_channel_reklama</td>\n",
       "      <td>23.314669</td>\n",
       "      <td>100</td>\n",
       "      <td>0.233147</td>\n",
       "    </tr>\n",
       "  </tbody>\n",
       "</table>\n",
       "</div>"
      ],
      "text/plain": [
       "          day                   source        cost  user_id       CAC\n",
       "0  2020-05-04             facebook_ads  548.354480     1184  0.463137\n",
       "1  2020-05-04    instagram_new_adverts  502.925451     1452  0.346367\n",
       "2  2020-05-04            yandex_direct  554.651494     2078  0.266916\n",
       "3  2020-05-04  youtube_channel_reklama  259.073224     1146  0.226067\n",
       "4  2020-05-05             facebook_ads  260.185754      694  0.374907\n",
       "5  2020-05-05    instagram_new_adverts  313.970984      796  0.394436\n",
       "6  2020-05-05            yandex_direct  308.232990     1208  0.255160\n",
       "7  2020-05-05  youtube_channel_reklama  147.041741      663  0.221782\n",
       "8  2020-05-06             facebook_ads  177.982200      345  0.515890\n",
       "9  2020-05-06    instagram_new_adverts  173.071145      472  0.366676\n",
       "10 2020-05-06            yandex_direct  180.917099      664  0.272466\n",
       "11 2020-05-06  youtube_channel_reklama   88.506074      366  0.241820\n",
       "12 2020-05-07             facebook_ads  111.766796      224  0.498959\n",
       "13 2020-05-07    instagram_new_adverts  109.915254      270  0.407094\n",
       "14 2020-05-07            yandex_direct  114.429338      395  0.289695\n",
       "15 2020-05-07  youtube_channel_reklama   55.740645      220  0.253367\n",
       "16 2020-05-08             facebook_ads   68.009276      139  0.489275\n",
       "17 2020-05-08    instagram_new_adverts   71.578739      175  0.409021\n",
       "18 2020-05-08            yandex_direct   62.961630      239  0.263438\n",
       "19 2020-05-08  youtube_channel_reklama   40.217907      135  0.297910\n",
       "20 2020-05-09             facebook_ads   38.723350       84  0.460992\n",
       "21 2020-05-09    instagram_new_adverts   46.775400      112  0.417637\n",
       "22 2020-05-09            yandex_direct   42.779505      144  0.297080\n",
       "23 2020-05-09  youtube_channel_reklama   23.314669      100  0.233147"
      ]
     },
     "execution_count": 51,
     "metadata": {},
     "output_type": "execute_result"
    }
   ],
   "source": [
    "user_unique_source_cost = user_source_cost.groupby(['day','source','cost'], as_index=False)['user_id'].nunique()\n",
    "user_unique_source_cost['CAC'] = user_unique_source_cost['cost'] / user_unique_source_cost['user_id']\n",
    "user_unique_source_cost"
   ]
  },
  {
   "cell_type": "code",
   "execution_count": 52,
   "id": "9f4f26d5",
   "metadata": {},
   "outputs": [
    {
     "data": {
      "image/png": "[encoded data removed]",
      "text/plain": [
       "<Figure size 720x720 with 1 Axes>"
      ]
     },
     "metadata": {
      "needs_background": "light"
     },
     "output_type": "display_data"
    }
   ],
   "source": [
    "plt.figure(figsize=(10,10))\n",
    "plt.title('Динамика CAC по дням для разынх каналов привлечения')\n",
    "sns.lineplot(data=user_unique_source_cost, x='day', y='CAC', hue='source')\n",
    "plt.show()"
   ]
  },
  {
   "cell_type": "code",
   "execution_count": 53,
   "id": "7612fc04",
   "metadata": {},
   "outputs": [
    {
     "data": {
      "image/png": "[encoded data removed]",
      "text/plain": [
       "<Figure size 720x720 with 1 Axes>"
      ]
     },
     "metadata": {
      "needs_background": "light"
     },
     "output_type": "display_data"
    }
   ],
   "source": [
    "plt.figure(figsize=(10,10))\n",
    "plt.title('Динамика прироста уникальных пользователей по дням для разных каналов привлечения')\n",
    "sns.lineplot(data=user_unique_source_cost, x='day', y='user_id', hue='source')\n",
    "plt.show()"
   ]
  },
  {
   "cell_type": "code",
   "execution_count": 54,
   "id": "2c01c94f",
   "metadata": {},
   "outputs": [
    {
     "name": "stderr",
     "output_type": "stream",
     "text": [
      "C:\\Users\\Vittorio\\AppData\\Local\\Temp/ipykernel_10808/1038298334.py:1: FutureWarning: Indexing with multiple keys (implicitly converted to a tuple of keys) will be deprecated, use a list instead.\n",
      "  user_unique_source_cost_total = user_unique_source_cost.groupby('source', as_index=False)['cost','user_id'].agg('sum')\n"
     ]
    },
    {
     "data": {
      "text/html": [
       "<div>\n",
       "<style scoped>\n",
       "    .dataframe tbody tr th:only-of-type {\n",
       "        vertical-align: middle;\n",
       "    }\n",
       "\n",
       "    .dataframe tbody tr th {\n",
       "        vertical-align: top;\n",
       "    }\n",
       "\n",
       "    .dataframe thead th {\n",
       "        text-align: right;\n",
       "    }\n",
       "</style>\n",
       "<table border=\"1\" class=\"dataframe\">\n",
       "  <thead>\n",
       "    <tr style=\"text-align: right;\">\n",
       "      <th></th>\n",
       "      <th>source</th>\n",
       "      <th>cost</th>\n",
       "      <th>user_id</th>\n",
       "    </tr>\n",
       "  </thead>\n",
       "  <tbody>\n",
       "    <tr>\n",
       "      <th>0</th>\n",
       "      <td>facebook_ads</td>\n",
       "      <td>1205.021857</td>\n",
       "      <td>2670</td>\n",
       "    </tr>\n",
       "    <tr>\n",
       "      <th>1</th>\n",
       "      <td>instagram_new_adverts</td>\n",
       "      <td>1218.236973</td>\n",
       "      <td>3277</td>\n",
       "    </tr>\n",
       "    <tr>\n",
       "      <th>2</th>\n",
       "      <td>yandex_direct</td>\n",
       "      <td>1263.972055</td>\n",
       "      <td>4728</td>\n",
       "    </tr>\n",
       "    <tr>\n",
       "      <th>3</th>\n",
       "      <td>youtube_channel_reklama</td>\n",
       "      <td>613.894261</td>\n",
       "      <td>2630</td>\n",
       "    </tr>\n",
       "  </tbody>\n",
       "</table>\n",
       "</div>"
      ],
      "text/plain": [
       "                    source         cost  user_id\n",
       "0             facebook_ads  1205.021857     2670\n",
       "1    instagram_new_adverts  1218.236973     3277\n",
       "2            yandex_direct  1263.972055     4728\n",
       "3  youtube_channel_reklama   613.894261     2630"
      ]
     },
     "execution_count": 54,
     "metadata": {},
     "output_type": "execute_result"
    }
   ],
   "source": [
    "user_unique_source_cost_total = user_unique_source_cost.groupby('source', as_index=False)['cost','user_id'].agg('sum')\n",
    "user_unique_source_cost_total"
   ]
  },
  {
   "cell_type": "code",
   "execution_count": 55,
   "id": "47d71f1f",
   "metadata": {},
   "outputs": [
    {
     "data": {
      "text/html": [
       "<div>\n",
       "<style scoped>\n",
       "    .dataframe tbody tr th:only-of-type {\n",
       "        vertical-align: middle;\n",
       "    }\n",
       "\n",
       "    .dataframe tbody tr th {\n",
       "        vertical-align: top;\n",
       "    }\n",
       "\n",
       "    .dataframe thead th {\n",
       "        text-align: right;\n",
       "    }\n",
       "</style>\n",
       "<table border=\"1\" class=\"dataframe\">\n",
       "  <thead>\n",
       "    <tr style=\"text-align: right;\">\n",
       "      <th></th>\n",
       "      <th>source</th>\n",
       "      <th>cost</th>\n",
       "      <th>user_id</th>\n",
       "      <th>cost_per_user</th>\n",
       "    </tr>\n",
       "  </thead>\n",
       "  <tbody>\n",
       "    <tr>\n",
       "      <th>0</th>\n",
       "      <td>facebook_ads</td>\n",
       "      <td>1205.021857</td>\n",
       "      <td>2670</td>\n",
       "      <td>0.451319</td>\n",
       "    </tr>\n",
       "    <tr>\n",
       "      <th>1</th>\n",
       "      <td>instagram_new_adverts</td>\n",
       "      <td>1218.236973</td>\n",
       "      <td>3277</td>\n",
       "      <td>0.371754</td>\n",
       "    </tr>\n",
       "    <tr>\n",
       "      <th>2</th>\n",
       "      <td>yandex_direct</td>\n",
       "      <td>1263.972055</td>\n",
       "      <td>4728</td>\n",
       "      <td>0.267338</td>\n",
       "    </tr>\n",
       "    <tr>\n",
       "      <th>3</th>\n",
       "      <td>youtube_channel_reklama</td>\n",
       "      <td>613.894261</td>\n",
       "      <td>2630</td>\n",
       "      <td>0.233420</td>\n",
       "    </tr>\n",
       "  </tbody>\n",
       "</table>\n",
       "</div>"
      ],
      "text/plain": [
       "                    source         cost  user_id  cost_per_user\n",
       "0             facebook_ads  1205.021857     2670       0.451319\n",
       "1    instagram_new_adverts  1218.236973     3277       0.371754\n",
       "2            yandex_direct  1263.972055     4728       0.267338\n",
       "3  youtube_channel_reklama   613.894261     2630       0.233420"
      ]
     },
     "execution_count": 55,
     "metadata": {},
     "output_type": "execute_result"
    }
   ],
   "source": [
    "user_unique_source_cost_total['cost_per_user'] = user_unique_source_cost_total['cost'] / user_unique_source_cost_total['user_id']\n",
    "user_unique_source_cost_total"
   ]
  },
  {
   "cell_type": "code",
   "execution_count": 56,
   "id": "ea8716ba",
   "metadata": {},
   "outputs": [
    {
     "data": {
      "image/png": "[encoded data removed]",
      "text/plain": [
       "<Figure size 1080x432 with 2 Axes>"
      ]
     },
     "metadata": {
      "needs_background": "light"
     },
     "output_type": "display_data"
    }
   ],
   "source": [
    "plt.figure(figsize=(15,6))\n",
    "plt.subplot(1,2,1)\n",
    "plt.title('Количество привелеченных пользователей')\n",
    "sns.barplot(data=user_unique_source_cost_total,x='source', y='user_id')\n",
    "plt.subplot(1,2,2)\n",
    "plt.title('Цена привлечения одного пользователя')\n",
    "sns.barplot(data=user_unique_source_cost_total,x='source', y='cost_per_user')\n",
    "plt.show()"
   ]
  },
  {
   "cell_type": "markdown",
   "id": "f823f3da",
   "metadata": {},
   "source": [
    "Можно сделать вывод о том, что лучше всего с задачей привлечения пользоватлей справляется Яндекс.Директ. Этот канал привлек больше всего пользователей, а цена привлечения для этого канала сравнительно низкая по сравнению с остальными. Фейсбук показал себя хуже всех, така как привлек мало пользователей, а затраты на этот канал привлечения достаточно высоки по сравнению с тем же Яндекс.Директом."
   ]
  },
  {
   "cell_type": "markdown",
   "id": "d4995514",
   "metadata": {},
   "source": [
    "<b>Выводы по этапу:</b>\n",
    "* Больше всего пользователей пришло с Яндекс.Директ\n",
    "* В среднем пользователи, привлеченные с разных источников совершают примерно одинаковое количество действий(около 10), несмотря на то,что выборки разные по количеству пользователей. Т.е. количество действий пользователей в игре не зависит от того с какого источника они пришли.\n",
    "* Можно заметить, что процент пользователей прошедших уровень примерно одинаков для всех каналов привлечения. Немного опережают по показателю только пользователи, привлеченные через канал instagram_new_adverts. Для этого канала доля пользователей прошедших уровень равна 44%.\n",
    "* Уровень прошли 43% пользователей от общего числа пользователей.  29%  от общего числа пользователей оказались воинами по стратегии прохождения, а 14% исследователями. Похоже динамичность привлекает пользователей больше\n",
    "* Воителей привлекается больше на всех каналах. Как правило характерное соотношение исследователей к воителям примерно 1/2. Для yandex_direct присутствует небольшой перевес в сторону воителей. Т.е. пропорционально для этого канала характерно привлекать чуть больше воителей,чем для остальных каналов. Но речь лишь о единицах процентов.\n",
    "* Можно сделать вывод о том, что лучше всего с задачей привлечения пользоватлей справляется Яндекс.Директ. Этот канал привлек больше всего пользователей, а цена привлечения для этого канала сравнительно низкая по сравнению с остальными. Фейсбук показал себя хуже всех, така как привлек мало пользователей, а затраты на этот канал привлечения достаточно высоки по сравнению с тем же Яндекс.Директом."
   ]
  },
  {
   "cell_type": "markdown",
   "id": "276e5a49",
   "metadata": {},
   "source": [
    "## Статистическая проверка гипотез"
   ]
  },
  {
   "cell_type": "markdown",
   "id": "90dce8ec",
   "metadata": {},
   "source": [
    "### Проверить гипотезу о том, что время прохождения уровня различается в зависимости от способа прохождения c помощью T-теста"
   ]
  },
  {
   "cell_type": "markdown",
   "id": "8111e5a7",
   "metadata": {},
   "source": [
    "Чтобы провести тест нужно подготовить данные"
   ]
  },
  {
   "cell_type": "code",
   "execution_count": 58,
   "id": "b5dbd407",
   "metadata": {},
   "outputs": [
    {
     "data": {
      "text/html": [
       "<div>\n",
       "<style scoped>\n",
       "    .dataframe tbody tr th:only-of-type {\n",
       "        vertical-align: middle;\n",
       "    }\n",
       "\n",
       "    .dataframe tbody tr th {\n",
       "        vertical-align: top;\n",
       "    }\n",
       "\n",
       "    .dataframe thead th {\n",
       "        text-align: right;\n",
       "    }\n",
       "</style>\n",
       "<table border=\"1\" class=\"dataframe\">\n",
       "  <thead>\n",
       "    <tr style=\"text-align: right;\">\n",
       "      <th></th>\n",
       "      <th>user_id</th>\n",
       "      <th>game_strategy</th>\n",
       "      <th>start_stage</th>\n",
       "      <th>finish_stage</th>\n",
       "    </tr>\n",
       "  </thead>\n",
       "  <tbody>\n",
       "    <tr>\n",
       "      <th>0</th>\n",
       "      <td>001d39dc-366c-4021-9604-6a3b9ff01e25</td>\n",
       "      <td>warrior</td>\n",
       "      <td>2020-05-05 21:02:05</td>\n",
       "      <td>2020-05-12 07:40:47</td>\n",
       "    </tr>\n",
       "    <tr>\n",
       "      <th>1</th>\n",
       "      <td>003ee7e8-6356-4286-a715-62f22a18d2a1</td>\n",
       "      <td>warrior</td>\n",
       "      <td>2020-05-05 08:31:04</td>\n",
       "      <td>2020-05-17 21:47:49</td>\n",
       "    </tr>\n",
       "    <tr>\n",
       "      <th>2</th>\n",
       "      <td>004074f8-251a-4776-922c-8348dca1a2f6</td>\n",
       "      <td>warrior</td>\n",
       "      <td>2020-05-04 01:07:35</td>\n",
       "      <td>2020-05-16 19:57:40</td>\n",
       "    </tr>\n",
       "    <tr>\n",
       "      <th>3</th>\n",
       "      <td>00464e5e-28ed-4be6-bf44-517ef7b3937b</td>\n",
       "      <td>warrior</td>\n",
       "      <td>2020-05-04 08:35:29</td>\n",
       "      <td>2020-05-15 16:02:01</td>\n",
       "    </tr>\n",
       "    <tr>\n",
       "      <th>4</th>\n",
       "      <td>0056c007-c082-43cc-bdef-afc49bca4cb9</td>\n",
       "      <td>warrior</td>\n",
       "      <td>2020-05-10 11:49:47</td>\n",
       "      <td>2020-05-16 13:48:39</td>\n",
       "    </tr>\n",
       "    <tr>\n",
       "      <th>...</th>\n",
       "      <td>...</td>\n",
       "      <td>...</td>\n",
       "      <td>...</td>\n",
       "      <td>...</td>\n",
       "    </tr>\n",
       "    <tr>\n",
       "      <th>5812</th>\n",
       "      <td>ffd002f3-3545-423e-8dba-0c6a2d48a3aa</td>\n",
       "      <td>warrior</td>\n",
       "      <td>2020-05-06 06:34:18</td>\n",
       "      <td>2020-05-19 04:03:24</td>\n",
       "    </tr>\n",
       "    <tr>\n",
       "      <th>5813</th>\n",
       "      <td>ffe810f4-1a1f-464b-924d-6f120b0cb8df</td>\n",
       "      <td>warrior</td>\n",
       "      <td>2020-05-04 17:46:05</td>\n",
       "      <td>2020-05-18 02:03:36</td>\n",
       "    </tr>\n",
       "    <tr>\n",
       "      <th>5814</th>\n",
       "      <td>ffef4fed-164c-40e1-bde1-3980f76d0fb5</td>\n",
       "      <td>warrior</td>\n",
       "      <td>2020-05-04 01:58:59</td>\n",
       "      <td>2020-05-11 22:15:54</td>\n",
       "    </tr>\n",
       "    <tr>\n",
       "      <th>5815</th>\n",
       "      <td>fffb626c-5ab6-47c9-8113-2062a2f18494</td>\n",
       "      <td>warrior</td>\n",
       "      <td>2020-05-04 02:05:09</td>\n",
       "      <td>2020-05-12 13:01:52</td>\n",
       "    </tr>\n",
       "    <tr>\n",
       "      <th>5816</th>\n",
       "      <td>ffff69cc-fec1-4fd3-9f98-93be1112a6b8</td>\n",
       "      <td>explorer</td>\n",
       "      <td>2020-05-08 06:57:30</td>\n",
       "      <td>2020-05-25 14:05:51</td>\n",
       "    </tr>\n",
       "  </tbody>\n",
       "</table>\n",
       "<p>5817 rows × 4 columns</p>\n",
       "</div>"
      ],
      "text/plain": [
       "                                   user_id game_strategy         start_stage  \\\n",
       "0     001d39dc-366c-4021-9604-6a3b9ff01e25       warrior 2020-05-05 21:02:05   \n",
       "1     003ee7e8-6356-4286-a715-62f22a18d2a1       warrior 2020-05-05 08:31:04   \n",
       "2     004074f8-251a-4776-922c-8348dca1a2f6       warrior 2020-05-04 01:07:35   \n",
       "3     00464e5e-28ed-4be6-bf44-517ef7b3937b       warrior 2020-05-04 08:35:29   \n",
       "4     0056c007-c082-43cc-bdef-afc49bca4cb9       warrior 2020-05-10 11:49:47   \n",
       "...                                    ...           ...                 ...   \n",
       "5812  ffd002f3-3545-423e-8dba-0c6a2d48a3aa       warrior 2020-05-06 06:34:18   \n",
       "5813  ffe810f4-1a1f-464b-924d-6f120b0cb8df       warrior 2020-05-04 17:46:05   \n",
       "5814  ffef4fed-164c-40e1-bde1-3980f76d0fb5       warrior 2020-05-04 01:58:59   \n",
       "5815  fffb626c-5ab6-47c9-8113-2062a2f18494       warrior 2020-05-04 02:05:09   \n",
       "5816  ffff69cc-fec1-4fd3-9f98-93be1112a6b8      explorer 2020-05-08 06:57:30   \n",
       "\n",
       "            finish_stage  \n",
       "0    2020-05-12 07:40:47  \n",
       "1    2020-05-17 21:47:49  \n",
       "2    2020-05-16 19:57:40  \n",
       "3    2020-05-15 16:02:01  \n",
       "4    2020-05-16 13:48:39  \n",
       "...                  ...  \n",
       "5812 2020-05-19 04:03:24  \n",
       "5813 2020-05-18 02:03:36  \n",
       "5814 2020-05-11 22:15:54  \n",
       "5815 2020-05-12 13:01:52  \n",
       "5816 2020-05-25 14:05:51  \n",
       "\n",
       "[5817 rows x 4 columns]"
      ]
     },
     "execution_count": 58,
     "metadata": {},
     "output_type": "execute_result"
    }
   ],
   "source": [
    "start_stage_time = users_finished_stage_1.groupby(['user_id','game_strategy'], as_index=False)['event_datetime'].min()\n",
    "start_stage_time.columns = ['user_id', 'game_strategy', 'start_stage']\n",
    "finish_stage_time = users_finished_stage_1.groupby(['user_id','game_strategy'], as_index=False)['event_datetime'].max()\n",
    "finish_stage_time.columns = ['user_id', 'game_strategy', 'finish_stage']\n",
    "duration_of_stage = start_stage_time.merge(finish_stage_time, on=['user_id','game_strategy'], how='left')\n",
    "duration_of_stage"
   ]
  },
  {
   "cell_type": "code",
   "execution_count": 59,
   "id": "6edab27d",
   "metadata": {},
   "outputs": [],
   "source": [
    "duration_of_stage['duration'] = duration_of_stage['finish_stage'] - duration_of_stage['start_stage']\n",
    "duration_of_stage['duration_in_minutes'] = duration_of_stage['duration'].dt.total_seconds().div(60).astype(float).round(1)"
   ]
  },
  {
   "cell_type": "code",
   "execution_count": 60,
   "id": "8c8c62e4",
   "metadata": {},
   "outputs": [
    {
     "data": {
      "text/plain": [
       "15990.401872943585"
      ]
     },
     "execution_count": 60,
     "metadata": {},
     "output_type": "execute_result"
    }
   ],
   "source": [
    "duration_of_stage.query('game_strategy == \"warrior\"')['duration_in_minutes'].mean()"
   ]
  },
  {
   "cell_type": "code",
   "execution_count": 61,
   "id": "344ea6aa",
   "metadata": {},
   "outputs": [
    {
     "data": {
      "text/plain": [
       "19380.82036441584"
      ]
     },
     "execution_count": 61,
     "metadata": {},
     "output_type": "execute_result"
    }
   ],
   "source": [
    "duration_of_stage.query('game_strategy == \"explorer\"')['duration_in_minutes'].mean()"
   ]
  },
  {
   "cell_type": "code",
   "execution_count": 62,
   "id": "ae04dda3",
   "metadata": {},
   "outputs": [
    {
     "data": {
      "text/html": [
       "<div>\n",
       "<style scoped>\n",
       "    .dataframe tbody tr th:only-of-type {\n",
       "        vertical-align: middle;\n",
       "    }\n",
       "\n",
       "    .dataframe tbody tr th {\n",
       "        vertical-align: top;\n",
       "    }\n",
       "\n",
       "    .dataframe thead th {\n",
       "        text-align: right;\n",
       "    }\n",
       "</style>\n",
       "<table border=\"1\" class=\"dataframe\">\n",
       "  <thead>\n",
       "    <tr style=\"text-align: right;\">\n",
       "      <th></th>\n",
       "      <th>user_id</th>\n",
       "      <th>game_strategy</th>\n",
       "      <th>start_stage</th>\n",
       "      <th>finish_stage</th>\n",
       "      <th>duration</th>\n",
       "      <th>duration_in_minutes</th>\n",
       "    </tr>\n",
       "  </thead>\n",
       "  <tbody>\n",
       "    <tr>\n",
       "      <th>0</th>\n",
       "      <td>001d39dc-366c-4021-9604-6a3b9ff01e25</td>\n",
       "      <td>warrior</td>\n",
       "      <td>2020-05-05 21:02:05</td>\n",
       "      <td>2020-05-12 07:40:47</td>\n",
       "      <td>6 days 10:38:42</td>\n",
       "      <td>9278.7</td>\n",
       "    </tr>\n",
       "    <tr>\n",
       "      <th>1</th>\n",
       "      <td>003ee7e8-6356-4286-a715-62f22a18d2a1</td>\n",
       "      <td>warrior</td>\n",
       "      <td>2020-05-05 08:31:04</td>\n",
       "      <td>2020-05-17 21:47:49</td>\n",
       "      <td>12 days 13:16:45</td>\n",
       "      <td>18076.8</td>\n",
       "    </tr>\n",
       "    <tr>\n",
       "      <th>2</th>\n",
       "      <td>004074f8-251a-4776-922c-8348dca1a2f6</td>\n",
       "      <td>warrior</td>\n",
       "      <td>2020-05-04 01:07:35</td>\n",
       "      <td>2020-05-16 19:57:40</td>\n",
       "      <td>12 days 18:50:05</td>\n",
       "      <td>18410.1</td>\n",
       "    </tr>\n",
       "    <tr>\n",
       "      <th>3</th>\n",
       "      <td>00464e5e-28ed-4be6-bf44-517ef7b3937b</td>\n",
       "      <td>warrior</td>\n",
       "      <td>2020-05-04 08:35:29</td>\n",
       "      <td>2020-05-15 16:02:01</td>\n",
       "      <td>11 days 07:26:32</td>\n",
       "      <td>16286.5</td>\n",
       "    </tr>\n",
       "    <tr>\n",
       "      <th>4</th>\n",
       "      <td>0056c007-c082-43cc-bdef-afc49bca4cb9</td>\n",
       "      <td>warrior</td>\n",
       "      <td>2020-05-10 11:49:47</td>\n",
       "      <td>2020-05-16 13:48:39</td>\n",
       "      <td>6 days 01:58:52</td>\n",
       "      <td>8758.9</td>\n",
       "    </tr>\n",
       "    <tr>\n",
       "      <th>...</th>\n",
       "      <td>...</td>\n",
       "      <td>...</td>\n",
       "      <td>...</td>\n",
       "      <td>...</td>\n",
       "      <td>...</td>\n",
       "      <td>...</td>\n",
       "    </tr>\n",
       "    <tr>\n",
       "      <th>5811</th>\n",
       "      <td>ffc6f4fa-3476-47af-85cb-e2ee0551110a</td>\n",
       "      <td>warrior</td>\n",
       "      <td>2020-05-04 03:59:12</td>\n",
       "      <td>2020-05-15 12:18:42</td>\n",
       "      <td>11 days 08:19:30</td>\n",
       "      <td>16339.5</td>\n",
       "    </tr>\n",
       "    <tr>\n",
       "      <th>5812</th>\n",
       "      <td>ffd002f3-3545-423e-8dba-0c6a2d48a3aa</td>\n",
       "      <td>warrior</td>\n",
       "      <td>2020-05-06 06:34:18</td>\n",
       "      <td>2020-05-19 04:03:24</td>\n",
       "      <td>12 days 21:29:06</td>\n",
       "      <td>18569.1</td>\n",
       "    </tr>\n",
       "    <tr>\n",
       "      <th>5813</th>\n",
       "      <td>ffe810f4-1a1f-464b-924d-6f120b0cb8df</td>\n",
       "      <td>warrior</td>\n",
       "      <td>2020-05-04 17:46:05</td>\n",
       "      <td>2020-05-18 02:03:36</td>\n",
       "      <td>13 days 08:17:31</td>\n",
       "      <td>19217.5</td>\n",
       "    </tr>\n",
       "    <tr>\n",
       "      <th>5814</th>\n",
       "      <td>ffef4fed-164c-40e1-bde1-3980f76d0fb5</td>\n",
       "      <td>warrior</td>\n",
       "      <td>2020-05-04 01:58:59</td>\n",
       "      <td>2020-05-11 22:15:54</td>\n",
       "      <td>7 days 20:16:55</td>\n",
       "      <td>11296.9</td>\n",
       "    </tr>\n",
       "    <tr>\n",
       "      <th>5815</th>\n",
       "      <td>fffb626c-5ab6-47c9-8113-2062a2f18494</td>\n",
       "      <td>warrior</td>\n",
       "      <td>2020-05-04 02:05:09</td>\n",
       "      <td>2020-05-12 13:01:52</td>\n",
       "      <td>8 days 10:56:43</td>\n",
       "      <td>12176.7</td>\n",
       "    </tr>\n",
       "  </tbody>\n",
       "</table>\n",
       "<p>3951 rows × 6 columns</p>\n",
       "</div>"
      ],
      "text/plain": [
       "                                   user_id game_strategy         start_stage  \\\n",
       "0     001d39dc-366c-4021-9604-6a3b9ff01e25       warrior 2020-05-05 21:02:05   \n",
       "1     003ee7e8-6356-4286-a715-62f22a18d2a1       warrior 2020-05-05 08:31:04   \n",
       "2     004074f8-251a-4776-922c-8348dca1a2f6       warrior 2020-05-04 01:07:35   \n",
       "3     00464e5e-28ed-4be6-bf44-517ef7b3937b       warrior 2020-05-04 08:35:29   \n",
       "4     0056c007-c082-43cc-bdef-afc49bca4cb9       warrior 2020-05-10 11:49:47   \n",
       "...                                    ...           ...                 ...   \n",
       "5811  ffc6f4fa-3476-47af-85cb-e2ee0551110a       warrior 2020-05-04 03:59:12   \n",
       "5812  ffd002f3-3545-423e-8dba-0c6a2d48a3aa       warrior 2020-05-06 06:34:18   \n",
       "5813  ffe810f4-1a1f-464b-924d-6f120b0cb8df       warrior 2020-05-04 17:46:05   \n",
       "5814  ffef4fed-164c-40e1-bde1-3980f76d0fb5       warrior 2020-05-04 01:58:59   \n",
       "5815  fffb626c-5ab6-47c9-8113-2062a2f18494       warrior 2020-05-04 02:05:09   \n",
       "\n",
       "            finish_stage         duration  duration_in_minutes  \n",
       "0    2020-05-12 07:40:47  6 days 10:38:42               9278.7  \n",
       "1    2020-05-17 21:47:49 12 days 13:16:45              18076.8  \n",
       "2    2020-05-16 19:57:40 12 days 18:50:05              18410.1  \n",
       "3    2020-05-15 16:02:01 11 days 07:26:32              16286.5  \n",
       "4    2020-05-16 13:48:39  6 days 01:58:52               8758.9  \n",
       "...                  ...              ...                  ...  \n",
       "5811 2020-05-15 12:18:42 11 days 08:19:30              16339.5  \n",
       "5812 2020-05-19 04:03:24 12 days 21:29:06              18569.1  \n",
       "5813 2020-05-18 02:03:36 13 days 08:17:31              19217.5  \n",
       "5814 2020-05-11 22:15:54  7 days 20:16:55              11296.9  \n",
       "5815 2020-05-12 13:01:52  8 days 10:56:43              12176.7  \n",
       "\n",
       "[3951 rows x 6 columns]"
      ]
     },
     "execution_count": 62,
     "metadata": {},
     "output_type": "execute_result"
    }
   ],
   "source": [
    "duration_of_stage.query('game_strategy == \"warrior\"')"
   ]
  },
  {
   "cell_type": "code",
   "execution_count": 63,
   "id": "2b8eaad8",
   "metadata": {},
   "outputs": [
    {
     "data": {
      "image/png": "[encoded data removed]",
      "text/plain": [
       "<Figure size 1080x576 with 2 Axes>"
      ]
     },
     "metadata": {
      "needs_background": "light"
     },
     "output_type": "display_data"
    }
   ],
   "source": [
    "plt.figure(figsize=(15,8))\n",
    "plt.subplot(1,2,1)\n",
    "plt.title('Распределение времени на прохождение уровня для воителей')\n",
    "duration_of_stage.query('game_strategy == \"warrior\"')['duration_in_minutes'].hist(bins=40)\n",
    "plt.subplot(1,2,2)\n",
    "plt.title('Распределение времени на прохождение уровня для исследователей')\n",
    "duration_of_stage.query('game_strategy == \"explorer\"')['duration_in_minutes'].hist(bins=40)\n",
    "plt.show()"
   ]
  },
  {
   "cell_type": "code",
   "execution_count": 64,
   "id": "69018c73",
   "metadata": {},
   "outputs": [
    {
     "data": {
      "image/png": "[encoded data removed]",
      "text/plain": [
       "<Figure size 1080x576 with 1 Axes>"
      ]
     },
     "metadata": {
      "needs_background": "light"
     },
     "output_type": "display_data"
    }
   ],
   "source": [
    "plt.figure(figsize=(15,8))\n",
    "duration_of_stage.query('game_strategy == \"warrior\"')['duration_in_minutes'].hist(bins=40)\n",
    "duration_of_stage.query('game_strategy == \"explorer\"')['duration_in_minutes'].hist(bins=40, alpha=0.8)\n",
    "plt.show()"
   ]
  },
  {
   "cell_type": "markdown",
   "id": "4539c5f4",
   "metadata": {},
   "source": [
    "Размеры выборок значительно отличаются. Для проведения теста нужно свести выборки к одинаковому размеру. Также нужно предварительно избавиться от выбросов. "
   ]
  },
  {
   "cell_type": "code",
   "execution_count": 66,
   "id": "43d1123c",
   "metadata": {},
   "outputs": [
    {
     "data": {
      "image/png": "[encoded data removed]",
      "text/plain": [
       "<Figure size 1080x576 with 1 Axes>"
      ]
     },
     "metadata": {
      "needs_background": "light"
     },
     "output_type": "display_data"
    }
   ],
   "source": [
    "plt.figure(figsize=(15,8))\n",
    "plt.title('Диаграммs размаха для воителей и исследователей')\n",
    "sns.boxplot(x=duration_of_stage['game_strategy'], y=duration_of_stage['duration_in_minutes'])\n",
    "plt.show()"
   ]
  },
  {
   "cell_type": "code",
   "execution_count": 67,
   "id": "1562232f",
   "metadata": {},
   "outputs": [
    {
     "data": {
      "text/plain": [
       "32172.4"
      ]
     },
     "execution_count": 67,
     "metadata": {},
     "output_type": "execute_result"
    }
   ],
   "source": [
    "np.percentile(duration_of_stage.query('game_strategy == \"warrior\"')['duration_in_minutes'], 99)"
   ]
  },
  {
   "cell_type": "code",
   "execution_count": 68,
   "id": "6e903815",
   "metadata": {},
   "outputs": [
    {
     "data": {
      "text/plain": [
       "33353.65999999999"
      ]
     },
     "execution_count": 68,
     "metadata": {},
     "output_type": "execute_result"
    }
   ],
   "source": [
    "np.percentile(duration_of_stage.query('game_strategy == \"explorer\"')['duration_in_minutes'], 99)"
   ]
  },
  {
   "cell_type": "code",
   "execution_count": 69,
   "id": "4f870adb",
   "metadata": {},
   "outputs": [],
   "source": [
    "warrior_for_test = duration_of_stage.query('game_strategy == \"warrior\" and duration_in_minutes < 32172.4')\n",
    "explorer_for_test = duration_of_stage.query('game_strategy == \"explorer\" and duration_in_minutes < 33353.6')"
   ]
  },
  {
   "cell_type": "markdown",
   "id": "d0eba169",
   "metadata": {},
   "source": [
    "Теперь можно взять равные случайные выборки"
   ]
  },
  {
   "cell_type": "markdown",
   "id": "9e65305e",
   "metadata": {},
   "source": [
    "Предварительно видно,что средние выборок отличаются. Осталось проверить статистически значимо ли они отличаются"
   ]
  },
  {
   "cell_type": "code",
   "execution_count": 70,
   "id": "a58531a7",
   "metadata": {},
   "outputs": [
    {
     "data": {
      "text/plain": [
       "15836.296388888926"
      ]
     },
     "execution_count": 70,
     "metadata": {},
     "output_type": "execute_result"
    }
   ],
   "source": [
    "warrior_for_test.sample(1800)['duration_in_minutes'].mean()"
   ]
  },
  {
   "cell_type": "code",
   "execution_count": 71,
   "id": "4d7a74de",
   "metadata": {},
   "outputs": [
    {
     "data": {
      "text/plain": [
       "19215.40444444445"
      ]
     },
     "execution_count": 71,
     "metadata": {},
     "output_type": "execute_result"
    }
   ],
   "source": [
    "explorer_for_test.sample(1800)['duration_in_minutes'].mean()"
   ]
  },
  {
   "cell_type": "code",
   "execution_count": 72,
   "id": "baffaa65",
   "metadata": {},
   "outputs": [],
   "source": [
    "warrior_for_test_sample = warrior_for_test.sample(1800)\n",
    "explorer_for_test_sample = explorer_for_test.sample(1800)"
   ]
  },
  {
   "cell_type": "markdown",
   "id": "86939f4d",
   "metadata": {},
   "source": [
    "Если мы будем неоднократно извлекать выборки одинакового размера из нашего массива, то их средние распределятся нормально вокруг среднего значения массива(генеральной совокупности). Это одинаково справедливо для массива значений воителей и исследователей. Поэтому Т-тест должен сработать корректно. Кроме того, значения средних мы уже знаем и можем проверить выводы теста."
   ]
  },
  {
   "cell_type": "markdown",
   "id": "6d499ec4",
   "metadata": {},
   "source": [
    "Проведем тест"
   ]
  },
  {
   "cell_type": "markdown",
   "id": "b5db81eb",
   "metadata": {},
   "source": [
    "<p>H0: время завершения уровня не различается в зависимости способа прохождения\n",
    "<p>Н1: время завершения уровня различается в зависимости способа прохождения"
   ]
  },
  {
   "cell_type": "code",
   "execution_count": 73,
   "id": "49504f65",
   "metadata": {},
   "outputs": [
    {
     "name": "stdout",
     "output_type": "stream",
     "text": [
      "p-значение: 5.2741176300545255e-84\n",
      "Отвергаем нулевую гипотезу\n"
     ]
    }
   ],
   "source": [
    "alpha = .05\n",
    "results = st.ttest_ind(\n",
    "    warrior_for_test_sample['duration_in_minutes'], \n",
    "    explorer_for_test_sample['duration_in_minutes'])\n",
    "\n",
    "print('p-значение:', results.pvalue)\n",
    "\n",
    "if results.pvalue < alpha:\n",
    "    print(\"Отвергаем нулевую гипотезу\")\n",
    "else:\n",
    "    print(\"Не получилось отвергнуть нулевую гипотезу\") "
   ]
  },
  {
   "cell_type": "markdown",
   "id": "18a0fdf9",
   "metadata": {},
   "source": [
    "Вывод: Время прохождения уровня действительно статистически значимо отличается в зависимости от способа прохождения. Если ориентироваться на средние значения выборок, то можно сказать, что исследователям требуется больше времени, чтобы пройти уровень чем воинам"
   ]
  },
  {
   "cell_type": "markdown",
   "id": "f436d362",
   "metadata": {},
   "source": [
    "<b>Гипотеза: Среднее количество событий отличается в зависимости от способа прохождения"
   ]
  },
  {
   "cell_type": "code",
   "execution_count": 74,
   "id": "dc6e4fea",
   "metadata": {},
   "outputs": [],
   "source": [
    "exp_event_count = users_finished_stage_1.query('game_strategy == \"explorer\"').groupby('user_id', as_index=False)['event'].count()\n",
    "war_event_count = users_finished_stage_1.query('game_strategy == \"warrior\"').groupby('user_id', as_index=False)['event'].count()"
   ]
  },
  {
   "cell_type": "code",
   "execution_count": 77,
   "id": "3e23cf14",
   "metadata": {},
   "outputs": [
    {
     "data": {
      "text/plain": [
       "14.64790996784566"
      ]
     },
     "execution_count": 77,
     "metadata": {},
     "output_type": "execute_result"
    }
   ],
   "source": [
    "exp_event_count['event'].mean()"
   ]
  },
  {
   "cell_type": "code",
   "execution_count": 78,
   "id": "d9de4abb",
   "metadata": {},
   "outputs": [
    {
     "data": {
      "text/plain": [
       "10.411541381928625"
      ]
     },
     "execution_count": 78,
     "metadata": {},
     "output_type": "execute_result"
    }
   ],
   "source": [
    "war_event_count['event'].mean()"
   ]
  },
  {
   "cell_type": "markdown",
   "id": "3fe29728",
   "metadata": {},
   "source": [
    "Предварительно можно сказать, что исследователи чаще инициируют игровые события. "
   ]
  },
  {
   "cell_type": "code",
   "execution_count": 79,
   "id": "570a8139",
   "metadata": {},
   "outputs": [
    {
     "data": {
      "image/png": "[encoded data removed]",
      "text/plain": [
       "<Figure size 432x288 with 1 Axes>"
      ]
     },
     "metadata": {
      "needs_background": "light"
     },
     "output_type": "display_data"
    }
   ],
   "source": [
    "exp_event_count['event'].hist()\n",
    "war_event_count['event'].hist(alpha=0.5)\n",
    "plt.show()"
   ]
  },
  {
   "cell_type": "code",
   "execution_count": 80,
   "id": "52ee16e5",
   "metadata": {},
   "outputs": [
    {
     "data": {
      "text/plain": [
       "20.0"
      ]
     },
     "execution_count": 80,
     "metadata": {},
     "output_type": "execute_result"
    }
   ],
   "source": [
    "np.percentile(war_event_count['event'], 99.99)"
   ]
  },
  {
   "cell_type": "code",
   "execution_count": 81,
   "id": "b806a266",
   "metadata": {},
   "outputs": [
    {
     "data": {
      "text/plain": [
       "20.0"
      ]
     },
     "execution_count": 81,
     "metadata": {},
     "output_type": "execute_result"
    }
   ],
   "source": [
    "np.percentile(exp_event_count['event'], 99)"
   ]
  },
  {
   "cell_type": "code",
   "execution_count": 82,
   "id": "b02f2ca2",
   "metadata": {},
   "outputs": [],
   "source": [
    "exp_event_count = exp_event_count.query('event < 20')\n",
    "war_event_count = war_event_count.query('event < 20')"
   ]
  },
  {
   "cell_type": "code",
   "execution_count": 83,
   "id": "82e7592a",
   "metadata": {},
   "outputs": [
    {
     "name": "stdout",
     "output_type": "stream",
     "text": [
      "p-значение: 0.0\n",
      "Отвергаем нулевую гипотезу\n"
     ]
    }
   ],
   "source": [
    "alpha = .05\n",
    "results = st.ttest_ind(\n",
    "    war_event_count['event'].sample(1800), \n",
    "    exp_event_count['event'].sample(1800))\n",
    "\n",
    "print('p-значение:', results.pvalue)\n",
    "\n",
    "if results.pvalue < alpha:\n",
    "    print(\"Отвергаем нулевую гипотезу\")\n",
    "else:\n",
    "    print(\"Не получилось отвергнуть нулевую гипотезу\") "
   ]
  },
  {
   "cell_type": "markdown",
   "id": "d5d301b2",
   "metadata": {},
   "source": [
    "В количестве игровых событий между выборками есть разница"
   ]
  },
  {
   "cell_type": "markdown",
   "id": "5a3aa921",
   "metadata": {},
   "source": [
    "<b>Вывод:</b> На данном этапе была проведена статистическая проверка гипотез в результате которой было выявлено, что  время прохождения уровня действительно статистически значимо отличается в зависимости от способа прохождения. Если ориентироваться на средние значения выборок, то можно сказать, что исследователям требуется больше времени, чтобы пройти уровень чем воинам.В количестве игровых событий между воинами и  исследователями есть разница. На исследователей приходится больше событий."
   ]
  },
  {
   "cell_type": "markdown",
   "id": "3519814b",
   "metadata": {},
   "source": [
    "## Общий вывод и рекомендации"
   ]
  },
  {
   "cell_type": "markdown",
   "id": "bed4b3b6",
   "metadata": {},
   "source": [
    "В результате исследования были сделаны следующие выводы:\n",
    "* Больше всего пользователей пришло с источника Яндекс.Директ\n",
    "* В среднем пользователи, привлеченные с разных источников совершают примерно одинаковое количество действий(около 10), несмотря на то,что выборки разные по количеству пользователей. Т.е. количество действий пользователей в игре не зависит от того с какого источника они пришли.\n",
    "* Можно заметить, что процент пользователей прошедших уровень примерно одинаков для всех каналов привлечения. Немного опережают по показателю только пользователи, привлеченные через канал instagram_new_adverts. Для этого канала доля пользователей прошедших уровень равна 44%.\n",
    "* Уровень прошли 43% пользователей от общего числа пользователей.  29%  от общего числа пользователей оказались воинами по стратегии прохождения, а 14% исследователями. Похоже динамичность привлекает пользователей больше\n",
    "* Воителей привлекается больше на всех каналах. Как правило характерное соотношение исследователей к воителям примерно 1/2. Для yandex_direct присутствует небольшой перевес в сторону воителей. Т.е. пропорционально для этого канала характерно привлекать чуть больше воителей,чем для остальных каналов. Но речь лишь о единицах процентов.\n",
    "* Можно сделать вывод о том, что лучше всего с задачей привлечения пользоватлей справляется Яндекс.Директ. Этот канал привлек больше всего пользователей, а цена привлечения для этого канала сравнительно низкая по сравнению с остальными. Фейсбук показал себя хуже всех, така как привлек мало пользователей, а затраты на этот канал привлечения достаточно высоки по сравнению с тем же Яндекс.Директом.\n",
    "* Время прохождения уровня действительно статистически значимо отличается в зависимости от способа прохождения. Если ориентироваться на средние значения выборок, то можно сказать, что исследователям требуется больше времени, чтобы пройти уровень чем воинам.\n",
    "* В количестве игровых событий между воинами и  исследователями есть статистически значимая разница. На исследователей приходится больше событий.\n",
    "\n",
    "<b><p>Из этого следует, что наиболее эффективным каналом для привлечения пользователей стоит рассматривать Яндекс.Директ, так как соотношение затрат и привлекаемых пользователей в нем наиболее оптимальное. От рекламы через фейсбук возможно стоит отказаться и перераспределить бюджет в пользу более эффективных каналов привлечения.\n",
    "   <p> Каналы привлечения пользователей не привлекают существенно по-разному игроков с разным стилем игрового поведения. Чаще пользователи выбирают путь \"воинственного\" прохождения игры, примерно в два раза чаще чем \"исследовательский\". Однако, игроки-исследователи дольше проходят уровень. Возможно, стоит в дальнейшем провести дополнительное исследование и выяснить существует ли связь между стилем прохождения и удержанием пользователей. Это может быть полезно так как в целом с точки зрения бизнеса игроки-исследователи представляют больший интерес, поскольку совершают больше действий за игру и на них приходится больше игровых событий. Следовательно они чаще чем \"воители\" будут видеть рекламу на экране выбора типа постройки, а именно такая монетизация планируется. Кроме того, в таком случае стоит рассмотреть еще один вариант монетизации для игроков-воителей. Предположительно, такие пользователи хотят пройти игру быстрее, соответственно можно разработать систему монетизации в которой игроки могут ускорять процесс постройки зданий необходимых для прохождения уровня, как вариант."
   ]
  },
  {
   "cell_type": "code",
   "execution_count": null,
   "id": "7cbdaf3d",
   "metadata": {},
   "outputs": [],
   "source": []
  }
 ],
 "metadata": {
  "kernelspec": {
   "display_name": "Python 3 (ipykernel)",
   "language": "python",
   "name": "python3"
  },
  "language_info": {
   "codemirror_mode": {
    "name": "ipython",
    "version": 3
   },
   "file_extension": ".py",
   "mimetype": "text/x-python",
   "name": "python",
   "nbconvert_exporter": "python",
   "pygments_lexer": "ipython3",
   "version": "3.9.7"
  }
 },
 "nbformat": 4,
 "nbformat_minor": 5
}
